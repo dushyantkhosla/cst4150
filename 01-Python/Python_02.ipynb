{
 "cells": [
  {
   "cell_type": "markdown",
   "metadata": {},
   "source": [
    "# Python Standard Library - Data Structures\n",
    "---\n",
    "\n",
    "Python's built-in data structures are simple, but quite powerful **containers for data**. \n",
    "Understanding them well and mastering their use is critical for a programmer to write efficient code for doing data science.\n",
    "\n",
    "Also known as $Collections$, the Python standard library contains containers such as `Tuples`, `Lists`, `Dictionaries` and `Sets`, \n",
    "each of which are characterized by a few common features such as\n",
    "\n",
    "- They are *iterable* and can be *subscripted* for accessing elements\n",
    "- They may or may not be *immutable*\n",
    "\n",
    "Also important to know and remember about these containers is \n",
    "\n",
    "- how data is stored in them\n",
    "- methods that work on them such as *search*\n",
    "- applications they’re most suitable for\n",
    "\n",
    "There are many more higher-level containers, you may read about them [here](https://docs.python.org/3/library/collections.html)\n",
    "\n",
    "## Tuple\n",
    "\n",
    "A `tuple` is a sequence of Python objects that is\n",
    "\n",
    "- one-dimensional, ordered, indexable\n",
    "- each element can be of a different type\n",
    "- immutable once created, hence also fixed-length\n",
    "\n",
    "> Many functions from data science libraries like scikit-learn take tuples as arguments or produce tuples as output. <br> It is therefore important to understand how they work and what are their advantages and limitations.\n",
    "\n",
    "### Creating `tuple` objects\n",
    "\n",
    "We can create tuples in two ways\n",
    "- A comma-separated sequence of values assigned to a variable (optional: placed inside parentheses)\n",
    "- Calling `tuple()` on any one-dimensional collection/container (eg. a list)\n",
    "\n",
    "```python\n",
    "tup = 1, 2, 6\n",
    "nested_tup = (('a', 'b', 'c'), (1, 2), 'xyz', 123)\n",
    "\n",
    "tuple([3.3, 1.1, 4.0])\n",
    "tuple('forests')\n",
    "```\n",
    "\n",
    "#### Task - Run the following code. Note what happens. Why?\n",
    "\n",
    "```python\n",
    "tuple_1 = (1, 2, 3)\n",
    "tuple_1[2] = 4\n",
    "```"
   ]
  },
  {
   "cell_type": "code",
   "execution_count": null,
   "metadata": {},
   "outputs": [],
   "source": [
    "# create a tuple"
   ]
  },
  {
   "cell_type": "markdown",
   "metadata": {},
   "source": [
    "### Accessing elements of a `tuple`\n",
    "\n",
    "Subsetting works via the square brackets `.[index]` accessor with single indexes `0 < index < N-1` or *splices* such as `tup_1[0:5]`\n",
    "\n",
    "An example\n",
    "\n",
    "```python\n",
    "In : nested_tup[0]\n",
    "Out: ('a', 'b', 'c')\n",
    "```\n",
    "\n",
    "Try it out for yourself in the cell below"
   ]
  },
  {
   "cell_type": "code",
   "execution_count": null,
   "metadata": {},
   "outputs": [],
   "source": [
    "# access an element"
   ]
  },
  {
   "cell_type": "markdown",
   "metadata": {},
   "source": [
    "### Tuple Concatenation \n",
    "\n",
    "The `+` operator joins tuples to form longer tuples\n",
    "\n",
    "An example\n",
    "\n",
    "```python\n",
    "(3, None, 'foo') + (0, -2.22) + ('bar', 'xyz')\n",
    "```\n",
    "\n",
    "Try it out for yourself in the cell below"
   ]
  },
  {
   "cell_type": "code",
   "execution_count": null,
   "metadata": {},
   "outputs": [],
   "source": [
    "# add two tuples"
   ]
  },
  {
   "cell_type": "markdown",
   "metadata": {},
   "source": [
    "### Tuple $unpacking$\n",
    "\n",
    "In an assignment statement, corresponding elements of a tuple will be assigned to respective objects on the right-hand-side (given that the number of objects is the same as length of the tuple.) \n",
    "This makes it very easy to swap variables, a task that requires a third variable in other languages.\n",
    "\n",
    "> This pattern is frequently used in data science when calling modelling functions that return tuples, such as `train_test_split`\n",
    "\n",
    "An example\n",
    "\n",
    "```python\n",
    "a, b, c = (1, 2, 3) \n",
    "# equivalent to writing a=1; b=2; c=3\n",
    "\n",
    "a, b = b, a \n",
    "# a and b swap values\n",
    "```\n",
    "\n",
    "Try it out for yourself in the cell below"
   ]
  },
  {
   "cell_type": "code",
   "execution_count": null,
   "metadata": {},
   "outputs": [],
   "source": [
    "# unpack a tuple into variables"
   ]
  },
  {
   "cell_type": "markdown",
   "metadata": {},
   "source": [
    "### Tuple Methods \n",
    "\n",
    "- There aren't too many methods that work on Tuples. \n",
    "- `count` and `index` are useful\n",
    "\n",
    "An example \n",
    "\n",
    "```python\n",
    "In:\n",
    "tup_1 = ('a', 'p', 'p', 'l', 'e')\n",
    "print(tup_1)\n",
    "print(tup_1.count('p'))\n",
    "print(tup_1.index('l'))\n",
    "\n",
    "Out:\n",
    "('a', 'p', 'p', 'l', 'e')\n",
    "2\n",
    "3\n",
    "```\n",
    "\n",
    "Try it out for yourself in the cell below."
   ]
  },
  {
   "cell_type": "code",
   "execution_count": null,
   "metadata": {},
   "outputs": [],
   "source": [
    "# tuple methods"
   ]
  },
  {
   "cell_type": "markdown",
   "metadata": {
    "tags": []
   },
   "source": [
    "### Tuples - Coding practice\n",
    "\n",
    "- Try to predict what will happen when you run the following code?"
   ]
  },
  {
   "cell_type": "raw",
   "metadata": {},
   "source": [
    "tup_1 = ('a', 'p', 'p', 'l', 'e', ('a', 'b', 'c'))\n",
    "print(tup_1)"
   ]
  },
  {
   "cell_type": "raw",
   "metadata": {},
   "source": [
    "tup_1[-1]"
   ]
  },
  {
   "cell_type": "raw",
   "metadata": {},
   "source": [
    "print tup_1.count('p')\n",
    "print tup_1.index('l')"
   ]
  },
  {
   "cell_type": "raw",
   "metadata": {},
   "source": [
    "a, b, c = (1, 2, 3)\n",
    "b, c = c, b\n",
    "print (a, b, c)"
   ]
  },
  {
   "cell_type": "raw",
   "metadata": {},
   "source": [
    "tup_1[:3]"
   ]
  },
  {
   "cell_type": "raw",
   "metadata": {},
   "source": [
    "tup_1 + (1, 2, 3) + (list('pqr'), list('xyz'))"
   ]
  },
  {
   "cell_type": "raw",
   "metadata": {},
   "source": [
    "tup_1[0:2] = ('m', 'a')"
   ]
  },
  {
   "cell_type": "raw",
   "metadata": {},
   "source": [
    "tup_1 = tuple('orange')\n",
    "print(tup_1)"
   ]
  },
  {
   "cell_type": "raw",
   "metadata": {},
   "source": [
    "tup_1[-1] = 'E'"
   ]
  },
  {
   "cell_type": "raw",
   "metadata": {},
   "source": [
    "tup_1.count('b')"
   ]
  },
  {
   "cell_type": "raw",
   "metadata": {},
   "source": [
    "tup_1.index('e')"
   ]
  },
  {
   "cell_type": "raw",
   "metadata": {},
   "source": [
    "for x in tup_1:\n",
    "    print x"
   ]
  },
  {
   "cell_type": "markdown",
   "metadata": {},
   "source": [
    "<br>\n",
    "\n",
    "---\n",
    "## Lists `list`\n",
    "\n",
    "A Python list is simply an ordered collection of values or objects. \n",
    "It is similar to what in other languages might be called an array, but with some added functionality. \n",
    "\n",
    "Lists are\n",
    "- one-dimensional\n",
    "- containers for collections of objects of any type\n",
    "- variable-length\n",
    "- mutable, ie, their contents can be modified in-place\n",
    "\n",
    "### Importance of Lists\n",
    "\n",
    "Lists are frequently used as the preferred containers \n",
    "    - for storing column and row names in a table\n",
    "    - for iterating over ranges\n",
    "    - for creating new features\n",
    "\n",
    "### Creating `list` objects\n",
    "\n",
    "Lists can be defined using\n",
    "\n",
    "- square brackets `[]`\n",
    "- calling the `list()` function on an iterable\n",
    "- Python functions that produce lists (such as `range`), and $Comprehensions$\n",
    "\n",
    "Examples\n",
    "\n",
    "```python\n",
    "int_list = [1, 2, 3]\n",
    "mixed_list = [\"string\", 0.1, True]\n",
    "list_of_lists = [int_list, mix_list, [‘A’, ‘B’]]\n",
    "x = range(10)\n",
    "```\n",
    "\n",
    "Try it out in the cell below \n",
    "\n",
    "<br>"
   ]
  },
  {
   "cell_type": "code",
   "execution_count": null,
   "metadata": {},
   "outputs": [],
   "source": [
    "# make a list"
   ]
  },
  {
   "cell_type": "markdown",
   "metadata": {},
   "source": [
    "<br>\n",
    "\n",
    "---\n",
    "\n",
    "### Subsetting: Accessing elements of a `list`\n",
    "\n",
    "- Single elements can be accessed using their index or position\n",
    "\n",
    "```python\n",
    "list_1 = [1, 12, 34, 49, -97, 0, -15, 8]\n",
    "list_1[4] # fetches the 5th element\n",
    "list_1[‐1] # fetches the last element\n",
    "```\n",
    "\n",
    "- Subsets of lists (smaller lists) can be accessed using **integer slicing**\n",
    "\n",
    "```python\n",
    "list_1[:4] # first four elements\n",
    "list_1[4:] # all elements from fourth to the end\n",
    "list_1[1:5] # second to fifth\n",
    "list_1[‐3:] # last three\n",
    "list_1[::-1] # reverse the list\n",
    "```\n",
    "\n",
    "Try it out in the cell below \n",
    "\n",
    "<br>"
   ]
  },
  {
   "cell_type": "code",
   "execution_count": null,
   "metadata": {},
   "outputs": [],
   "source": [
    "# subset and slice"
   ]
  },
  {
   "cell_type": "markdown",
   "metadata": {},
   "source": [
    "<br>\n",
    "\n",
    "---\n",
    "\n",
    "### List methods\n",
    "\n",
    "List objects in Python have convenient methods to append, remove, extract, insert and sort elements\n",
    "- `.append()` adds a single element at the end of the list\n",
    "- `.extend()` adds multiple elements at the end of an existing list\n",
    "  - Lists can be also be concatenated using the `+` operator\n",
    "- `.insert()` to insert elements at a specific index (this is an expensive operation)\n",
    "- `.pop()` removes and returns an element at a particular index (default: from the end)\n",
    "- `.remove()` takes an element as input and removes its first occurrence\n",
    "- `.sort()` is used to sort a list in the ascending order (default action) in-place\n",
    "  - The `reverse=True` parameter sorts the list in reverse order\n",
    "\n",
    "#### Task: Try the following code and observe the output\n",
    "\n",
    "```python\n",
    "x = ['x', 'y', 'z']\n",
    "x.append(‘a’)\n",
    "x.extend([10, 11, 12])\n",
    "[1, 2, 3] + [‘a’, ‘b’, ‘c’]\n",
    "x.insert(3, ‘a’)\n",
    "x.pop()\n",
    "x.remove(10)\n",
    "\n",
    "x = range(10, 1, -1)\n",
    "print(\"Before Sort:\", x)\n",
    "x.sort()\n",
    "print(\"After Sort:\", x)\n",
    "\n",
    "y = list('abcde')\n",
    "print(\"Before Sort:\", y)\n",
    "y.sort(reverse=True)\n",
    "print(\"After Sort:\", y)\n",
    "``` \n",
    "\n",
    "<br>"
   ]
  },
  {
   "cell_type": "code",
   "execution_count": null,
   "metadata": {},
   "outputs": [],
   "source": [
    "# list methods"
   ]
  },
  {
   "cell_type": "markdown",
   "metadata": {},
   "source": [
    "<br>\n",
    "\n",
    "---\n",
    "\n",
    "### Functions that work on `list` objects\n",
    "\n",
    "In addition to methods, Python also has a few general-purpose functions that work with lists\n",
    "- `len()` returns the number of elements in the list\n",
    "- `in` checks whether an element belongs to a list and returns a boolean\n",
    "- `sorted()` returns a new list from the elements of given list, sorted in ascending order (default action)\n",
    "- `reversed()` yields an iterator to go over the list in reverse order\n",
    "\n",
    "#### Task: Try the following code and observe the output\n",
    "\n",
    "```python\n",
    "x = list(‘just a string’)\n",
    "len(x)\n",
    "'t' in x\n",
    "sorted(x)\n",
    "reversed(x)\n",
    "``` \n",
    "\n",
    "<br>"
   ]
  },
  {
   "cell_type": "code",
   "execution_count": null,
   "metadata": {},
   "outputs": [],
   "source": [
    "# functions on lists"
   ]
  },
  {
   "cell_type": "markdown",
   "metadata": {},
   "source": [
    "<br>\n",
    "\n",
    "---\n",
    "\n",
    "### List $unpacking$\n",
    "\n",
    "Works a lot like tupleunpacking, where you can assign list elements to objects using an assignment statement\n",
    "\n",
    "```python\n",
    "a, b, c, d = [1, 2, 3, 4]\n",
    "``` \n",
    "\n",
    "<br>"
   ]
  },
  {
   "cell_type": "code",
   "execution_count": null,
   "metadata": {},
   "outputs": [],
   "source": [
    "# list unpacking"
   ]
  },
  {
   "cell_type": "markdown",
   "metadata": {},
   "source": [
    "<br>\n",
    "\n",
    "---\n",
    "\n",
    "### Lists - Coding practice\n",
    "\n",
    "- Change the type of each cell to code and run it\n",
    "- Try to predict what will happen, comment and explain what the code does\n",
    " \n",
    "<br>"
   ]
  },
  {
   "cell_type": "raw",
   "metadata": {},
   "source": [
    "list((1, 2, 3))"
   ]
  },
  {
   "cell_type": "raw",
   "metadata": {},
   "source": [
    "num_l = [3, 17, 155, 90, 864]"
   ]
  },
  {
   "cell_type": "raw",
   "metadata": {},
   "source": [
    "mixed_l = ['a', 1, True, 0.9, ['A', 'B'], ('m', 'n', 0, 0), None]\n",
    "mixed_l.append('NA')\n",
    "print(mixed_l)"
   ]
  },
  {
   "cell_type": "raw",
   "metadata": {},
   "source": [
    "type(num_l)"
   ]
  },
  {
   "cell_type": "raw",
   "metadata": {},
   "source": [
    "len(num_l)"
   ]
  },
  {
   "cell_type": "raw",
   "metadata": {},
   "source": [
    "num_l.append(17)\n",
    "print(num_l)"
   ]
  },
  {
   "cell_type": "raw",
   "metadata": {},
   "source": [
    "num_l.count(17)"
   ]
  },
  {
   "cell_type": "raw",
   "metadata": {},
   "source": [
    "num_l.pop(); num_l"
   ]
  },
  {
   "cell_type": "raw",
   "metadata": {},
   "source": [
    "num_l.remove(155)\n",
    "print(num_l)"
   ]
  },
  {
   "cell_type": "raw",
   "metadata": {},
   "source": [
    "num_l.reverse()\n",
    "print(num_l)"
   ]
  },
  {
   "cell_type": "raw",
   "metadata": {},
   "source": [
    "sorted(num_l)"
   ]
  },
  {
   "cell_type": "raw",
   "metadata": {},
   "source": [
    "num_l.sort()\n",
    "print(num_l)"
   ]
  },
  {
   "cell_type": "raw",
   "metadata": {},
   "source": [
    "list_1 = [1, 99, -324, 78, 1123, -4, 90]"
   ]
  },
  {
   "cell_type": "raw",
   "metadata": {},
   "source": [
    "%timeit sorted(list_1)"
   ]
  },
  {
   "cell_type": "raw",
   "metadata": {},
   "source": [
    "%timeit list_1.sort()"
   ]
  },
  {
   "cell_type": "raw",
   "metadata": {},
   "source": [
    "%timeit list_1.reverse()"
   ]
  },
  {
   "cell_type": "raw",
   "metadata": {},
   "source": [
    "%timeit list_1[::-1]"
   ]
  },
  {
   "cell_type": "raw",
   "metadata": {},
   "source": [
    "## Creation of Lists \n",
    "range(10)\n",
    "range(5, 10)\n",
    "range(-10, 10, 2)\n",
    "range(0, 1, 0.1)\n",
    "\n",
    "import numpy as np\n",
    "print(np.arange(0, 1, 0.1))\n",
    "\n",
    "np.linspace(0, 1, 11)"
   ]
  },
  {
   "cell_type": "raw",
   "metadata": {},
   "source": [
    "# List Subsetting/splicing\n",
    "# Syntax: `my_list[start : stop : step]`\n",
    "\n",
    "num_l.extend([-1, 10, 15])\n",
    "num_l[0]\n",
    "num_l[1]\n",
    "num_l[0:5]\n",
    "num_l[:5]\n",
    "num_l[6:]\n",
    "num_l[-1]\n",
    "num_l[:]\n",
    "num_l[::-1]\n",
    "num_l.reverse()"
   ]
  },
  {
   "cell_type": "raw",
   "metadata": {},
   "source": [
    "# Create list from string\n",
    "str_l = list('abcdefghijk')\n",
    "print(str_l)\n",
    "\n",
    "str_l[0:5]\n",
    "str_l.append('l')\n",
    "\n",
    "str_l.index('l')\n",
    "\n",
    "my_string = 'a quick brown fox'\n",
    "\n",
    "type(my_string)\n",
    "\n",
    "my_string[:10:2]\n",
    "\n",
    "my_string[1::3]"
   ]
  },
  {
   "cell_type": "raw",
   "metadata": {},
   "source": [
    "# List of lists (nested)\n",
    "\n",
    "mixed_list = [1, 2, 'a', 'b', True, False, (1, 2, 3), [1, 2, ['p', 'q', 'r']]]\n",
    "\n",
    "len(mixed_list)\n",
    "\n",
    "mixed_list[7][2][:2][::-1]\n",
    "\n",
    "'z' in mixed_list\n",
    "\n",
    "(1, 2, 3) in mixed_list\n",
    "\n",
    "mixed_list.index('b')\n",
    "\n",
    "mixed_list.index((1, 2, 3))"
   ]
  },
  {
   "cell_type": "raw",
   "metadata": {},
   "source": [
    "# Iterating over lists\n",
    "\n",
    "breakfast = ['ham', 'eggs', 'bacon', 'coffee', 'toast', 'jam']\n",
    "\n",
    "'jam' in breakfast\n",
    "\n",
    "for i in breakfast:\n",
    "    print(i)\n",
    "\n",
    "for something in breakfast:\n",
    "    print(something[:3], '\\t')\n",
    "\n",
    "iter(breakfast)\n",
    "\n",
    "iter(5)"
   ]
  },
  {
   "cell_type": "markdown",
   "metadata": {},
   "source": [
    "<br>\n",
    "\n",
    "---\n",
    "## Careful when copying mutable objects\n",
    "\n",
    "- Whenever you find yourself typing something like `list_1 = list_2`, stop and think about the consequences. \n",
    "- When binding lists with variable names, you are passing a 'reference' to the data, not the actual data\n",
    "    - Copies aren't created, instead you have 2 variables *pointing* to the same memory location\n",
    "    - This means that modifying either of `list_a` or `list_b` will change the object they point to\n",
    "- It's like a shared bank account of 2 people, anyone can debit or credit money in it, it will change the amount in the account\n",
    "\n",
    "> PS: <br> Use the `id()` function to find the address of the memory location where an object is stored\n",
    "\n",
    "Examples\n",
    "\n",
    "```python\n",
    "In : list_1 = range(10)\n",
    "In : print(list_1)\n",
    "Out: [0, 1, 2, 3, 4, 5, 6, 7, 8, 9]\n",
    "\n",
    "In : list_2 = list_1\n",
    "\n",
    "In : id?\n",
    "\n",
    "In : id(list_1)\n",
    "Out: 4396728616\n",
    "\n",
    "In : id(list_2)\n",
    "Out: 4396728616\n",
    "\n",
    "In : list_1.append(10)\n",
    "In : print(list_1)\n",
    "Out: [0, 1, 2, 3, 4, 5, 6, 7, 8, 9, 10]\n",
    "\n",
    "In : print(list_2)\n",
    "Out: [0, 1, 2, 3, 4, 5, 6, 7, 8, 9, 10]\n",
    "\n",
    "In : list_2.remove(5)\n",
    "In : print(list_1)\n",
    "Out: [0, 1, 2, 3, 4, 6, 7, 8, 9, 10]\n",
    "```\n",
    "\n",
    "To avoid this, when you want to copy a list, use (1) the list function (2) the `.copy()` method\n",
    "\n",
    "```python\n",
    "In : list_1 = range(10)\n",
    "\n",
    "In : list_2 = list_1\n",
    "In : id(list_1) == id(list_2)\n",
    "Out: True\n",
    "\n",
    "In : list_3 = list(list_2)\n",
    "In : id(list_3) == id(list_2)\n",
    "Out: False\n",
    "\n",
    "In : list_4 = list_3.copy()\n",
    "In : id(list_4) == id(list_3)\n",
    "Out: False\n",
    "```\n",
    "\n",
    "Try these out below\n",
    "\n",
    "<br>"
   ]
  },
  {
   "cell_type": "code",
   "execution_count": null,
   "metadata": {},
   "outputs": [],
   "source": [
    "# practice - call by reference"
   ]
  },
  {
   "cell_type": "markdown",
   "metadata": {},
   "source": [
    "<br>\n",
    "\n",
    "---\n",
    "## Dictionaries `dict`\n",
    "\n",
    "`dict` is likely the *most important* built-in Python data container\n",
    "It is a collection of **key-value pairs** (where key and value are Python objects) and has the following properties\n",
    "- flexibly-sized \n",
    "- unordered \n",
    "- mutable \n",
    "\n",
    "Example: A Python dictionary to store 4 bits of information about a book\n",
    "\n",
    "```python\n",
    "doc_info = {\n",
    "  \"author\": \"dushyant\",\n",
    "  \"title\": \"Data Science in Python\",\n",
    "  \"chapters\": 10,\n",
    "  \"tags\": [\"#data\", \"#science\", \"#datascience\", \"#python\", \"#analysis\"]\n",
    "}\n",
    "```\n",
    "\n",
    "### Creating `dict` objects\n",
    "\n",
    "Dictionaries can be created using \n",
    "\n",
    "- comma-separated collection of colon-separated key-value pairs\n",
    "- dictionary comprehensions\n",
    "- from another object that stores key-value pairs, such as a `Series` from `pandas`\n",
    "\n",
    "```python\n",
    "empty_dict = {}\n",
    "a_dict = {‘key_1’:12, ‘key_2’:36}\n",
    "b_dict = {'a': 'a string', 'b' : [1, 2, 3, 4]}\n",
    "```\n",
    "\n",
    "Try it out \n",
    "\n",
    "<br>"
   ]
  },
  {
   "cell_type": "code",
   "execution_count": null,
   "metadata": {},
   "outputs": [],
   "source": [
    "# create a dictionary with 5 string keys and 5 float values"
   ]
  },
  {
   "cell_type": "markdown",
   "metadata": {},
   "source": [
    "<br>\n",
    "\n",
    "---\n",
    "### Subsetting: Accessing elements of a `dict`\n",
    "\n",
    "This is done using \n",
    "- the square brackets accessor `my_dict[key_1]`, or\n",
    "- using the `.get()` method which handles errors gracefully\n",
    "\n",
    "```python\n",
    "a_dict['key_2']\n",
    "b_dict.get('a')\n",
    "b_dict.get('c', 'Not found')\n",
    "```\n",
    "\n",
    "Try these out below\n",
    "\n",
    "<br>"
   ]
  },
  {
   "cell_type": "code",
   "execution_count": null,
   "metadata": {},
   "outputs": [],
   "source": [
    "# dict subsetting"
   ]
  },
  {
   "cell_type": "markdown",
   "metadata": {},
   "source": [
    "<br>\n",
    "\n",
    "---\n",
    "### `dict` methods\n",
    "\n",
    "Dictionaries have the following important methods\n",
    "\n",
    "- `.keys()` returns the keys (as a list)\n",
    "- `.values()`  returns the values (as a list)\n",
    "- `.items()` returns the key-value pairs (as a list of tuples)\n",
    "- `.get(key, robj)` returns the value for the key provided. If key does not exist, it returns the return object provided\n",
    "- `.pop(key)` removes the key-value pair for the key provided \n",
    "- `.update(dict)` merges two dictionaries and does not return a value\n",
    "\n",
    "### Task: Create a dictionary and experiment with these methods\n",
    "\n",
    "<br>"
   ]
  },
  {
   "cell_type": "code",
   "execution_count": null,
   "metadata": {},
   "outputs": [],
   "source": [
    "# dict methods"
   ]
  },
  {
   "cell_type": "markdown",
   "metadata": {},
   "source": [
    "<br> \n",
    "\n",
    "---\n",
    "### Functions that work on `dict` objects\n",
    "\n",
    "- Check if a `dict` contains a key using the `in` keyword\n",
    "  - Example `'d' in b_dict`\n",
    "  - This search is faster than lists or tuples because dictionary keys are *hashed*\n",
    "- The `del` keyword is used to delete the key-value pair associated with the passed key\n",
    "  - Example: `del a_dict['key_1']`\n",
    "  \n",
    "<br>"
   ]
  },
  {
   "cell_type": "code",
   "execution_count": null,
   "metadata": {},
   "outputs": [],
   "source": [
    "# in, del keywords"
   ]
  },
  {
   "cell_type": "markdown",
   "metadata": {},
   "source": [
    "<br> \n",
    "\n",
    "---\n",
    "### `dict` coding practice\n",
    "\n",
    "- Change the type of each cell to code and run it\n",
    "- Try to predict what will happen, comment and explain what the code does\n",
    " \n",
    "<br>"
   ]
  },
  {
   "cell_type": "raw",
   "metadata": {},
   "source": [
    "dict_1 = {'abc': 123, \n",
    "          'def': 456, \n",
    "          'ghi': 789}"
   ]
  },
  {
   "cell_type": "raw",
   "metadata": {},
   "source": [
    "dict_1.values()"
   ]
  },
  {
   "cell_type": "raw",
   "metadata": {},
   "source": [
    "type(dict_1)"
   ]
  },
  {
   "cell_type": "raw",
   "metadata": {},
   "source": [
    "dict_1.get('def')"
   ]
  },
  {
   "cell_type": "raw",
   "metadata": {},
   "source": [
    "dict_1['def']"
   ]
  },
  {
   "cell_type": "raw",
   "metadata": {},
   "source": [
    "dict_1['xyz']"
   ]
  },
  {
   "cell_type": "raw",
   "metadata": {},
   "source": [
    "dict_1.get('xyz', \"NA\")"
   ]
  },
  {
   "cell_type": "raw",
   "metadata": {},
   "source": [
    "generic_dictionary = {'key_1': 'abc',\n",
    "                     'key_2': 10,\n",
    "                     'key_3': [1, 2, 3],\n",
    "                     'key_4': (1, 2)}"
   ]
  },
  {
   "cell_type": "raw",
   "metadata": {},
   "source": [
    "# BASIC METHODS \n",
    "print(dict_1.keys())\n",
    "print(dict_1.values())\n",
    "print(dict_1)"
   ]
  },
  {
   "cell_type": "raw",
   "metadata": {},
   "source": [
    "dict_1['abc']"
   ]
  },
  {
   "cell_type": "raw",
   "metadata": {},
   "source": [
    "dict_1['ghi']"
   ]
  },
  {
   "cell_type": "raw",
   "metadata": {},
   "source": [
    "dict_1['jkl'] = 101"
   ]
  },
  {
   "cell_type": "raw",
   "metadata": {},
   "source": [
    "dict_1"
   ]
  },
  {
   "cell_type": "raw",
   "metadata": {},
   "source": [
    "d_1 = {}"
   ]
  },
  {
   "cell_type": "raw",
   "metadata": {},
   "source": [
    "type(d_1)"
   ]
  },
  {
   "cell_type": "raw",
   "metadata": {},
   "source": [
    "d_1['key_1'] = 'value_1'\n",
    "d_1['key_2'] = ['value', 2]\n",
    "d_1['key_3'] = (1, 2, 3)"
   ]
  },
  {
   "cell_type": "raw",
   "metadata": {},
   "source": [
    "print(d_1.keys())\n",
    "print(d_1.values())\n",
    "print(d_1.items())"
   ]
  },
  {
   "cell_type": "raw",
   "metadata": {},
   "source": [
    "dict_1"
   ]
  },
  {
   "cell_type": "raw",
   "metadata": {},
   "source": [
    "print(dict_1['abc'])\n",
    "\n",
    "# same as \n",
    "print(dict_1.get('abc'))"
   ]
  },
  {
   "cell_type": "raw",
   "metadata": {},
   "source": [
    "dict_1['xyz']"
   ]
  },
  {
   "cell_type": "raw",
   "metadata": {},
   "source": [
    "dict_1.get('xyz', 'Not Found') "
   ]
  },
  {
   "cell_type": "raw",
   "metadata": {},
   "source": [
    "# Same as\n",
    "print dict_1['xyz'] if 'xyz' in dict_1.keys() else 'Not Found'"
   ]
  },
  {
   "cell_type": "raw",
   "metadata": {},
   "source": [
    "# Is a key present in a dict\n",
    "print(dict_1)\n",
    "\n",
    "'xyz' in dict_1"
   ]
  },
  {
   "cell_type": "raw",
   "metadata": {},
   "source": [
    "'ghi' in dict_1"
   ]
  },
  {
   "cell_type": "raw",
   "metadata": {},
   "source": [
    "## Merging Dictionaries\n",
    "\n",
    "d_x = {'a': 1, 'b': 2, 'c': 3}\n",
    "d_x.update({'a': 10, 'c':30, 'x':-9})\n",
    "\n",
    "print(d_x)"
   ]
  },
  {
   "cell_type": "markdown",
   "metadata": {},
   "source": [
    "<br>\n",
    "\n",
    "---\n",
    "### Task: Diner Menu\n",
    "\n",
    "Using the data below\n",
    "\n",
    "```python\n",
    "food = ['ham', 'eggs', 'bacon', 'coffee', 'toast', 'jam']\n",
    "price = [2, 0.5, 1, 1, 0.2, 0.1]\n",
    "```\n",
    "\n",
    "- Create a dictionary called Diner, using these keys and keep values as prices\n",
    "- Find out if 'pancakes' is available at the Diner. If not, add it to the menu for USD 4\n",
    "- Poultry prices have gone up. Change the price of 'eggs' to USD 3.40\n",
    "- We are no longer serving pork products. Get rid of bacon.\n",
    "- Use a for loop to print the entire menu.\n",
    "\n",
    "<br>"
   ]
  },
  {
   "cell_type": "markdown",
   "metadata": {},
   "source": [
    "<br> \n",
    "\n",
    "---\n",
    "## Sets `set`\n",
    "\n",
    "\n",
    "- A `set` is an *unordered* collection of **unique** elements\n",
    "- They can be thought of being like dicts, but keys only - no values\n",
    "- Quite useful for set-theory operations such as *union, intersection, difference*\n",
    "\n",
    "\n",
    "---\n",
    "### Creating `set` objects\n",
    "\n",
    "A set can be created in two ways:\n",
    "\n",
    "- By calling the function `set()` on a one-dimensional collection\n",
    "- Using curly braces oprator `{}`\n",
    "\n",
    "```python\n",
    "In : set_1 = set([2, 2, 2, 1, 3, 3])\n",
    "In : print(set_1)\n",
    "Out: set([1, 2, 3])\n",
    "```\n",
    "\n",
    "---\n",
    "### `set` Methods\n",
    "\n",
    "Sets support mathematical set operations like union, intersection, difference, and symmetric difference.\n",
    "\n",
    "- `set_a.union(set_b)` returns a collection of unique elements from sets a and b\n",
    "- `set_a.intersection(set_b)` returns a collection of unique common elements from sets a and b\n",
    "- `set_a.difference(set_b)` returns a collection of unique elements from set a that are not in b\n",
    "\n",
    "Examples\n",
    "\n",
    "```python\n",
    "In:\n",
    "setx = {1, 2, 3, 4}\n",
    "sety = {3, 4, 5, 6}\n",
    "print(setx.union(sety))\n",
    "print(setx.intersection(sety))\n",
    "print(setx.difference(sety))\n",
    "\n",
    "Out:\n",
    "set([1, 2, 3, 4, 5, 6])\n",
    "set([3, 4])\n",
    "set([1, 2])\n",
    "```\n",
    "\n",
    "Try these operations out below\n",
    "\n",
    "<br>"
   ]
  },
  {
   "cell_type": "code",
   "execution_count": null,
   "metadata": {},
   "outputs": [],
   "source": [
    "# set operations practice"
   ]
  },
  {
   "cell_type": "markdown",
   "metadata": {},
   "source": [
    "<br> \n",
    "\n",
    "---\n",
    "#### Task: Explore `set` methods \n",
    "\n",
    "- Find 3 methods not listed above\n",
    "- What is their function?\n",
    "\n",
    "Use the cell below\n",
    "\n",
    "<br>"
   ]
  },
  {
   "cell_type": "code",
   "execution_count": null,
   "metadata": {},
   "outputs": [],
   "source": [
    "# set methods for updating / deleting"
   ]
  },
  {
   "cell_type": "markdown",
   "metadata": {},
   "source": [
    "<br>\n",
    "\n",
    "---\n",
    "### Searching for elements in a `set`\n",
    "\n",
    "- The `in` keyword can be used to find if an item belongs to a collection\n",
    "- However, not all collections are equally performant for this operation\n",
    "  - A `list` is searched using a linear scan - this becomes slower for longer lists\n",
    "  - A `set` or `dict` is searched based on *hashes* meanning the search is completed in constant time regardless of size\n",
    "\n",
    "```python\n",
    "In:\n",
    "list_1 = range(10_000)\n",
    "set_1 = set(list_1)\n",
    "\n",
    "In: %timeit 1123 in list_1\n",
    "Out: 100000 loops, best of 3: 23.8 µs per loop\n",
    "\n",
    "In: %timeit 1123 in set_1\n",
    "Out: 100000 loops, best of 3: 194 ns per loop\n",
    "```\n",
    "\n",
    "A significant speedup! \n",
    "\n",
    "> Sets are most useful when we want to check if an item belongs to a long list,<br> for example, in checking if a URL is blacklisted or if an email exists in a database\n",
    "\n",
    "\n",
    "<br>\n",
    "\n",
    "Try the exercise below"
   ]
  },
  {
   "cell_type": "code",
   "execution_count": null,
   "metadata": {},
   "outputs": [],
   "source": [
    "# test speed of finding an element in a tuple vs. a dict"
   ]
  },
  {
   "cell_type": "markdown",
   "metadata": {},
   "source": [
    "<br> \n",
    "\n",
    "---\n",
    "### `set` coding practice\n",
    "\n",
    "- Change the type of each cell to code and run it\n",
    "- Try to predict what will happen, comment and explain what the code does\n",
    " \n",
    "<br>"
   ]
  },
  {
   "cell_type": "raw",
   "metadata": {},
   "source": [
    "set_1 = {1, 2, 3, 1, 2, 5, 6, 7}\n",
    "set_1"
   ]
  },
  {
   "cell_type": "raw",
   "metadata": {},
   "source": [
    "set_1[0]"
   ]
  },
  {
   "cell_type": "raw",
   "metadata": {},
   "source": [
    "set_e = set()"
   ]
  },
  {
   "cell_type": "raw",
   "metadata": {},
   "source": [
    "type(set_e)"
   ]
  },
  {
   "cell_type": "raw",
   "metadata": {},
   "source": [
    "3 in set_1"
   ]
  },
  {
   "cell_type": "raw",
   "metadata": {},
   "source": [
    "for i in set_1:\n",
    "    print(i)"
   ]
  },
  {
   "cell_type": "raw",
   "metadata": {},
   "source": [
    "''.join(sorted(list(set(list('a quick brown fox jumps over the lazy dog')))))"
   ]
  },
  {
   "cell_type": "raw",
   "metadata": {},
   "source": [
    "set_2 = set(range(5, 12))\n",
    "set_2"
   ]
  },
  {
   "cell_type": "raw",
   "metadata": {},
   "source": [
    "set_1.difference(set_2)"
   ]
  },
  {
   "cell_type": "raw",
   "metadata": {},
   "source": [
    "set_1 - set_2"
   ]
  },
  {
   "cell_type": "raw",
   "metadata": {},
   "source": [
    "set_1.union(set_2)"
   ]
  },
  {
   "cell_type": "raw",
   "metadata": {},
   "source": [
    "set_1.intersection(set_2)"
   ]
  },
  {
   "cell_type": "raw",
   "metadata": {},
   "source": [
    "set_1"
   ]
  },
  {
   "cell_type": "markdown",
   "metadata": {},
   "source": [
    "<br>\n",
    "\n",
    "---\n",
    "## Functions `zip()` and `enumerate()` \n",
    "\n",
    "- These functions come in handy when dealing with Python collections.\n",
    "- They take in iterable collections as input and produce iterable collections as output\n",
    "- `zip` produces a list of tuples containing corresponding elements from each iterable\n",
    "    - the length of this list is equal to the shortest iterable provided\n",
    "- `enumerate` returns the elements in the iterable with a counter (starts at zero)\n",
    "\n",
    "```python\n",
    "# Syntax\n",
    "zip(iterable_1, iterable_2, iterable_3 ... iterable_n)\n",
    "enumerate(iterable_1)\n",
    "\n",
    "# Examples\n",
    "In : zip([1, 2, 3], (4, 5, 6), ['a', 'b', 'c'])\n",
    "Out: [(1, 4, 'a'), (2, 5, 'b'), (3, 6, 'c')]   \n",
    "\n",
    "In : enumerate(('one','two','three'))\n",
    "Out: <enumerate at 0x10e527500>\n",
    "\n",
    "In : list(enumerate(('one','two','three')))\n",
    "Out: [(0, 'one'), (1, 'two'), (2, 'three')]\n",
    "```\n",
    "\n",
    "Run the examples below\n",
    "\n",
    "<br>"
   ]
  },
  {
   "cell_type": "raw",
   "metadata": {},
   "source": [
    "# Creating a dictionary with zip\n",
    "\n",
    "d1 = {}\n",
    "for k, v in zip(list('abcde'), range(5)):\n",
    "    d1[k] = v\n",
    "\n",
    "d1"
   ]
  },
  {
   "cell_type": "raw",
   "metadata": {},
   "source": [
    "# Zipping lists of different length\n",
    "\n",
    "print(range(1, 7))\n",
    "print(list('abcdefghi')) \n",
    "\n",
    "print(zip(range(1, 7), list('abcdefghi')))"
   ]
  },
  {
   "cell_type": "raw",
   "metadata": {},
   "source": [
    "# without enumerate\n",
    "\n",
    "for idx, char in zip(range(0, len('earth')), 'earth'):\n",
    "    print(idx, char)"
   ]
  },
  {
   "cell_type": "raw",
   "metadata": {},
   "source": [
    "# with enumerate\n",
    "\n",
    "for idx, char in enumerate('earth'):\n",
    "    print(idx, char)"
   ]
  },
  {
   "cell_type": "markdown",
   "metadata": {},
   "source": [
    "<br>\n",
    "\n",
    "----\n",
    "## Comprehensions\n",
    "\n",
    "Comprehensions are Pythonic patterns that condense loops and if-then routines in a single line.<br>\n",
    "They can be seen as a rearragement of code written for a for-loop + if-else\n",
    "\n",
    "Used for\n",
    "\n",
    "- Creating new lists and dictionaries\n",
    "- Filtering existing lists and dictionaries\n",
    "\n",
    "There are extremely powerful programming patterns that express complex logic in a short expression.\n",
    "When writing code for data science, we frequently employ these.\n",
    "\n",
    "**Syntax**\n",
    "\n",
    "```python\n",
    "# List comprehension to filter elements from an iterable \n",
    "[f(x) for x in iterable if condition] \n",
    "\n",
    "# List comprehension to conditionally apply functions to elements\n",
    "[f(x) if condition else g(x) for x in iterable]\n",
    "\n",
    "# Dictionary comprehension to create a dict from filtered iterables\n",
    "{k:v for k,v in zip/enumerate(iterable(s)) if condition}\n",
    "\n",
    "```\n",
    "\n",
    "**Examples**\n",
    "\n",
    "We want to create a list using squares of even numbers and cubes of odd numbers <br>\n",
    "First, *without* comprehension\n",
    "\n",
    "```python\n",
    "list_1 = []\n",
    "for i in range(11):\n",
    "    if i % 2 == 0:\n",
    "        list_1.append(i**2)\n",
    "    else:\n",
    "        list_1.append(i**3)\n",
    "        \n",
    "print(list_1)\n",
    "```    \n",
    "\n",
    "Now, using a list comprehension\n",
    "\n",
    "```python\n",
    "list_1 = [i**2 if i % 2 == 0 else i**3 for i in range(10)]\n",
    "\n",
    "print(list_1)\n",
    "[0, 1, 4, 9, 16, 25, 36, 49, 64, 81]\n",
    "```\n",
    "\n",
    "### How fast are comprehensions?\n",
    "\n",
    "- Run the code below and find out"
   ]
  },
  {
   "cell_type": "code",
   "execution_count": 1,
   "metadata": {},
   "outputs": [
    {
     "name": "stdout",
     "output_type": "stream",
     "text": [
      "[0, 1, 4, 27, 16, 125, 36, 343, 64, 729, 100]\n"
     ]
    }
   ],
   "source": [
    "list_1 = []\n",
    "for i in range(11):\n",
    "    if i % 2 == 0:\n",
    "        list_1.append(i**2)\n",
    "    else:\n",
    "        list_1.append(i**3)\n",
    "        \n",
    "print(list_1)"
   ]
  },
  {
   "cell_type": "code",
   "execution_count": 2,
   "metadata": {},
   "outputs": [
    {
     "name": "stdout",
     "output_type": "stream",
     "text": [
      "109 μs ± 5.82 μs per loop (mean ± std. dev. of 7 runs, 10,000 loops each)\n"
     ]
    }
   ],
   "source": [
    "%%timeit\n",
    "\n",
    "sqrs = []\n",
    "for i in range(10**3):\n",
    "    if i % 2 == 0:\n",
    "        sqrs.append(i**2)"
   ]
  },
  {
   "cell_type": "code",
   "execution_count": 3,
   "metadata": {},
   "outputs": [
    {
     "name": "stdout",
     "output_type": "stream",
     "text": [
      "94.3 μs ± 4.89 μs per loop (mean ± std. dev. of 7 runs, 10,000 loops each)\n"
     ]
    }
   ],
   "source": [
    "%%timeit\n",
    "sqrs = [i**2 for i in range(10**3) if i % 2 == 0]"
   ]
  },
  {
   "cell_type": "markdown",
   "metadata": {},
   "source": [
    "<br>\n",
    "\n",
    "---\n",
    "#### Task: What is the following comprehension doing?\n",
    "\n",
    "```python\n",
    "alphabets = list('abcdefghijklmnouvwxyz')\n",
    "[a.upper() for a in alphabets if a not in set('aeiou')]\n",
    "```\n",
    "\n",
    "<br>\n",
    "\n",
    "Try it out below"
   ]
  },
  {
   "cell_type": "code",
   "execution_count": 4,
   "metadata": {},
   "outputs": [
    {
     "data": {
      "text/plain": [
       "['B',\n",
       " 'C',\n",
       " 'D',\n",
       " 'F',\n",
       " 'G',\n",
       " 'H',\n",
       " 'J',\n",
       " 'K',\n",
       " 'L',\n",
       " 'M',\n",
       " 'N',\n",
       " 'V',\n",
       " 'W',\n",
       " 'X',\n",
       " 'Y',\n",
       " 'Z']"
      ]
     },
     "execution_count": 4,
     "metadata": {},
     "output_type": "execute_result"
    }
   ],
   "source": [
    "# task - alphabets\n",
    "alphabets = list('abcdefghijklmnouvwxyz')\n",
    "[a.upper() for a in alphabets if a not in set('aeiou')]"
   ]
  },
  {
   "cell_type": "markdown",
   "metadata": {},
   "source": [
    "<br>\n",
    "\n",
    "---\n",
    "#### Task: Create a list of numbers from 1 to 100. Store the cubes of all odd numbers in a list called `odd_cubes`\n",
    "\n",
    "<br>"
   ]
  },
  {
   "cell_type": "code",
   "execution_count": null,
   "metadata": {},
   "outputs": [],
   "source": []
  },
  {
   "cell_type": "markdown",
   "metadata": {},
   "source": [
    "<br>\n",
    "\n",
    "---\n",
    "#### Task: Perfect squares\n",
    "\n",
    "- Create a list of numbers from 1 to 1000.  \n",
    "- Create another list from it, called perfect-squares.\n",
    "- That contains only perfect squares.\n",
    "\n",
    "<br>"
   ]
  },
  {
   "cell_type": "code",
   "execution_count": null,
   "metadata": {},
   "outputs": [],
   "source": [
    "# perfect squares"
   ]
  },
  {
   "cell_type": "raw",
   "metadata": {
    "jupyter": {
     "source_hidden": true
    }
   },
   "source": [
    "# solutions\n",
    "\n",
    "[int(n**0.5)**2 for n in range(1,1000) if int(n**0.5)**2==n][:15]\n",
    "\n",
    "import math\n",
    "[i for i in range(1, 1000) if ((math.sqrt(i)-int(math.sqrt(i)))==0)][:15]"
   ]
  },
  {
   "cell_type": "markdown",
   "metadata": {},
   "source": [
    "<br>\n",
    "\n",
    "---\n",
    "#### Task: Create a dictionary of the form {value: value squared}, for multiples of 5 under 51\n",
    "\n",
    "<br>"
   ]
  },
  {
   "cell_type": "code",
   "execution_count": null,
   "metadata": {},
   "outputs": [],
   "source": [
    "# squares of multiples of 5"
   ]
  },
  {
   "cell_type": "markdown",
   "metadata": {},
   "source": [
    "<br>\n",
    "\n",
    "---\n",
    "#### Task: Create a dictionary with the counts for vowels (vowel: count) \n",
    "\n",
    "- Use the sentence 'a quick brown fox jumps over the lazy dog'\n",
    "\n",
    "<br>"
   ]
  },
  {
   "cell_type": "code",
   "execution_count": null,
   "metadata": {},
   "outputs": [],
   "source": [
    "# count vowels"
   ]
  },
  {
   "cell_type": "raw",
   "metadata": {},
   "source": [
    "# solution \n",
    "\n",
    "str_1 = 'a quick brown fox jumps over the lazy dog'\n",
    "{char:str_1.count(char) for char in set(str_1) if char in set('aeiou')}"
   ]
  },
  {
   "cell_type": "markdown",
   "metadata": {},
   "source": [
    "<br>\n",
    "\n",
    "----\n",
    "## Functions\n",
    "\n",
    "\n",
    "Simply put, you can think of functions as groups of code that have a name and can be called using parentheses. \n",
    "\n",
    "But in practice, functions are perhaps the most powerful and convenient way of accomplishing two critical tasks:\n",
    "\n",
    "- code organization (think about your project as being composed of modules, bundle up code in functions for each)\n",
    "- code reuse (functionality that you will use in multiple places)\n",
    "\n",
    "As a direct extension of the famous DRY principle (Don't Repeat Yourself) if you ever find yourself copy-pasting code\n",
    "written earlier in a script to do a similar task, stop and write a function. As a guiding principle, take a leaf from the UNIX\n",
    "philosophy, and\n",
    "\n",
    "> Write short functions that do one thing, but do it really well.\n",
    "\n",
    "Every function in Python is characterized by the following steps:  \n",
    "\n",
    "1. Take some argument(s)\n",
    "2. Flow it through the body of the function\n",
    "3. Return object(s)  \n",
    "\n",
    "---\n",
    "**Syntax**\n",
    "\n",
    "```python\n",
    "# Define function\n",
    "def function_name(parameters):\n",
    "    \"\"\"Docstring\"\"\"\n",
    "    .\n",
    "    .\n",
    "    function_body\n",
    "    .\n",
    "    .\n",
    "    return something\n",
    "\n",
    "# Call function\n",
    "result = function_name(arguments)\n",
    "```\n",
    "\n",
    "**Example**\n",
    "\n",
    "```python\n",
    "def add_one(num):\n",
    "    \"\"\"\n",
    "    This function takes a number, and increases it by 1\n",
    "    Returns the increased value\n",
    "    \"\"\"\n",
    "    return num + 1\n",
    "\n",
    "add_one(99)\n",
    "100\n",
    "```\n",
    "\n",
    "<br>\n",
    "\n",
    "#### Task: Write a function that takes two numbers X and Y and returns X/Y"
   ]
  },
  {
   "cell_type": "code",
   "execution_count": null,
   "metadata": {},
   "outputs": [],
   "source": [
    "# function division"
   ]
  },
  {
   "cell_type": "markdown",
   "metadata": {},
   "source": [
    "---\n",
    "### `args` and `kwargs`\n",
    "\n",
    "- Functions in Python can take positional and keyword arguments. \n",
    "    - Note that when passing both kinds of arguments to a function, the positional arguments should be listed first. \n",
    "- It is also possible to declare default arguments, which will take the values specified with the function's definition, unless overriden by explicitly passing parameters.\n",
    "\n",
    "**Example - args**\n",
    "\n",
    "```python\n",
    "def any_adder(*args):\n",
    "    \"\"\"\n",
    "    args passed will be summed together\n",
    "    This is a flexible function\n",
    "    \"\"\"\n",
    "    return np.sum(args)\n",
    "\n",
    "any_adder(1, 2, 3, 4)\n",
    "10\n",
    "\n",
    "any_adder(10, 78, -234, 99)\n",
    "-47\n",
    "```\n",
    "\n",
    "**Example - kwargs**\n",
    "\n",
    "```python\n",
    "def adder(m, n, *args, **kwargs):\n",
    "    print(\"the first positional arg is \", args[0])\n",
    "    print(\"Name is \", kwargs['name'])\n",
    "    return m + n\n",
    "\n",
    "In : adder(998, 2, 10, 20, 30, 40, 50, name='Dush', car='None', color='Red')\n",
    "\n",
    "Out: \n",
    "the first positional arg is 10\n",
    "Name is Dush\n",
    "1000\n",
    "```"
   ]
  },
  {
   "cell_type": "code",
   "execution_count": null,
   "metadata": {},
   "outputs": [],
   "source": [
    "# practice args and kwargs"
   ]
  },
  {
   "cell_type": "markdown",
   "metadata": {},
   "source": [
    "<br> \n",
    "\n",
    "---\n",
    "## Functions are Objects \n",
    "\n",
    "You can \n",
    "\n",
    "- check their type\n",
    "- put them in a list or dict\n",
    "- return a function from a function\n",
    "\n",
    "Run the examples below \n",
    "\n",
    "<br>"
   ]
  },
  {
   "cell_type": "code",
   "execution_count": 10,
   "metadata": {},
   "outputs": [
    {
     "data": {
      "text/plain": [
       "function"
      ]
     },
     "execution_count": 10,
     "metadata": {},
     "output_type": "execute_result"
    }
   ],
   "source": [
    "def add_one(x):\n",
    "    return x+1\n",
    "\n",
    "type(add_one)"
   ]
  },
  {
   "cell_type": "code",
   "execution_count": 12,
   "metadata": {},
   "outputs": [
    {
     "name": "stdout",
     "output_type": "stream",
     "text": [
      "100\n",
      "100\n"
     ]
    }
   ],
   "source": [
    "def add_ten(x):\n",
    "    return x+10\n",
    "\n",
    "type(add_ten)\n",
    "\n",
    "list_of_funcs = [add_one, add_ten]\n",
    "\n",
    "print(list_of_funcs[0](99))\n",
    "print(list_of_funcs[1](90))"
   ]
  },
  {
   "cell_type": "raw",
   "metadata": {},
   "source": [
    "dict_of_funcs = {\n",
    "    'f1': add_one,\n",
    "    'f2': add_ten,\n",
    "    'f3': np.sqrt\n",
    "}\n",
    "\n",
    "print(dict_of_funcs['f3'](100))"
   ]
  },
  {
   "cell_type": "raw",
   "metadata": {},
   "source": [
    "def meta_func(*args, **kwargs):\n",
    "    \"\"\"\n",
    "    apply the passed function to the passed argument\n",
    "    \"\"\"\n",
    "    return kwargs['func'](args)\n",
    "\n",
    "print(meta_func(range(10), func=np.sum))\n",
    "print(meta_func(range(100), func=np.mean))"
   ]
  },
  {
   "cell_type": "markdown",
   "metadata": {},
   "source": [
    "<br> \n",
    "\n",
    "---\n",
    "## Error Handling\n",
    "\n",
    "- Performed using `try except` construct\n",
    "- First the execution tries to run the code in the try block\n",
    "- If it fails (raises and exception), the code in the Except block is run\n",
    "\n",
    "This is extremely helpful when writing functions to avoid the interruption of program execution due to bad input or any other factor. \n",
    "\n",
    "It allows us to 'catch' the problematic inputs.\n",
    "\n",
    "Run the example below\n",
    "\n",
    "<br>"
   ]
  },
  {
   "cell_type": "code",
   "execution_count": null,
   "metadata": {},
   "outputs": [],
   "source": [
    "def div_by(a, b):\n",
    "    try:\n",
    "        return a/float(b)\n",
    "    except:\n",
    "        return 'Invalid Input'"
   ]
  },
  {
   "cell_type": "raw",
   "metadata": {},
   "source": [
    "div_by(1245, 2)"
   ]
  },
  {
   "cell_type": "raw",
   "metadata": {},
   "source": [
    "div_by(0, 4)"
   ]
  },
  {
   "cell_type": "raw",
   "metadata": {},
   "source": [
    "div_by(4, 0)"
   ]
  },
  {
   "cell_type": "markdown",
   "metadata": {},
   "source": [
    "<br>\n",
    "\n",
    "---\n",
    "#### Task: Write a function to catch invalid input\n",
    "\n",
    "- Your function should take 2 integers as input and return their product\n",
    "- If an invalid argument is passed, such as boolean or string - store it in a separate list\n",
    "\n",
    "<br>"
   ]
  },
  {
   "cell_type": "code",
   "execution_count": null,
   "metadata": {},
   "outputs": [],
   "source": [
    "# function to filter invalid inputs"
   ]
  },
  {
   "cell_type": "markdown",
   "metadata": {},
   "source": [
    "<br>\n",
    "\n",
    "---\n",
    "\n",
    "# Lambda Functions\n",
    "\n",
    "Are a special category of functions that\n",
    "\n",
    "- do not have a name\n",
    "- are temporary in nature and intent\n",
    "- employed when the desired functionality is to use & throw\n",
    "\n",
    "These are used extensively in Data Science with Pandas and scikit-learn\n",
    "\n",
    "<br>"
   ]
  },
  {
   "cell_type": "code",
   "execution_count": null,
   "metadata": {},
   "outputs": [],
   "source": [
    "def squarer(x):\n",
    "    \"\"\"\n",
    "    This function takes a number and returns its square\n",
    "    \"\"\"\n",
    "    return x**2"
   ]
  },
  {
   "cell_type": "code",
   "execution_count": null,
   "metadata": {},
   "outputs": [],
   "source": [
    "squarer(5)"
   ]
  },
  {
   "cell_type": "code",
   "execution_count": null,
   "metadata": {},
   "outputs": [],
   "source": [
    "squarer = lambda x: x**2"
   ]
  },
  {
   "cell_type": "code",
   "execution_count": null,
   "metadata": {},
   "outputs": [],
   "source": [
    "squarer(5)"
   ]
  }
 ],
 "metadata": {
  "anaconda-cloud": {},
  "kernelspec": {
   "display_name": "Python 3 (ipykernel)",
   "language": "python",
   "name": "python3"
  },
  "language_info": {
   "codemirror_mode": {
    "name": "ipython",
    "version": 3
   },
   "file_extension": ".py",
   "mimetype": "text/x-python",
   "name": "python",
   "nbconvert_exporter": "python",
   "pygments_lexer": "ipython3",
   "version": "3.13.3"
  },
  "toc-autonumbering": false,
  "widgets": {
   "state": {},
   "version": "1.1.2"
  }
 },
 "nbformat": 4,
 "nbformat_minor": 4
}
