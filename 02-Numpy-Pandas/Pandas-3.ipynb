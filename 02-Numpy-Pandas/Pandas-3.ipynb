{
 "cells": [
  {
   "cell_type": "code",
   "execution_count": null,
   "metadata": {
    "collapsed": false,
    "jupyter": {
     "outputs_hidden": false
    }
   },
   "outputs": [],
   "source": [
    "import os\n",
    "\n",
    "import pandas as pd\n",
    "from pandas import Series, DataFrame\n",
    "\n",
    "import numpy as np\n",
    "import seaborn as sns"
   ]
  },
  {
   "cell_type": "markdown",
   "metadata": {},
   "source": [
    "## Revision - Working with Strings"
   ]
  },
  {
   "cell_type": "code",
   "execution_count": null,
   "metadata": {
    "collapsed": false,
    "jupyter": {
     "outputs_hidden": false
    }
   },
   "outputs": [],
   "source": [
    "# Trimming whitespace\n",
    "[x.strip() for x in s.split(',')]\n",
    "\n",
    "# Also see rstrip, lstrip"
   ]
  },
  {
   "cell_type": "code",
   "execution_count": null,
   "metadata": {
    "collapsed": false,
    "jupyter": {
     "outputs_hidden": false
    }
   },
   "outputs": [],
   "source": [
    "# String Splitting\n",
    "' '.join([x.strip() for x in s.split(',')])"
   ]
  },
  {
   "cell_type": "code",
   "execution_count": null,
   "metadata": {
    "collapsed": false,
    "jupyter": {
     "outputs_hidden": false
    }
   },
   "outputs": [],
   "source": [
    "'_#_'.join(list('abcde'))"
   ]
  },
  {
   "cell_type": "code",
   "execution_count": null,
   "metadata": {
    "collapsed": false,
    "jupyter": {
     "outputs_hidden": false
    }
   },
   "outputs": [],
   "source": [
    "# Concatenating Strings\n",
    "pieces = list('abcde')\n",
    "print '::'.join(pieces)\n",
    "print '--'.join(pieces)\n",
    "print ' '.join(pieces)"
   ]
  },
  {
   "cell_type": "code",
   "execution_count": null,
   "metadata": {
    "collapsed": false,
    "jupyter": {
     "outputs_hidden": false
    }
   },
   "outputs": [],
   "source": [
    "# Does a Substring belong to a string\n",
    "print 'steady' in s\n",
    "print 'set' in s"
   ]
  },
  {
   "cell_type": "code",
   "execution_count": null,
   "metadata": {
    "collapsed": false,
    "jupyter": {
     "outputs_hidden": false
    }
   },
   "outputs": [],
   "source": [
    "# Locate a substring\n",
    "s.index('go')"
   ]
  },
  {
   "cell_type": "code",
   "execution_count": null,
   "metadata": {
    "collapsed": false,
    "jupyter": {
     "outputs_hidden": false
    }
   },
   "outputs": [],
   "source": [
    "s"
   ]
  },
  {
   "cell_type": "code",
   "execution_count": null,
   "metadata": {
    "collapsed": false,
    "jupyter": {
     "outputs_hidden": false
    }
   },
   "outputs": [],
   "source": [
    "s[15:17]"
   ]
  },
  {
   "cell_type": "code",
   "execution_count": null,
   "metadata": {},
   "outputs": [],
   "source": [
    "sentence = 'the sun rises in the east'"
   ]
  },
  {
   "cell_type": "code",
   "execution_count": null,
   "metadata": {
    "collapsed": false,
    "jupyter": {
     "outputs_hidden": false
    }
   },
   "outputs": [],
   "source": [
    "sentence.index('east') == sentence.find('east')"
   ]
  },
  {
   "cell_type": "code",
   "execution_count": null,
   "metadata": {
    "collapsed": false,
    "jupyter": {
     "outputs_hidden": false
    }
   },
   "outputs": [],
   "source": [
    "print sentence.index('west')"
   ]
  },
  {
   "cell_type": "code",
   "execution_count": null,
   "metadata": {
    "collapsed": false,
    "jupyter": {
     "outputs_hidden": false
    }
   },
   "outputs": [],
   "source": [
    "print sentence.find('west')"
   ]
  },
  {
   "cell_type": "code",
   "execution_count": null,
   "metadata": {
    "collapsed": false,
    "jupyter": {
     "outputs_hidden": false
    }
   },
   "outputs": [],
   "source": [
    "sentence[21:]"
   ]
  },
  {
   "cell_type": "code",
   "execution_count": null,
   "metadata": {
    "collapsed": false,
    "jupyter": {
     "outputs_hidden": false
    }
   },
   "outputs": [],
   "source": [
    "sentence.find('ris')"
   ]
  },
  {
   "cell_type": "code",
   "execution_count": null,
   "metadata": {
    "collapsed": false,
    "jupyter": {
     "outputs_hidden": false
    }
   },
   "outputs": [],
   "source": [
    "sentence.count('t')"
   ]
  },
  {
   "cell_type": "code",
   "execution_count": null,
   "metadata": {
    "collapsed": false,
    "jupyter": {
     "outputs_hidden": false
    }
   },
   "outputs": [],
   "source": [
    "# Locate a substring\n",
    "s.find(',')"
   ]
  },
  {
   "cell_type": "code",
   "execution_count": null,
   "metadata": {
    "collapsed": false,
    "jupyter": {
     "outputs_hidden": false
    }
   },
   "outputs": [],
   "source": [
    "# Count occurrences\n",
    "s.count(',')"
   ]
  },
  {
   "cell_type": "code",
   "execution_count": null,
   "metadata": {
    "collapsed": false,
    "jupyter": {
     "outputs_hidden": false
    }
   },
   "outputs": [],
   "source": [
    "sentence.endswith('east')"
   ]
  },
  {
   "cell_type": "code",
   "execution_count": null,
   "metadata": {
    "collapsed": false,
    "jupyter": {
     "outputs_hidden": false
    }
   },
   "outputs": [],
   "source": [
    "s2 = 'the quick brown fox jumps over the lazy dog'\n",
    "s2.find('fox')\n",
    "\n",
    "print 'lazy' in s2\n",
    "\n",
    "print s2.endswith('dog')"
   ]
  },
  {
   "cell_type": "code",
   "execution_count": null,
   "metadata": {
    "collapsed": false,
    "jupyter": {
     "outputs_hidden": false
    }
   },
   "outputs": [],
   "source": [
    "s.startswith('ready')\n",
    "# similarly .endswith()a"
   ]
  },
  {
   "cell_type": "markdown",
   "metadata": {},
   "source": [
    "<big>\n",
    "\n",
    "These string functions become very important in conjunction with the `map()` method when we're rying to clean text data.\n",
    "\n",
    "\n",
    "-----------------------------------------------------------------------------------------------------------------------------"
   ]
  },
  {
   "cell_type": "markdown",
   "metadata": {},
   "source": [
    "<br><br>\n",
    "\n",
    "<center>\n",
    "\n",
    "# Plotting and Visualization\n",
    "\n",
    "</center>\n",
    "   \n",
    "<br>\n",
    "\n",
    "---"
   ]
  },
  {
   "cell_type": "markdown",
   "metadata": {},
   "source": [
    "\n",
    "\n",
    "## 1. matplotlib basics\n",
    "\n",
    "\n",
    "http://matplotlib.org/\n",
    "\n",
    "* Run **`import matplotlib.pyplot as plt`**\n",
    "* Create a figure object using **`plt.figure`**\n",
    "* Add subplots to it using **`add_subplot`**\n",
    "    * This creates **AxesSubplot** objects on which you can place plots\n",
    "* Use a plotting command like **`plt.plot`** and matplotlib will place your plot on this canvas\n",
    "\n",
    "\n",
    "### 1.1 Figure, Subplots, AxisSubplot objects and your plot\n",
    "\n",
    "#### Create a 2x2 figure and add three plots to it\n"
   ]
  },
  {
   "cell_type": "code",
   "execution_count": null,
   "metadata": {
    "collapsed": false,
    "jupyter": {
     "outputs_hidden": false
    }
   },
   "outputs": [],
   "source": [
    "import matplotlib.pyplot as plt"
   ]
  },
  {
   "cell_type": "raw",
   "metadata": {
    "tags": []
   },
   "source": [
    "plt.figure?"
   ]
  },
  {
   "cell_type": "code",
   "execution_count": null,
   "metadata": {
    "collapsed": false,
    "jupyter": {
     "outputs_hidden": false
    }
   },
   "outputs": [],
   "source": [
    "# Create an empty figure\n",
    "fig = plt.figure(figsize=(6, 4))"
   ]
  },
  {
   "cell_type": "code",
   "execution_count": null,
   "metadata": {
    "tags": []
   },
   "outputs": [],
   "source": [
    "# Run plt.figure? to check out figure options like size, dpi, color\n",
    "\n",
    "axsp1 = fig.add_subplot(2, 2, 1)\n",
    "# There will be 2 x 2 subplots on the figure and axsp1 will put your plot on subplot 1\n",
    "\n",
    "axsp2 = fig.add_subplot(2, 2, 2)\n",
    "axsp3 = fig.add_subplot(2, 2, 3)\n",
    "# Now, we have three AxesSubplot objects on our figure. "
   ]
  },
  {
   "cell_type": "code",
   "execution_count": null,
   "metadata": {
    "collapsed": false,
    "jupyter": {
     "outputs_hidden": false
    }
   },
   "outputs": [],
   "source": [
    "# First plot: timeseries\n",
    "axsp1.plot(np.random.randn(40).cumsum(), 'r--')\n",
    "\n",
    "# Second plot: histogram\n",
    "axsp2.hist(np.random.randn(400), bins=10, color='b', alpha=0.3)\n",
    "\n",
    "# Third plot: scatterplot\n",
    "axsp3.scatter(np.arange(30), 4 * np.arange(30) + 6 * np.random.randn(30))\n",
    "# Note: if you make changes to the AxisSubplot object, you'll have to re-run the commands above\n",
    "\n",
    "fig"
   ]
  },
  {
   "cell_type": "markdown",
   "metadata": {},
   "source": [
    "------------------------------------------------------------------------------------------------------------------------"
   ]
  },
  {
   "cell_type": "markdown",
   "metadata": {},
   "source": [
    "### 1.2 Shorthand to achieve the same effect\n",
    "\n",
    "* Create a grid figure using **`plt.subplots`**\n",
    "    * Syntax: `fig, axes = plt.subplots(rows, cols, figsize = (width, height), sharex=False, sharey=False)`\n",
    "    \n",
    "* It returns an array of **AxisSubplot** objects \n",
    "* Reference them using basic indexing (Saves typing!)\n",
    "\n",
    "`plt.subplots` has some interesting options such as `sharex/sharey` which are useful when comparing data on the same scale\n",
    "\n",
    "Run `plt.subplots?` for more."
   ]
  },
  {
   "cell_type": "code",
   "execution_count": null,
   "metadata": {
    "collapsed": false,
    "jupyter": {
     "outputs_hidden": false
    }
   },
   "outputs": [],
   "source": [
    "fig, axes = plt.subplots(3, 3, figsize=(8, 4))\n",
    "\n",
    "axes[1, 1].plot(np.random.randn(50).cumsum(), 'g-_')\n",
    "axes[2, 1].scatter(np.arange(30), np.log10(np.arange(30)))"
   ]
  },
  {
   "cell_type": "markdown",
   "metadata": {
    "collapsed": true,
    "jupyter": {
     "outputs_hidden": true
    }
   },
   "source": [
    "> NOTE:\n",
    "`subplots.adjust` is a Figure method that can be used to adjust figure parameters like spacing between subplots"
   ]
  },
  {
   "cell_type": "code",
   "execution_count": null,
   "metadata": {
    "collapsed": false,
    "jupyter": {
     "outputs_hidden": false
    }
   },
   "outputs": [],
   "source": [
    "fig1, axes1 = plt.subplots(2, 2, figsize=(12, 4), sharex=True, sharey=True)\n",
    "\n",
    "for i in range(2):\n",
    "    for j in range(2):\n",
    "        axes1[i, j].hist(np.random.randn(500), bins=15, alpha=0.4, color='c')\n",
    "\n",
    "plt.subplots_adjust(wspace=0.2, hspace=0.2)        \n",
    "# comment out the plt.subplots line and re-run. See what happens"
   ]
  },
  {
   "cell_type": "markdown",
   "metadata": {},
   "source": [
    "------------------------------------------------------------------------------------------------------------------------"
   ]
  },
  {
   "cell_type": "markdown",
   "metadata": {
    "collapsed": true,
    "jupyter": {
     "outputs_hidden": true
    }
   },
   "source": [
    "### 1.3 Plot Formatting\n",
    "\n",
    "#### a. Color, Linestyle and Markers\n",
    "\n",
    "The `plot` function takes `x, y` and optionally an abbreviation to specify `marker, color, and style`\n",
    "\n",
    "Example: Abbreviations work as `color-marker-style`, so `'g--'` means color = 'green' and linestyle = '--'"
   ]
  },
  {
   "cell_type": "code",
   "execution_count": null,
   "metadata": {
    "collapsed": false,
    "jupyter": {
     "outputs_hidden": false
    }
   },
   "outputs": [],
   "source": [
    "plt.plot(np.sin(np.arange(50)), 'b*-');"
   ]
  },
  {
   "cell_type": "markdown",
   "metadata": {
    "collapsed": true,
    "jupyter": {
     "outputs_hidden": true
    }
   },
   "source": [
    "#### b. Ticks, Labels, Legends"
   ]
  },
  {
   "cell_type": "code",
   "execution_count": null,
   "metadata": {
    "collapsed": false,
    "jupyter": {
     "outputs_hidden": false
    }
   },
   "outputs": [],
   "source": [
    "f = plt.figure(figsize=(8, 5))\n",
    "ax1 = f.add_subplot(1, 1, 1)\n",
    "ax1.plot(4 + 6 * np.sin(np.arange(50)), 'g*-');"
   ]
  },
  {
   "cell_type": "code",
   "execution_count": null,
   "metadata": {
    "collapsed": false,
    "jupyter": {
     "outputs_hidden": false
    }
   },
   "outputs": [],
   "source": [
    "# Ticks\n",
    "ax1.set_xticks([5, 15, 25, 35, 45])\n",
    "\n",
    "# Chart title\n",
    "ax1.set_title('This is a Sine Curve')\n",
    "\n",
    "# Axis Label\n",
    "ax1.set_xlabel('X')\n",
    "ax1.set_ylabel('4 + 6 * sin(X)')\n",
    "\n",
    "f"
   ]
  },
  {
   "cell_type": "code",
   "execution_count": null,
   "metadata": {
    "collapsed": false,
    "jupyter": {
     "outputs_hidden": false
    }
   },
   "outputs": [],
   "source": [
    "# Add more plots\n",
    "ax1.plot(np.log(np.arange(50)), 'r', label='log(x)')\n",
    "ax1.plot(np.sqrt(np.arange(50)), 'b*--', label='sqrt(x)')\n",
    "\n",
    "# Add a legend\n",
    "ax1.legend(loc='best')\n",
    "\n",
    "f"
   ]
  },
  {
   "cell_type": "markdown",
   "metadata": {},
   "source": [
    "### 1.3 Saving plots to file\n",
    "\n",
    "**Syntax**: `plt.savefig('file-path.extension', dpi=)`"
   ]
  },
  {
   "cell_type": "markdown",
   "metadata": {},
   "source": [
    "------------------------------------------------------------------------------------------------------------------------"
   ]
  },
  {
   "cell_type": "markdown",
   "metadata": {
    "collapsed": true,
    "jupyter": {
     "outputs_hidden": true
    }
   },
   "source": [
    "# 2. Plotting in `pandas`\n",
    "\n",
    "* There are high level plotting methods that take advantage of the fact that data are organized in DataFrames (have index, colnames)\n",
    "* Both `Series` and `DataFrame` objects have a `pandas.plot` method for making different plot types\n",
    "* Other parameters that can be passed to `pandas.plot` are:\n",
    "    * `xticks, xlim, yticks, ylim`\n",
    "    * `label`\n",
    "    * `style` (as an abbreviation,) and `alpha`\n",
    "    * `grid=True`\n",
    "    * `rot` (rotate tick labels by and angle 0-360)\n",
    "    * `use_index` (use index for tick labels)\n",
    "    * `subplots=False`\n",
    "\n",
    "### 2.1 One variable (plotting a Series)"
   ]
  },
  {
   "cell_type": "raw",
   "metadata": {
    "collapsed": true,
    "jupyter": {
     "outputs_hidden": true
    }
   },
   "source": [
    "pd.Series.plot."
   ]
  },
  {
   "cell_type": "code",
   "execution_count": null,
   "metadata": {
    "collapsed": false,
    "jupyter": {
     "outputs_hidden": false
    }
   },
   "outputs": [],
   "source": [
    "s = Series(np.random.randn(100).cumsum())\n",
    "s.name = 'random_time_series'\n",
    "s.plot();\n",
    "# Default is a line chart"
   ]
  },
  {
   "cell_type": "markdown",
   "metadata": {},
   "source": [
    "<big> \n",
    "\n",
    "Two ways of specifying the kind of plot to make\n",
    "\n",
    "- `X.plot(kind=<plottype>`\n",
    "- `X.plot.<plottype>`\n",
    "\n",
    "Where X is a Series or a DataFrame\n",
    "\n",
    "---"
   ]
  },
  {
   "cell_type": "code",
   "execution_count": null,
   "metadata": {
    "collapsed": false,
    "jupyter": {
     "outputs_hidden": false
    }
   },
   "outputs": [],
   "source": [
    "s.plot(legend=True, \n",
    "       title='My First Pandas Plot',\n",
    "       xlim=(0, 100), \n",
    "       ylim=(-20, 20), \n",
    "       style='g');\n"
   ]
  },
  {
   "cell_type": "code",
   "execution_count": null,
   "metadata": {
    "collapsed": false,
    "jupyter": {
     "outputs_hidden": false
    }
   },
   "outputs": [],
   "source": [
    "s.plot(legend=True, \n",
    "       title='My First Pandas Plot',\n",
    "       xlim=(0, 100), \n",
    "       ylim=(-20, 20), \n",
    "       style='g');\n",
    "\n",
    "s2 = s * 1.3\n",
    "s2.name = 'derived_series'\n",
    "s2.plot(legend=True)"
   ]
  },
  {
   "cell_type": "code",
   "execution_count": null,
   "metadata": {
    "collapsed": false,
    "jupyter": {
     "outputs_hidden": false
    }
   },
   "outputs": [],
   "source": [
    "# Chart with options\n",
    "s.plot(grid=False, \n",
    "       legend=False,\n",
    "       label='timeseries',\n",
    "       title='Random Normal Numbers - Cumulative Series',\n",
    "       xlim=(0, 100), \n",
    "       ylim=(-20, 20),\n",
    "       xticks=np.arange(0, 100, 10), \n",
    "       yticks=np.arange(-10, 10, 2),\n",
    "       style='r--', \n",
    "       alpha=0.5,\n",
    "       figsize=(7, 3)\n",
    "      );\n",
    "\n",
    "plt.savefig('time_series_001.png', dpi=200)"
   ]
  },
  {
   "cell_type": "code",
   "execution_count": null,
   "metadata": {
    "collapsed": false,
    "jupyter": {
     "outputs_hidden": false
    },
    "scrolled": true
   },
   "outputs": [],
   "source": [
    "# One Variable as a Histogram\n",
    "Series(np.random.randn(10000)).plot(kind='hist', \n",
    "                                    bins=50, \n",
    "                                    color='r', \n",
    "                                    alpha=0.2, \n",
    "                                    title='A histogram');"
   ]
  },
  {
   "cell_type": "code",
   "execution_count": null,
   "metadata": {
    "collapsed": false,
    "jupyter": {
     "outputs_hidden": false
    }
   },
   "outputs": [],
   "source": [
    "from scipy.stats import norm\n",
    "\n",
    "s2 = norm.rvs(size=10000, loc=4, scale=2.5)\n",
    "s3 = norm.rvs(size=10000, loc=-2, scale=0.5)"
   ]
  },
  {
   "cell_type": "code",
   "execution_count": null,
   "metadata": {
    "collapsed": false,
    "jupyter": {
     "outputs_hidden": false
    },
    "scrolled": true
   },
   "outputs": [],
   "source": [
    "Series(s2).plot.hist(bins=50, color='g', alpha=0.8)\n",
    "Series(s3).plot(kind='hist', bins=50, color='b', alpha=0.2)\n",
    "plt.savefig('twoHistograms.png')"
   ]
  },
  {
   "cell_type": "code",
   "execution_count": null,
   "metadata": {
    "collapsed": false,
    "jupyter": {
     "outputs_hidden": false
    }
   },
   "outputs": [],
   "source": [
    "(Series(np.random.randint(0, 10, 25)).value_counts().sort_index().plot.bar())"
   ]
  },
  {
   "cell_type": "markdown",
   "metadata": {},
   "source": [
    "## Plotting with Titanic"
   ]
  },
  {
   "cell_type": "code",
   "execution_count": null,
   "metadata": {
    "tags": []
   },
   "outputs": [],
   "source": [
    "df = pd.read_csv('./data/titanic.csv')"
   ]
  },
  {
   "cell_type": "code",
   "execution_count": null,
   "metadata": {
    "collapsed": false,
    "jupyter": {
     "outputs_hidden": false
    }
   },
   "outputs": [],
   "source": [
    "df['Embarked'].value_counts().plot.barh(figsize=(3, 3));"
   ]
  },
  {
   "cell_type": "code",
   "execution_count": null,
   "metadata": {
    "collapsed": false,
    "jupyter": {
     "outputs_hidden": false
    }
   },
   "outputs": [],
   "source": [
    "df['Age'].plot.hist(bins=20, figsize=(3, 3))"
   ]
  },
  {
   "cell_type": "code",
   "execution_count": null,
   "metadata": {
    "collapsed": false,
    "jupyter": {
     "outputs_hidden": false
    }
   },
   "outputs": [],
   "source": [
    "df['Fare'].plot.hist(figsize=(3, 3), bins=20);"
   ]
  },
  {
   "cell_type": "markdown",
   "metadata": {},
   "source": [
    "------------------------------------------------------------------------------------------------------------------------"
   ]
  },
  {
   "cell_type": "markdown",
   "metadata": {},
   "source": [
    "### 2.2 Multiple Variables (plotting a DataFrame)\n",
    "\n",
    "We can choose between plotting\n",
    "* All Variables on one plot\n",
    "* Each variable on a separate plot\n",
    "\n",
    "In addition to the parameters above, `DataFrame.plot` also takes\n",
    "* `subplots=False` (default is to plot all on the same figure)\n",
    "* `sharex=False, sharey=False`\n",
    "* `figsize`\n",
    "* `title, legend`\n",
    "* `sort_columns`\n",
    "\n",
    "### a. Variables on the same plot"
   ]
  },
  {
   "cell_type": "code",
   "execution_count": null,
   "metadata": {
    "collapsed": false,
    "jupyter": {
     "outputs_hidden": false
    }
   },
   "outputs": [],
   "source": [
    "df = DataFrame(np.random.randn(5000, 5), \n",
    "               index=['Day_' + str(d) for d in range(5000)],\n",
    "               columns=['APL', 'FBK', 'GOOG', 'MCRS', 'TWTR']).cumsum().round(3); df[:4]"
   ]
  },
  {
   "cell_type": "code",
   "execution_count": null,
   "metadata": {
    "collapsed": false,
    "jupyter": {
     "outputs_hidden": false
    }
   },
   "outputs": [],
   "source": [
    "# Default plot\n",
    "df.plot(figsize=(10, 4));"
   ]
  },
  {
   "cell_type": "markdown",
   "metadata": {},
   "source": [
    "------------------------------------------------------------------------------------------------------------------------"
   ]
  },
  {
   "cell_type": "markdown",
   "metadata": {},
   "source": [
    "### b. Each variable on its own plot"
   ]
  },
  {
   "cell_type": "code",
   "execution_count": null,
   "metadata": {
    "collapsed": false,
    "jupyter": {
     "outputs_hidden": false
    }
   },
   "outputs": [],
   "source": [
    "df.plot(figsize=(5, 10), subplots=True);"
   ]
  },
  {
   "cell_type": "code",
   "execution_count": null,
   "metadata": {
    "collapsed": false,
    "jupyter": {
     "outputs_hidden": false
    }
   },
   "outputs": [],
   "source": [
    "df.plot(figsize=(5, 10), subplots=True, sharey=True);"
   ]
  },
  {
   "cell_type": "markdown",
   "metadata": {},
   "source": [
    "### c. Barplots\n",
    "\n",
    "This is as simple as passing `kind=bar` or `kind=barh` (for horiz bars) to `pd.plot`\n",
    "\n",
    "#### One Variable (simple barplot)"
   ]
  },
  {
   "cell_type": "code",
   "execution_count": null,
   "metadata": {
    "collapsed": false,
    "jupyter": {
     "outputs_hidden": false
    }
   },
   "outputs": [],
   "source": [
    "fig, axes = plt.subplots(3, 1, figsize=(14, 14))\n",
    "s = Series(np.random.rand(10), index=list('abcdefghij'))\n",
    "\n",
    "s.plot(kind='bar', \n",
    "       ax=axes[0], \n",
    "       color='k', \n",
    "       alpha=0.6)\n",
    "\n",
    "s.plot(kind='barh', \n",
    "       ax=axes[1], \n",
    "       color='k')\n",
    "\n",
    "s.plot(\n",
    "    ax=axes[2], \n",
    "    color='g')"
   ]
  },
  {
   "cell_type": "code",
   "execution_count": null,
   "metadata": {
    "collapsed": false,
    "jupyter": {
     "outputs_hidden": false
    }
   },
   "outputs": [],
   "source": [
    "df = DataFrame(np.random.rand(5,5), index=list('ABCDE'), columns=list('PQRST'))\n",
    "df"
   ]
  },
  {
   "cell_type": "code",
   "execution_count": null,
   "metadata": {
    "collapsed": false,
    "jupyter": {
     "outputs_hidden": false
    }
   },
   "outputs": [],
   "source": [
    "df.plot(kind='bar', stacked=True, figsize=(10, 8))\n",
    "plt.savefig('stackedBarcharts.jpeg')"
   ]
  },
  {
   "cell_type": "markdown",
   "metadata": {},
   "source": [
    "> Note: Functions `value_counts()` and `pd.crosstab()` prove helpful to prepare data for stacked bar charts"
   ]
  },
  {
   "cell_type": "markdown",
   "metadata": {},
   "source": [
    "------------------------------------------------------------------------------------------------------------------------"
   ]
  },
  {
   "cell_type": "markdown",
   "metadata": {},
   "source": [
    "### d. Histograms & Density Plots\n",
    "\n",
    "* _Histograms_: Pass `kind='hist'` to `pd.plot()` or use the method `pd.hist()`\n",
    "* _Density Plots_: Use `kind='kde'`\n"
   ]
  },
  {
   "cell_type": "markdown",
   "metadata": {},
   "source": [
    "### Using the `.hist()` method"
   ]
  },
  {
   "cell_type": "code",
   "execution_count": null,
   "metadata": {
    "collapsed": false,
    "jupyter": {
     "outputs_hidden": false
    },
    "scrolled": true
   },
   "outputs": [],
   "source": [
    "Series(np.random.randn(1000)).hist(bins=20, alpha=0.4)"
   ]
  },
  {
   "cell_type": "markdown",
   "metadata": {},
   "source": [
    "### Using the `.plot()` method"
   ]
  },
  {
   "cell_type": "code",
   "execution_count": null,
   "metadata": {
    "collapsed": false,
    "jupyter": {
     "outputs_hidden": false
    },
    "scrolled": true
   },
   "outputs": [],
   "source": [
    "pd.Series(np.random.randn(1000)).plot(kind='hist', bins=20, color='orange')"
   ]
  },
  {
   "cell_type": "markdown",
   "metadata": {},
   "source": [
    "### KDE"
   ]
  },
  {
   "cell_type": "code",
   "execution_count": null,
   "metadata": {
    "collapsed": false,
    "jupyter": {
     "outputs_hidden": false
    }
   },
   "outputs": [],
   "source": [
    "s = Series(np.random.randn(10000))\n",
    "s.plot(kind='kde', color='b') "
   ]
  },
  {
   "cell_type": "code",
   "execution_count": null,
   "metadata": {
    "collapsed": false,
    "jupyter": {
     "outputs_hidden": false
    }
   },
   "outputs": [],
   "source": [
    "# A bimodal distribution \n",
    "s1 = np.random.normal(0, 1, 2000)\n",
    "s2 = np.random.normal(9, 2, 2000)\n",
    "\n",
    "v = pd.Series(np.concatenate([s1, s2]))\n",
    "\n",
    "v.hist(bins=100, alpha=0.4, color='k')\n",
    "v.plot(kind='kde', style='k--')"
   ]
  },
  {
   "cell_type": "markdown",
   "metadata": {},
   "source": [
    "------------------------------------------------------------------------------------------------------------------------"
   ]
  },
  {
   "cell_type": "raw",
   "metadata": {
    "collapsed": false,
    "jupyter": {
     "outputs_hidden": false
    }
   },
   "source": [
    "from IPython.display import Image\n",
    "Image(\"https://upload.wikimedia.org/wikipedia/commons/thumb/d/d4/Correlation_examples2.svg/2000px-Correlation_examples2.svg.png\", width=900, height=600)"
   ]
  },
  {
   "cell_type": "markdown",
   "metadata": {},
   "source": [
    "## e. Scatter Plots\n",
    "\n",
    "- `.plot(kind='scatter')`\n",
    "- `.scatter()`"
   ]
  },
  {
   "cell_type": "code",
   "execution_count": null,
   "metadata": {
    "collapsed": false,
    "jupyter": {
     "outputs_hidden": false
    }
   },
   "outputs": [],
   "source": [
    "df = pd.DataFrame({'A': np.arange(50),\n",
    "               'B': np.arange(50) + np.random.randn(50),\n",
    "               'C': np.sqrt(np.arange(50)) + np.sin(np.arange(50)) })\n",
    "df[:10]"
   ]
  },
  {
   "cell_type": "code",
   "execution_count": null,
   "metadata": {
    "collapsed": false,
    "jupyter": {
     "outputs_hidden": false
    }
   },
   "outputs": [],
   "source": [
    "# Two variable Scatterplot\n",
    "plt.scatter(df['B'], df['C'])\n",
    "plt.title('Scatterplot of X and Y')"
   ]
  },
  {
   "cell_type": "code",
   "execution_count": null,
   "metadata": {
    "collapsed": false,
    "jupyter": {
     "outputs_hidden": false
    }
   },
   "outputs": [],
   "source": [
    "df.plot(kind='scatter', x='B', y='C', title = 'Scatterplot')"
   ]
  },
  {
   "cell_type": "code",
   "execution_count": null,
   "metadata": {
    "collapsed": false,
    "jupyter": {
     "outputs_hidden": false
    }
   },
   "outputs": [],
   "source": [
    "df.plot.scatter(x='B', y='C', title = 'Scatterplot', color='r')"
   ]
  },
  {
   "cell_type": "code",
   "execution_count": null,
   "metadata": {},
   "outputs": [],
   "source": []
  }
 ],
 "metadata": {
  "anaconda-cloud": {},
  "kernelspec": {
   "display_name": "Python 3 (ipykernel)",
   "language": "python",
   "name": "python3"
  },
  "language_info": {
   "codemirror_mode": {
    "name": "ipython",
    "version": 3
   },
   "file_extension": ".py",
   "mimetype": "text/x-python",
   "name": "python",
   "nbconvert_exporter": "python",
   "pygments_lexer": "ipython3",
   "version": "3.13.3"
  },
  "widgets": {
   "state": {},
   "version": "1.1.2"
  }
 },
 "nbformat": 4,
 "nbformat_minor": 4
}
