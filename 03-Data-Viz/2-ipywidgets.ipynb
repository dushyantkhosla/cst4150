{
 "cells": [
  {
   "cell_type": "code",
   "execution_count": 1,
   "metadata": {},
   "outputs": [],
   "source": [
    "import os\n",
    "import numpy as np\n",
    "import pandas as pd"
   ]
  },
  {
   "cell_type": "code",
   "execution_count": 2,
   "metadata": {},
   "outputs": [],
   "source": [
    "import matplotlib.pyplot as plt"
   ]
  },
  {
   "cell_type": "code",
   "execution_count": 3,
   "metadata": {
    "scrolled": true
   },
   "outputs": [],
   "source": [
    "from vega_datasets import data"
   ]
  },
  {
   "cell_type": "code",
   "execution_count": 4,
   "metadata": {},
   "outputs": [],
   "source": [
    "from dataviz import format_plot"
   ]
  },
  {
   "cell_type": "code",
   "execution_count": 6,
   "metadata": {},
   "outputs": [],
   "source": [
    "import seaborn as sns"
   ]
  },
  {
   "cell_type": "markdown",
   "metadata": {},
   "source": [
    "## Get Data"
   ]
  },
  {
   "cell_type": "code",
   "execution_count": 8,
   "metadata": {},
   "outputs": [
    {
     "data": {
      "text/html": [
       "<div>\n",
       "<style scoped>\n",
       "    .dataframe tbody tr th:only-of-type {\n",
       "        vertical-align: middle;\n",
       "    }\n",
       "\n",
       "    .dataframe tbody tr th {\n",
       "        vertical-align: top;\n",
       "    }\n",
       "\n",
       "    .dataframe thead th {\n",
       "        text-align: right;\n",
       "    }\n",
       "</style>\n",
       "<table border=\"1\" class=\"dataframe\">\n",
       "  <thead>\n",
       "    <tr style=\"text-align: right;\">\n",
       "      <th></th>\n",
       "      <th>year</th>\n",
       "      <th>country</th>\n",
       "      <th>cluster</th>\n",
       "      <th>pop</th>\n",
       "      <th>life_expect</th>\n",
       "      <th>fertility</th>\n",
       "    </tr>\n",
       "  </thead>\n",
       "  <tbody>\n",
       "    <tr>\n",
       "      <th>384</th>\n",
       "      <td>2005</td>\n",
       "      <td>Iraq</td>\n",
       "      <td>5</td>\n",
       "      <td>26074906</td>\n",
       "      <td>59.545</td>\n",
       "      <td>4.2640</td>\n",
       "    </tr>\n",
       "    <tr>\n",
       "      <th>374</th>\n",
       "      <td>1955</td>\n",
       "      <td>Iraq</td>\n",
       "      <td>5</td>\n",
       "      <td>5903253</td>\n",
       "      <td>48.437</td>\n",
       "      <td>7.3000</td>\n",
       "    </tr>\n",
       "    <tr>\n",
       "      <th>389</th>\n",
       "      <td>1975</td>\n",
       "      <td>Ireland</td>\n",
       "      <td>1</td>\n",
       "      <td>3177300</td>\n",
       "      <td>72.030</td>\n",
       "      <td>3.4780</td>\n",
       "    </tr>\n",
       "    <tr>\n",
       "      <th>203</th>\n",
       "      <td>1980</td>\n",
       "      <td>Dominican Republic</td>\n",
       "      <td>3</td>\n",
       "      <td>5696855</td>\n",
       "      <td>63.727</td>\n",
       "      <td>4.0000</td>\n",
       "    </tr>\n",
       "    <tr>\n",
       "      <th>253</th>\n",
       "      <td>1955</td>\n",
       "      <td>France</td>\n",
       "      <td>1</td>\n",
       "      <td>43427669</td>\n",
       "      <td>68.930</td>\n",
       "      <td>2.7120</td>\n",
       "    </tr>\n",
       "    <tr>\n",
       "      <th>625</th>\n",
       "      <td>2000</td>\n",
       "      <td>South Africa</td>\n",
       "      <td>2</td>\n",
       "      <td>44066197</td>\n",
       "      <td>53.365</td>\n",
       "      <td>2.8020</td>\n",
       "    </tr>\n",
       "    <tr>\n",
       "      <th>188</th>\n",
       "      <td>1960</td>\n",
       "      <td>Cuba</td>\n",
       "      <td>3</td>\n",
       "      <td>7027210</td>\n",
       "      <td>65.246</td>\n",
       "      <td>4.6805</td>\n",
       "    </tr>\n",
       "    <tr>\n",
       "      <th>589</th>\n",
       "      <td>1985</td>\n",
       "      <td>Portugal</td>\n",
       "      <td>1</td>\n",
       "      <td>9897192</td>\n",
       "      <td>74.060</td>\n",
       "      <td>1.5940</td>\n",
       "    </tr>\n",
       "    <tr>\n",
       "      <th>526</th>\n",
       "      <td>2000</td>\n",
       "      <td>Nigeria</td>\n",
       "      <td>2</td>\n",
       "      <td>114306700</td>\n",
       "      <td>46.608</td>\n",
       "      <td>5.8450</td>\n",
       "    </tr>\n",
       "    <tr>\n",
       "      <th>433</th>\n",
       "      <td>1975</td>\n",
       "      <td>Japan</td>\n",
       "      <td>4</td>\n",
       "      <td>111573116</td>\n",
       "      <td>75.380</td>\n",
       "      <td>1.8100</td>\n",
       "    </tr>\n",
       "  </tbody>\n",
       "</table>\n",
       "</div>"
      ],
      "text/plain": [
       "     year             country  cluster        pop  life_expect  fertility\n",
       "384  2005                Iraq        5   26074906       59.545     4.2640\n",
       "374  1955                Iraq        5    5903253       48.437     7.3000\n",
       "389  1975             Ireland        1    3177300       72.030     3.4780\n",
       "203  1980  Dominican Republic        3    5696855       63.727     4.0000\n",
       "253  1955              France        1   43427669       68.930     2.7120\n",
       "625  2000        South Africa        2   44066197       53.365     2.8020\n",
       "188  1960                Cuba        3    7027210       65.246     4.6805\n",
       "589  1985            Portugal        1    9897192       74.060     1.5940\n",
       "526  2000             Nigeria        2  114306700       46.608     5.8450\n",
       "433  1975               Japan        4  111573116       75.380     1.8100"
      ]
     },
     "execution_count": 8,
     "metadata": {},
     "output_type": "execute_result"
    }
   ],
   "source": [
    "df_gpm_lxp = data.gapminder()\n",
    "df_gpm_lxp.sample(10)"
   ]
  },
  {
   "cell_type": "markdown",
   "metadata": {},
   "source": [
    "---\n",
    "# Interactive Visualization with Widgets"
   ]
  },
  {
   "cell_type": "markdown",
   "metadata": {},
   "source": [
    "- IPython Widgets\n",
    "- See: https://ipywidgets.readthedocs.io/en/latest/examples/Widget%20List.html\n",
    "\n",
    "## 2a. Standalone Widgets"
   ]
  },
  {
   "cell_type": "code",
   "execution_count": 9,
   "metadata": {},
   "outputs": [],
   "source": [
    "from ipywidgets import (Dropdown, IntSlider, FloatSlider, ToggleButtons, SelectMultiple)"
   ]
  },
  {
   "cell_type": "markdown",
   "metadata": {},
   "source": [
    "### Dropdown"
   ]
  },
  {
   "cell_type": "code",
   "execution_count": 11,
   "metadata": {},
   "outputs": [
    {
     "data": {
      "application/vnd.jupyter.widget-view+json": {
       "model_id": "51ba73cf85824d69a57edad5d3b9ea06",
       "version_major": 2,
       "version_minor": 0
      },
      "text/plain": [
       "Dropdown(description='Pick one:', options=('apples', 'grapes', 'bananas', 'oranges'), value='apples')"
      ]
     },
     "execution_count": 11,
     "metadata": {},
     "output_type": "execute_result"
    }
   ],
   "source": [
    "widget_fruits = Dropdown(value='apples', \n",
    "                  description='Pick one:',\n",
    "                  options=['apples', 'grapes', 'bananas', 'oranges'])\n",
    "widget_fruits"
   ]
  },
  {
   "cell_type": "code",
   "execution_count": 13,
   "metadata": {},
   "outputs": [
    {
     "name": "stdout",
     "output_type": "stream",
     "text": [
      "You selected bananas\n"
     ]
    }
   ],
   "source": [
    "print(f\"You selected {widget_fruits.value}\")"
   ]
  },
  {
   "cell_type": "markdown",
   "metadata": {},
   "source": [
    "### Slider"
   ]
  },
  {
   "cell_type": "code",
   "execution_count": 20,
   "metadata": {},
   "outputs": [
    {
     "name": "stdout",
     "output_type": "stream",
     "text": [
      "\n"
     ]
    },
    {
     "data": {
      "application/vnd.jupyter.widget-view+json": {
       "model_id": "9d7741c193634ae596a3c29654661e75",
       "version_major": 2,
       "version_minor": 0
      },
      "text/plain": [
       "IntSlider(value=30, description='Age: ', max=50, min=20)"
      ]
     },
     "execution_count": 20,
     "metadata": {},
     "output_type": "execute_result"
    }
   ],
   "source": [
    "ages = IntSlider(description=\"Age: \",\n",
    "                     value=30, \n",
    "                     min=20, \n",
    "                     max=50, \n",
    "                     step=1)\n",
    "print()\n",
    "ages"
   ]
  },
  {
   "cell_type": "code",
   "execution_count": 21,
   "metadata": {},
   "outputs": [
    {
     "name": "stdout",
     "output_type": "stream",
     "text": [
      "You selected 30\n"
     ]
    }
   ],
   "source": [
    "print(f\"You selected {ages.value}\")"
   ]
  },
  {
   "cell_type": "markdown",
   "metadata": {},
   "source": [
    "### Toggle"
   ]
  },
  {
   "cell_type": "code",
   "execution_count": 22,
   "metadata": {},
   "outputs": [
    {
     "data": {
      "application/vnd.jupyter.widget-view+json": {
       "model_id": "57c923d6700f42918ec488a6a3ea2a67",
       "version_major": 2,
       "version_minor": 0
      },
      "text/plain": [
       "ToggleButtons(description='Call me:', index=2, options=('No', 'Yes', 'Maybe'), value='Maybe')"
      ]
     },
     "execution_count": 22,
     "metadata": {},
     "output_type": "execute_result"
    }
   ],
   "source": [
    "rsvp = ToggleButtons(value='Maybe', options=['No', 'Yes', 'Maybe'], description='Call me:')\n",
    "rsvp"
   ]
  },
  {
   "cell_type": "code",
   "execution_count": 24,
   "metadata": {},
   "outputs": [
    {
     "name": "stdout",
     "output_type": "stream",
     "text": [
      "You selected Yes\n"
     ]
    }
   ],
   "source": [
    "print(f\"You selected {rsvp.value}\")"
   ]
  },
  {
   "cell_type": "markdown",
   "metadata": {},
   "source": [
    "### Select"
   ]
  },
  {
   "cell_type": "code",
   "execution_count": 25,
   "metadata": {},
   "outputs": [
    {
     "data": {
      "application/vnd.jupyter.widget-view+json": {
       "model_id": "7a567c17a4554288b3ffaae8bdaea1e9",
       "version_major": 2,
       "version_minor": 0
      },
      "text/plain": [
       "SelectMultiple(description='Lunch order', options=('spaghetti', 'lasagna', 'pasta', 'salad', 'calzone', 'wine'…"
      ]
     },
     "execution_count": 25,
     "metadata": {},
     "output_type": "execute_result"
    }
   ],
   "source": [
    "lunch = SelectMultiple(description='Lunch order', options=['spaghetti', 'lasagna', 'pasta', 'salad', 'calzone', 'wine'])\n",
    "lunch"
   ]
  },
  {
   "cell_type": "code",
   "execution_count": 26,
   "metadata": {},
   "outputs": [
    {
     "name": "stdout",
     "output_type": "stream",
     "text": [
      "You selected ('spaghetti', 'salad')\n"
     ]
    }
   ],
   "source": [
    "print(f\"You selected {lunch.value}\")"
   ]
  },
  {
   "cell_type": "markdown",
   "metadata": {},
   "source": [
    "## 2b. Interactive Charts"
   ]
  },
  {
   "cell_type": "code",
   "execution_count": 16,
   "metadata": {},
   "outputs": [],
   "source": [
    "from ipywidgets import interactive"
   ]
  },
  {
   "cell_type": "markdown",
   "metadata": {},
   "source": [
    "# Histogram of Life Expectancy in any given Year\n",
    "\n",
    "## Example 1. Hardcoded"
   ]
  },
  {
   "cell_type": "code",
   "execution_count": 31,
   "metadata": {},
   "outputs": [
    {
     "data": {
      "image/png": "[encoded data removed]",
      "text/plain": [
       "<Figure size 500x300 with 1 Axes>"
      ]
     },
     "metadata": {},
     "output_type": "display_data"
    }
   ],
   "source": [
    "ax = df_gpm_lxp.query(\"year==1975\").loc[:, 'life_expect'].plot.hist(figsize=(5, 3))\n",
    "ax.set_xlabel(\"Life Expectancy\")\n",
    "ax.set_ylabel(\"# Countries\")\n",
    "ax.set_xlim(0, 100)\n",
    "ax.set_title(\"Year: 1975\")\n",
    "\n",
    "format_plot(ax)"
   ]
  },
  {
   "cell_type": "markdown",
   "metadata": {},
   "source": [
    "## Example 2: Parameterized\n",
    "\n",
    "- We use a Python function that takes the year as an argument, to plot the histogram\n",
    "- Try changing the value of int_year and observe the changes"
   ]
  },
  {
   "cell_type": "code",
   "execution_count": 32,
   "metadata": {},
   "outputs": [],
   "source": [
    "def plot_hist_lifeexp(int_year):\n",
    "    \"\"\"\n",
    "    \"\"\"\n",
    "    ax = df_gpm_lxp.query(f\"year=={int_year}\").loc[:, 'life_expect'].plot.hist(figsize=(5, 3))\n",
    "    ax.set_xlabel(\"Life Expectancy\")\n",
    "    ax.set_ylabel(\"# Countries\")\n",
    "    ax.set_xlim(0, 100)\n",
    "    ax.set_ylim(0, 30)\n",
    "    ax.set_title(f\"Year: {int_year}\")\n",
    "    \n",
    "    format_plot(ax)"
   ]
  },
  {
   "cell_type": "code",
   "execution_count": 37,
   "metadata": {},
   "outputs": [
    {
     "data": {
      "image/png": "[encoded data removed]",
      "text/plain": [
       "<Figure size 500x300 with 1 Axes>"
      ]
     },
     "metadata": {},
     "output_type": "display_data"
    }
   ],
   "source": [
    "plot_hist_lifeexp(int_year=1995)"
   ]
  },
  {
   "cell_type": "markdown",
   "metadata": {},
   "source": [
    "## Example 3: Interactive\n",
    "\n",
    "- We allow the user to select a value for the year\n",
    "- And pass it to a function that generates the visualization\n",
    "- We then use the `interactive` function from ipywidgets which requires\n",
    "    - A widget that catches the value selected by the user and passes it to\n",
    "    - A function that does something with this value, such as making a plot"
   ]
  },
  {
   "cell_type": "code",
   "execution_count": 38,
   "metadata": {},
   "outputs": [],
   "source": [
    "from ipywidgets import interactive"
   ]
  },
  {
   "cell_type": "code",
   "execution_count": 56,
   "metadata": {
    "scrolled": true
   },
   "outputs": [
    {
     "data": {
      "application/vnd.jupyter.widget-view+json": {
       "model_id": "66f8321c7a6042e580f196a0b1eb5218",
       "version_major": 2,
       "version_minor": 0
      },
      "text/plain": [
       "interactive(children=(Dropdown(description='Select Year', index=3, options=(np.int64(1955), np.int64(1960), np…"
      ]
     },
     "execution_count": 56,
     "metadata": {},
     "output_type": "execute_result"
    }
   ],
   "source": [
    "interactive(\n",
    "    plot_hist_lifeexp, \n",
    "    int_year=Dropdown(\n",
    "        description='Select Year',\n",
    "        value=1970,\n",
    "        options=df_gpm_lxp.year.unique()\n",
    "    )\n",
    ")"
   ]
  },
  {
   "cell_type": "markdown",
   "metadata": {},
   "source": [
    "<br>\n",
    "\n",
    "---\n",
    "\n",
    "# Exercise\n",
    "\n",
    "<big>\n",
    "\n",
    "Use the stocks data from vega_datasets to\n",
    "- allow the user to select one or many symbols\n",
    "- plot them all on the same line chart\n",
    "\n",
    "<br>"
   ]
  },
  {
   "cell_type": "code",
   "execution_count": 42,
   "metadata": {},
   "outputs": [
    {
     "data": {
      "text/html": [
       "<div>\n",
       "<style scoped>\n",
       "    .dataframe tbody tr th:only-of-type {\n",
       "        vertical-align: middle;\n",
       "    }\n",
       "\n",
       "    .dataframe tbody tr th {\n",
       "        vertical-align: top;\n",
       "    }\n",
       "\n",
       "    .dataframe thead th {\n",
       "        text-align: right;\n",
       "    }\n",
       "</style>\n",
       "<table border=\"1\" class=\"dataframe\">\n",
       "  <thead>\n",
       "    <tr style=\"text-align: right;\">\n",
       "      <th></th>\n",
       "      <th>symbol</th>\n",
       "      <th>date</th>\n",
       "      <th>price</th>\n",
       "    </tr>\n",
       "  </thead>\n",
       "  <tbody>\n",
       "    <tr>\n",
       "      <th>72</th>\n",
       "      <td>MSFT</td>\n",
       "      <td>2006-01-01</td>\n",
       "      <td>26.14</td>\n",
       "    </tr>\n",
       "    <tr>\n",
       "      <th>321</th>\n",
       "      <td>IBM</td>\n",
       "      <td>2006-04-01</td>\n",
       "      <td>77.05</td>\n",
       "    </tr>\n",
       "    <tr>\n",
       "      <th>190</th>\n",
       "      <td>AMZN</td>\n",
       "      <td>2005-08-01</td>\n",
       "      <td>42.70</td>\n",
       "    </tr>\n",
       "    <tr>\n",
       "      <th>42</th>\n",
       "      <td>MSFT</td>\n",
       "      <td>2003-07-01</td>\n",
       "      <td>21.56</td>\n",
       "    </tr>\n",
       "    <tr>\n",
       "      <th>434</th>\n",
       "      <td>GOOG</td>\n",
       "      <td>2010-01-01</td>\n",
       "      <td>529.94</td>\n",
       "    </tr>\n",
       "  </tbody>\n",
       "</table>\n",
       "</div>"
      ],
      "text/plain": [
       "    symbol       date   price\n",
       "72    MSFT 2006-01-01   26.14\n",
       "321    IBM 2006-04-01   77.05\n",
       "190   AMZN 2005-08-01   42.70\n",
       "42    MSFT 2003-07-01   21.56\n",
       "434   GOOG 2010-01-01  529.94"
      ]
     },
     "execution_count": 42,
     "metadata": {},
     "output_type": "execute_result"
    }
   ],
   "source": [
    "df_stocks = data.stocks()\n",
    "df_stocks.sample(5)"
   ]
  },
  {
   "cell_type": "code",
   "execution_count": 25,
   "metadata": {},
   "outputs": [
    {
     "data": {
      "text/plain": [
       "['MSFT', 'AMZN', 'IBM', 'GOOG', 'AAPL']"
      ]
     },
     "execution_count": 25,
     "metadata": {},
     "output_type": "execute_result"
    }
   ],
   "source": [
    "df_stocks.symbol.unique().tolist()"
   ]
  },
  {
   "cell_type": "code",
   "execution_count": 51,
   "metadata": {},
   "outputs": [],
   "source": [
    "def plot_stocks(list_symbols):\n",
    "    \"\"\"\n",
    "    \"\"\"\n",
    "    ax = df_stocks.query(f\"symbol in {list_symbols}\").pivot(index='date', columns='symbol', values='price').plot(figsize=(7, 3))\n",
    "    ax.set_ylabel(\"Price\")\n",
    "    format_plot(ax)"
   ]
  },
  {
   "cell_type": "markdown",
   "metadata": {},
   "source": [
    "## Use the `SelectMultiple` widget\n",
    "\n",
    "- Allows users to select multiple items from a list (by holding down the CTRL key and clicking on items)\n",
    "- Returns the items selected as a list"
   ]
  },
  {
   "cell_type": "code",
   "execution_count": 55,
   "metadata": {},
   "outputs": [
    {
     "data": {
      "application/vnd.jupyter.widget-view+json": {
       "model_id": "172a05cbf0ca4c838b963fe71c8a08d2",
       "version_major": 2,
       "version_minor": 0
      },
      "text/plain": [
       "interactive(children=(SelectMultiple(description='Pick companies to compare', index=(4,), options=('MSFT', 'AM…"
      ]
     },
     "execution_count": 55,
     "metadata": {},
     "output_type": "execute_result"
    }
   ],
   "source": [
    "interactive(plot_stocks,\n",
    "            list_symbols=SelectMultiple(\n",
    "                description=\"Pick companies to compare\",\n",
    "                value=['AAPL'],\n",
    "                options=df_stocks.loc[:, 'symbol'].unique().tolist()))"
   ]
  },
  {
   "cell_type": "markdown",
   "metadata": {},
   "source": [
    "## 2c. Animation"
   ]
  },
  {
   "cell_type": "code",
   "execution_count": 57,
   "metadata": {},
   "outputs": [],
   "source": [
    "from ipywidgets import Play"
   ]
  },
  {
   "cell_type": "code",
   "execution_count": 48,
   "metadata": {},
   "outputs": [
    {
     "data": {
      "text/plain": [
       "\u001b[31mInit signature:\u001b[39m Play(value=\u001b[38;5;28;01mNone\u001b[39;00m, min=\u001b[38;5;28;01mNone\u001b[39;00m, max=\u001b[38;5;28;01mNone\u001b[39;00m, step=\u001b[38;5;28;01mNone\u001b[39;00m, **kwargs)\n",
       "\u001b[31mDocstring:\u001b[39m     \n",
       "Play/repeat buttons to step through values automatically, and optionally loop.\n",
       "    \n",
       "\u001b[31mInit docstring:\u001b[39m Public constructor\n",
       "\u001b[31mFile:\u001b[39m           ~/Code/cst4150/.fintech/lib/python3.14/site-packages/ipywidgets/widgets/widget_int.py\n",
       "\u001b[31mType:\u001b[39m           MetaHasTraits\n",
       "\u001b[31mSubclasses:\u001b[39m     "
      ]
     },
     "metadata": {},
     "output_type": "display_data"
    }
   ],
   "source": [
    "Play?"
   ]
  },
  {
   "cell_type": "code",
   "execution_count": 67,
   "metadata": {},
   "outputs": [
    {
     "data": {
      "application/vnd.jupyter.widget-view+json": {
       "model_id": "0e6102bc6dc24f9fa6f3671958c5c24f",
       "version_major": 2,
       "version_minor": 0
      },
      "text/plain": [
       "interactive(children=(Play(value=1955, description='Press play', interval=200, max=2005, min=1955, step=5), Ou…"
      ]
     },
     "execution_count": 67,
     "metadata": {},
     "output_type": "execute_result"
    }
   ],
   "source": [
    "play = Play(\n",
    "    interval=200,\n",
    "    value=1955,\n",
    "    min=1955,\n",
    "    max=2005,\n",
    "    step=5,\n",
    "    description=\"Press play\",\n",
    "    disabled=False\n",
    ")\n",
    "\n",
    "interactive_plot = \\\n",
    "interactive(\n",
    "    lambda year: format_plot(df_gpm_lxp\n",
    "                             .query(f\"year=={year}\")\n",
    "                             .loc[:, 'life_expect']\n",
    "                             .plot\n",
    "                             .hist(bins=20, \n",
    "                                   xlim=(0, 100), \n",
    "                                   ylim=(0, 30),\n",
    "                                   title=f\"Global Life Expectancy in {year}\", \n",
    "                                   figsize=(8, 5))), \n",
    "    year=play)\n",
    "\n",
    "# output = interactive_plot.children[-1]\n",
    "interactive_plot"
   ]
  },
  {
   "cell_type": "code",
   "execution_count": 97,
   "metadata": {},
   "outputs": [],
   "source": [
    "def make_scatter_gapminder(year):\n",
    "    \"\"\"\n",
    "    \"\"\"\n",
    "    format_plot(df_gpm_lxp\n",
    "        .query(f\"year=={year}\")\n",
    "        .assign(npop=lambda fr: fr['pop'].divide(fr['pop'].max()).multiply(150))\n",
    "        .plot.scatter(x='fertility', \n",
    "                      y='life_expect', \n",
    "                      s='npop', \n",
    "                      c='cluster',\n",
    "                      xlim=(0, 12),\n",
    "                      ylim=(0, 100),\n",
    "                      title=year,\n",
    "                      cmap='Spectral'))"
   ]
  },
  {
   "cell_type": "code",
   "execution_count": 98,
   "metadata": {},
   "outputs": [
    {
     "data": {
      "application/vnd.jupyter.widget-view+json": {
       "model_id": "ed941ffd678b4818a194dd42579b46b3",
       "version_major": 2,
       "version_minor": 0
      },
      "text/plain": [
       "interactive(children=(Play(value=1955, description='Press play', interval=600, max=2005, min=1955, step=5), Ou…"
      ]
     },
     "execution_count": 98,
     "metadata": {},
     "output_type": "execute_result"
    }
   ],
   "source": [
    "play = Play(\n",
    "    interval=600,\n",
    "    value=1955,\n",
    "    min=1955,\n",
    "    max=2005,\n",
    "    step=5,\n",
    "    description=\"Press play\",\n",
    "    disabled=False\n",
    ")\n",
    "\n",
    "interactive(make_scatter_gapminder, year=play)"
   ]
  },
  {
   "cell_type": "code",
   "execution_count": null,
   "metadata": {},
   "outputs": [],
   "source": []
  }
 ],
 "metadata": {
  "kernelspec": {
   "display_name": "Python 3 (ipykernel)",
   "language": "python",
   "name": "python3"
  },
  "language_info": {
   "codemirror_mode": {
    "name": "ipython",
    "version": 3
   },
   "file_extension": ".py",
   "mimetype": "text/x-python",
   "name": "python",
   "nbconvert_exporter": "python",
   "pygments_lexer": "ipython3",
   "version": "3.13.7"
  }
 },
 "nbformat": 4,
 "nbformat_minor": 4
}
