{
 "cells": [
  {
   "cell_type": "code",
   "execution_count": 2,
   "metadata": {},
   "outputs": [],
   "source": [
    "import os\n",
    "import numpy as np\n",
    "import pandas as pd"
   ]
  },
  {
   "cell_type": "code",
   "execution_count": 3,
   "metadata": {},
   "outputs": [],
   "source": [
    "import matplotlib.pyplot as plt"
   ]
  },
  {
   "cell_type": "code",
   "execution_count": 4,
   "metadata": {},
   "outputs": [],
   "source": [
    "import altair as alt\n",
    "from vega_datasets import data"
   ]
  },
  {
   "cell_type": "markdown",
   "metadata": {},
   "source": [
    "## Get Data"
   ]
  },
  {
   "cell_type": "code",
   "execution_count": null,
   "metadata": {},
   "outputs": [],
   "source": [
    "data."
   ]
  },
  {
   "cell_type": "code",
   "execution_count": null,
   "metadata": {},
   "outputs": [],
   "source": [
    "df_gpm_lxp = data.gapminder()\n",
    "df_gpm_lxp.head()"
   ]
  },
  {
   "cell_type": "code",
   "execution_count": 5,
   "metadata": {},
   "outputs": [
    {
     "data": {
      "text/html": [
       "<div>\n",
       "<style scoped>\n",
       "    .dataframe tbody tr th:only-of-type {\n",
       "        vertical-align: middle;\n",
       "    }\n",
       "\n",
       "    .dataframe tbody tr th {\n",
       "        vertical-align: top;\n",
       "    }\n",
       "\n",
       "    .dataframe thead th {\n",
       "        text-align: right;\n",
       "    }\n",
       "</style>\n",
       "<table border=\"1\" class=\"dataframe\">\n",
       "  <thead>\n",
       "    <tr style=\"text-align: right;\">\n",
       "      <th></th>\n",
       "      <th>country</th>\n",
       "      <th>income</th>\n",
       "      <th>health</th>\n",
       "      <th>population</th>\n",
       "    </tr>\n",
       "  </thead>\n",
       "  <tbody>\n",
       "    <tr>\n",
       "      <th>0</th>\n",
       "      <td>Afghanistan</td>\n",
       "      <td>1925</td>\n",
       "      <td>57.63</td>\n",
       "      <td>32526562</td>\n",
       "    </tr>\n",
       "    <tr>\n",
       "      <th>1</th>\n",
       "      <td>Albania</td>\n",
       "      <td>10620</td>\n",
       "      <td>76.00</td>\n",
       "      <td>2896679</td>\n",
       "    </tr>\n",
       "    <tr>\n",
       "      <th>2</th>\n",
       "      <td>Algeria</td>\n",
       "      <td>13434</td>\n",
       "      <td>76.50</td>\n",
       "      <td>39666519</td>\n",
       "    </tr>\n",
       "    <tr>\n",
       "      <th>3</th>\n",
       "      <td>Andorra</td>\n",
       "      <td>46577</td>\n",
       "      <td>84.10</td>\n",
       "      <td>70473</td>\n",
       "    </tr>\n",
       "    <tr>\n",
       "      <th>4</th>\n",
       "      <td>Angola</td>\n",
       "      <td>7615</td>\n",
       "      <td>61.00</td>\n",
       "      <td>25021974</td>\n",
       "    </tr>\n",
       "    <tr>\n",
       "      <th>...</th>\n",
       "      <td>...</td>\n",
       "      <td>...</td>\n",
       "      <td>...</td>\n",
       "      <td>...</td>\n",
       "    </tr>\n",
       "    <tr>\n",
       "      <th>182</th>\n",
       "      <td>Vietnam</td>\n",
       "      <td>5623</td>\n",
       "      <td>76.50</td>\n",
       "      <td>93447601</td>\n",
       "    </tr>\n",
       "    <tr>\n",
       "      <th>183</th>\n",
       "      <td>West Bank and Gaza</td>\n",
       "      <td>4319</td>\n",
       "      <td>75.20</td>\n",
       "      <td>4668466</td>\n",
       "    </tr>\n",
       "    <tr>\n",
       "      <th>184</th>\n",
       "      <td>Yemen</td>\n",
       "      <td>3887</td>\n",
       "      <td>67.60</td>\n",
       "      <td>26832215</td>\n",
       "    </tr>\n",
       "    <tr>\n",
       "      <th>185</th>\n",
       "      <td>Zambia</td>\n",
       "      <td>4034</td>\n",
       "      <td>58.96</td>\n",
       "      <td>16211767</td>\n",
       "    </tr>\n",
       "    <tr>\n",
       "      <th>186</th>\n",
       "      <td>Zimbabwe</td>\n",
       "      <td>1801</td>\n",
       "      <td>60.01</td>\n",
       "      <td>15602751</td>\n",
       "    </tr>\n",
       "  </tbody>\n",
       "</table>\n",
       "<p>187 rows × 4 columns</p>\n",
       "</div>"
      ],
      "text/plain": [
       "                country  income  health  population\n",
       "0           Afghanistan    1925   57.63    32526562\n",
       "1               Albania   10620   76.00     2896679\n",
       "2               Algeria   13434   76.50    39666519\n",
       "3               Andorra   46577   84.10       70473\n",
       "4                Angola    7615   61.00    25021974\n",
       "..                  ...     ...     ...         ...\n",
       "182             Vietnam    5623   76.50    93447601\n",
       "183  West Bank and Gaza    4319   75.20     4668466\n",
       "184               Yemen    3887   67.60    26832215\n",
       "185              Zambia    4034   58.96    16211767\n",
       "186            Zimbabwe    1801   60.01    15602751\n",
       "\n",
       "[187 rows x 4 columns]"
      ]
     },
     "execution_count": 5,
     "metadata": {},
     "output_type": "execute_result"
    }
   ],
   "source": [
    "data.gapminder_health_income()"
   ]
  },
  {
   "cell_type": "markdown",
   "metadata": {},
   "source": [
    "## The most basic Chart\n",
    "\n",
    "- Super quick to make"
   ]
  },
  {
   "cell_type": "code",
   "execution_count": 6,
   "metadata": {},
   "outputs": [
    {
     "data": {
      "text/plain": [
       "<Axes: title={'center': 'Distribution of Life Expectancy in 1970'}, ylabel='Frequency'>"
      ]
     },
     "execution_count": 6,
     "metadata": {},
     "output_type": "execute_result"
    },
    {
     "data": {
      "image/png": "[encoded data removed]",
      "text/plain": [
       "<Figure size 640x480 with 1 Axes>"
      ]
     },
     "metadata": {},
     "output_type": "display_data"
    }
   ],
   "source": [
    "(df_gpm_lxp\n",
    " .set_index('year')\n",
    " .loc[1970, 'life_expect']\n",
    " .plot.hist(title='Distribution of Life Expectancy in 1970')\n",
    ")"
   ]
  },
  {
   "cell_type": "code",
   "execution_count": 7,
   "metadata": {},
   "outputs": [
    {
     "data": {
      "text/plain": [
       "<Axes: title={'center': 'Distribution of Life Expectancy in 1970'}, ylabel='Frequency'>"
      ]
     },
     "execution_count": 7,
     "metadata": {},
     "output_type": "execute_result"
    },
    {
     "data": {
      "image/png": "[encoded data removed]",
      "text/plain": [
       "<Figure size 800x500 with 1 Axes>"
      ]
     },
     "metadata": {},
     "output_type": "display_data"
    }
   ],
   "source": [
    "def make_simple_histogram():\n",
    "    \"\"\"\n",
    "    \"\"\"\n",
    "    ax = \\\n",
    "    (df_gpm_lxp\n",
    "     .set_index('year')\n",
    "     .loc[1970, 'life_expect']\n",
    "     .plot\n",
    "     .hist(\n",
    "         title='Distribution of Life Expectancy in 1970', \n",
    "         color='orange', \n",
    "         alpha=0.75, \n",
    "         grid=True, \n",
    "         legend=True, \n",
    "         xlim=(0, 100), \n",
    "         figsize=(8, 5), \n",
    "         fontsize=10, \n",
    "         xticks=range(0, 101, 10), \n",
    "         yticks=range(0, 51, 10))\n",
    "    )\n",
    "    return ax\n",
    "\n",
    "make_simple_histogram()"
   ]
  },
  {
   "cell_type": "markdown",
   "metadata": {},
   "source": [
    "## Does not look very professional. Let's try to clean it up.\n",
    "\n",
    "- This is because we're using the `classic` style"
   ]
  },
  {
   "cell_type": "code",
   "execution_count": 8,
   "metadata": {},
   "outputs": [],
   "source": [
    "import seaborn as sns"
   ]
  },
  {
   "cell_type": "code",
   "execution_count": 9,
   "metadata": {},
   "outputs": [
    {
     "data": {
      "text/plain": [
       "''"
      ]
     },
     "execution_count": 9,
     "metadata": {},
     "output_type": "execute_result"
    },
    {
     "data": {
      "image/png": "[encoded data removed]",
      "text/plain": [
       "<Figure size 800x500 with 1 Axes>"
      ]
     },
     "metadata": {},
     "output_type": "display_data"
    }
   ],
   "source": [
    "sns.set_style(\"whitegrid\")\n",
    "# try: plt.style.available\n",
    "\n",
    "sns.set_context(\"notebook\")\n",
    "# try: poster, talk\n",
    "\n",
    "# make the plot\n",
    "ax = make_simple_histogram()\n",
    "\n",
    "# remove extra spines\n",
    "sns.despine(ax=ax)\n",
    "\n",
    "# make the grid lighter\n",
    "ax.grid(True, linestyle=\":\", alpha=0.5)\n",
    "\n",
    "font_title = {\n",
    "    'size': 16, \n",
    "    'weight': 'bold', \n",
    "    'name': 'monospace'\n",
    "}\n",
    "\n",
    "font_axes = {\n",
    "    'size': 12, \n",
    "    'weight': 'bold', \n",
    "    'name': 'monospace'\n",
    "}\n",
    "\n",
    "# add a label to the axes\n",
    "ax.set_title(\"Global Distribution of\\n Life Expectancy in 1970\\n\", fontdict=font_title)\n",
    "ax.set_xlabel(\"\\nLife Expectancy Bins\", fontdict=font_axes)\n",
    "ax.set_ylabel(\"No. of Countries\\n\", fontdict=font_axes)\n",
    "\n",
    "# move the legend outside\n",
    "if ax.get_legend():\n",
    "    ax.legend(bbox_to_anchor=(1.1, 0.2))\n",
    "    \n",
    "avg_life_expectancy =  \\\n",
    "(df_gpm_lxp\n",
    " .set_index('year')\n",
    " .loc[1970, 'life_expect']\n",
    " .mean()\n",
    " .round(1))    \n",
    "    \n",
    "# add a vertical line\n",
    "ax.vlines(x=avg_life_expectancy, \n",
    "          ymin=0, \n",
    "          ymax=45, \n",
    "          color='steelblue', \n",
    "          linestyle='dashed', \n",
    "          alpha=0.6)\n",
    "    \n",
    "# annotate\n",
    "ax.text(x=avg_life_expectancy + 5,\n",
    "        y=40, \n",
    "        s=f\"The average life-expectancy\\nwas around just {avg_life_expectancy}\" ,\n",
    "        fontdict={'name': 'monospace', 'size': 12})\n",
    ";"
   ]
  },
  {
   "cell_type": "markdown",
   "metadata": {},
   "source": [
    "### Let's keep the useful bits in a function for re-use"
   ]
  },
  {
   "cell_type": "code",
   "execution_count": 10,
   "metadata": {},
   "outputs": [],
   "source": [
    "def format_plot(ax):\n",
    "    \"\"\"\n",
    "    \"\"\"\n",
    "    sns.set_style(\"whitegrid\")\n",
    "    \n",
    "    font_title = {\n",
    "        'size': 16, \n",
    "        'weight': 'bold', \n",
    "        'name': 'monospace'\n",
    "    }\n",
    "\n",
    "    font_axes = {\n",
    "        'size': 14, \n",
    "        'weight': 'bold', \n",
    "        'name': 'monospace'\n",
    "    }\n",
    "\n",
    "    ax.grid(True, linestyle=\":\", alpha=0.6)\n",
    "    sns.despine(ax=ax)\n",
    "\n",
    "    if ax.get_legend():\n",
    "        ax.legend(bbox_to_anchor=(1.1, 1))\n",
    "    \n",
    "    ax.set_title(f\"\\n\\n{ax.get_title()}\\n\", fontdict=font_title)\n",
    "    ax.set_xlabel(f\"\\n{ax.get_xlabel()} ➞\", fontdict=font_axes)\n",
    "    ax.set_ylabel(f\"{ax.get_ylabel()} ➞\\n\", fontdict=font_axes)"
   ]
  },
  {
   "cell_type": "markdown",
   "metadata": {},
   "source": [
    "---\n",
    "# Part 2: IPython Widgets"
   ]
  },
  {
   "cell_type": "markdown",
   "metadata": {},
   "source": [
    "- IPython Widgets\n",
    "- See: https://ipywidgets.readthedocs.io/en/latest/examples/Widget%20List.html\n",
    "\n",
    "## 2a. Standalone Widgets"
   ]
  },
  {
   "cell_type": "code",
   "execution_count": 11,
   "metadata": {},
   "outputs": [],
   "source": [
    "from ipywidgets import Dropdown, IntSlider, FloatSlider, ToggleButtons, SelectMultiple"
   ]
  },
  {
   "cell_type": "markdown",
   "metadata": {},
   "source": [
    "### Dropdown"
   ]
  },
  {
   "cell_type": "code",
   "execution_count": 12,
   "metadata": {},
   "outputs": [
    {
     "data": {
      "application/vnd.jupyter.widget-view+json": {
       "model_id": "1f675317ab5a4a74b45735ea628f3ab6",
       "version_major": 2,
       "version_minor": 0
      },
      "text/plain": [
       "Dropdown(description='Pick one:', options=('apples', 'grapes', 'bananas', 'oranges'), value='apples')"
      ]
     },
     "execution_count": 12,
     "metadata": {},
     "output_type": "execute_result"
    }
   ],
   "source": [
    "fruits = Dropdown(value='apples', \n",
    "                  description='Pick one:',\n",
    "                  options=['apples', 'grapes', 'bananas', 'oranges'])\n",
    "fruits"
   ]
  },
  {
   "cell_type": "code",
   "execution_count": 24,
   "metadata": {},
   "outputs": [
    {
     "name": "stdout",
     "output_type": "stream",
     "text": [
      "You selected apples\n"
     ]
    }
   ],
   "source": [
    "print(f\"You selected {fruits.value}\")"
   ]
  },
  {
   "cell_type": "raw",
   "metadata": {},
   "source": [
    "!jupyter labextension install @jupyter-widgets/jupyterlab-manager"
   ]
  },
  {
   "cell_type": "markdown",
   "metadata": {},
   "source": [
    "### Slider"
   ]
  },
  {
   "cell_type": "code",
   "execution_count": 15,
   "metadata": {},
   "outputs": [
    {
     "data": {
      "application/vnd.jupyter.widget-view+json": {
       "model_id": "4b8ae33093be48dcb123266a479e311a",
       "version_major": 2,
       "version_minor": 0
      },
      "text/plain": [
       "IntSlider(value=30, description='Age: ', max=50, min=20)"
      ]
     },
     "execution_count": 15,
     "metadata": {},
     "output_type": "execute_result"
    }
   ],
   "source": [
    "ages = IntSlider(description=\"Age: \",\n",
    "                     value=30, \n",
    "                     min=20, \n",
    "                     max=50, \n",
    "                     step=1)\n",
    "ages"
   ]
  },
  {
   "cell_type": "code",
   "execution_count": 14,
   "metadata": {},
   "outputs": [
    {
     "name": "stdout",
     "output_type": "stream",
     "text": [
      "You selected 30\n"
     ]
    }
   ],
   "source": [
    "print(f\"You selected {ages.value}\")"
   ]
  },
  {
   "cell_type": "markdown",
   "metadata": {},
   "source": [
    "### Toggle"
   ]
  },
  {
   "cell_type": "code",
   "execution_count": 15,
   "metadata": {},
   "outputs": [
    {
     "data": {
      "application/vnd.jupyter.widget-view+json": {
       "model_id": "6cbd36418a4c4c5dbc4be34faea000b0",
       "version_major": 2,
       "version_minor": 0
      },
      "text/plain": [
       "ToggleButtons(description='Call me:', index=2, options=('No', 'Yes', 'Maybe'), value='Maybe')"
      ]
     },
     "metadata": {},
     "output_type": "display_data"
    }
   ],
   "source": [
    "rsvp = ToggleButtons(value='Maybe', options=['No', 'Yes', 'Maybe'], description='Call me:')\n",
    "rsvp"
   ]
  },
  {
   "cell_type": "code",
   "execution_count": 16,
   "metadata": {},
   "outputs": [
    {
     "name": "stdout",
     "output_type": "stream",
     "text": [
      "You selected Maybe\n"
     ]
    }
   ],
   "source": [
    "print(f\"You selected {rsvp.value}\")"
   ]
  },
  {
   "cell_type": "markdown",
   "metadata": {},
   "source": [
    "### Select"
   ]
  },
  {
   "cell_type": "code",
   "execution_count": 17,
   "metadata": {},
   "outputs": [
    {
     "data": {
      "application/vnd.jupyter.widget-view+json": {
       "model_id": "e179e912841048a2aadb8a266a4e88dd",
       "version_major": 2,
       "version_minor": 0
      },
      "text/plain": [
       "SelectMultiple(description='Lunch order', options=('spaghetti', 'lasagna', 'pasta', 'salad', 'calzone', 'wine'…"
      ]
     },
     "metadata": {},
     "output_type": "display_data"
    }
   ],
   "source": [
    "lunch = SelectMultiple(description='Lunch order', options=['spaghetti', 'lasagna', 'pasta', 'salad', 'calzone', 'wine'])\n",
    "lunch"
   ]
  },
  {
   "cell_type": "code",
   "execution_count": 18,
   "metadata": {},
   "outputs": [
    {
     "name": "stdout",
     "output_type": "stream",
     "text": [
      "You selected ()\n"
     ]
    }
   ],
   "source": [
    "print(f\"You selected {lunch.value}\")"
   ]
  },
  {
   "cell_type": "markdown",
   "metadata": {},
   "source": [
    "## 2b. Interactive!\n"
   ]
  },
  {
   "cell_type": "code",
   "execution_count": 4,
   "metadata": {},
   "outputs": [],
   "source": [
    "from ipywidgets import interactive"
   ]
  },
  {
   "cell_type": "markdown",
   "metadata": {},
   "source": [
    "### Example 1: Life Expectancy"
   ]
  },
  {
   "cell_type": "markdown",
   "metadata": {},
   "source": [
    "- Here, the lambda function receives the value of year from the widget, filters the data to retain relevant rows and plots the histogram\n",
    "- The Dropdown widget just passes the selected value to the lambda"
   ]
  },
  {
   "cell_type": "code",
   "execution_count": null,
   "metadata": {},
   "outputs": [],
   "source": [
    "interactive(\n",
    "    lambda year: format_plot(df_gpm_lxp\n",
    "                             .loc[:, year]\n",
    "                             .plot\n",
    "                             .hist(bins=20, \n",
    "                                   xlim=(0, 100), \n",
    "                                   title=f\"Global Life Expectancy in {year}\", \n",
    "                                   figsize=(8, 5))), \n",
    "    year=Dropdown(\n",
    "        description='Select Year',\n",
    "        value='1970',\n",
    "        options=df_gpm_lxp.columns.tolist()[1:]\n",
    "    )\n",
    ")"
   ]
  },
  {
   "cell_type": "markdown",
   "metadata": {},
   "source": [
    "**Example 2: Stocks**"
   ]
  },
  {
   "cell_type": "code",
   "execution_count": 22,
   "metadata": {},
   "outputs": [
    {
     "data": {
      "application/vnd.jupyter.widget-view+json": {
       "model_id": "3d9b535b8daa47ab9c89f723c71fb0e3",
       "version_major": 2,
       "version_minor": 0
      },
      "text/plain": [
       "interactive(children=(SelectMultiple(description='Pick companies to compare', index=(0, 3), options=('AAPL', '…"
      ]
     },
     "metadata": {},
     "output_type": "display_data"
    }
   ],
   "source": [
    "df_stocks['Date'] = pd.to_datetime(df_stocks['Date'])\n",
    "\n",
    "def f(companies):\n",
    "    ax = \\\n",
    "    pd.concat([\n",
    "        (df_stocks\n",
    "         .query(f\"Company == '{company}'\")\n",
    "         .set_index(\"Date\")\n",
    "         .loc[:, 'Adj Close']\n",
    "         .pipe(Series, name=company)\n",
    "         .resample('M')\n",
    "         .mean()\n",
    "        ) for company in companies\n",
    "    ], axis=1).plot(title=f'Comparing {[i.upper() for i in companies]}', figsize=(15, 7))\n",
    "    ax.set_ylabel(\"Value at Close\")\n",
    "    format_plot(ax)\n",
    "\n",
    "\n",
    "interactive(f,\n",
    "            companies=SelectMultiple(description=\"Pick companies to compare\",\n",
    "                           value=['AAPL', 'IBM'],\n",
    "                           options=df_stocks.Company.unique().tolist())\n",
    "           )"
   ]
  },
  {
   "cell_type": "markdown",
   "metadata": {},
   "source": [
    "## 2c. Animation"
   ]
  },
  {
   "cell_type": "code",
   "execution_count": 23,
   "metadata": {},
   "outputs": [],
   "source": [
    "from ipywidgets import Play"
   ]
  },
  {
   "cell_type": "code",
   "execution_count": 24,
   "metadata": {},
   "outputs": [
    {
     "data": {
      "text/plain": [
       "\u001b[0;31mInit signature:\u001b[0m \u001b[0mPlay\u001b[0m\u001b[0;34m(\u001b[0m\u001b[0;34m*\u001b[0m\u001b[0margs\u001b[0m\u001b[0;34m,\u001b[0m \u001b[0;34m**\u001b[0m\u001b[0mkwargs\u001b[0m\u001b[0;34m)\u001b[0m\u001b[0;34m\u001b[0m\u001b[0m\n",
       "\u001b[0;31mDocstring:\u001b[0m     \n",
       "Play/repeat buttons to step through values automatically, and optionally loop.\n",
       "    \n",
       "\u001b[0;31mInit docstring:\u001b[0m Public constructor\n",
       "\u001b[0;31mFile:\u001b[0m           ~/miniconda3/envs/iqoslp/lib/python3.6/site-packages/ipywidgets/widgets/widget_int.py\n",
       "\u001b[0;31mType:\u001b[0m           MetaHasTraits\n"
      ]
     },
     "metadata": {},
     "output_type": "display_data"
    }
   ],
   "source": [
    "Play?"
   ]
  },
  {
   "cell_type": "code",
   "execution_count": 25,
   "metadata": {},
   "outputs": [
    {
     "data": {
      "application/vnd.jupyter.widget-view+json": {
       "model_id": "29597a4969fd4519a47012a96b73d1cc",
       "version_major": 2,
       "version_minor": 0
      },
      "text/plain": [
       "interactive(children=(Play(value=1965, description='Press play', max=2010, min=1965), Output(layout=Layout(hei…"
      ]
     },
     "metadata": {},
     "output_type": "display_data"
    }
   ],
   "source": [
    "play = Play(\n",
    "    interval=100,\n",
    "    value=1965,\n",
    "    min=1965,\n",
    "    max=2010,\n",
    "    step=1,\n",
    "    description=\"Press play\",\n",
    "    disabled=False\n",
    ")\n",
    "\n",
    "interactive_plot = \\\n",
    "interactive(\n",
    "    lambda year: format_plot(df_gpm_lxp\n",
    "                             .loc[:, str(year)]\n",
    "                             .plot\n",
    "                             .hist(bins=20, \n",
    "                                   xlim=(0, 100), \n",
    "                                   ylim=(0, 50),\n",
    "                                   title=f\"Global Life Expectancy in {year}\", \n",
    "                                   figsize=(8, 5))), \n",
    "    year=play)\n",
    "\n",
    "output = interactive_plot.children[-1]\n",
    "output.layout.height = '400px'\n",
    "interactive_plot"
   ]
  },
  {
   "cell_type": "markdown",
   "metadata": {},
   "source": [
    "- Not a smooth animation, but great for prototyping without additional tools\n",
    "- Libraries like `bqplot` help animate things better"
   ]
  },
  {
   "cell_type": "markdown",
   "metadata": {},
   "source": [
    "---\n",
    "## 2d. Listening for changes\n",
    "\n",
    "Widgets have \n",
    "- attributes (called *traits*) like `value`\n",
    "- methods like `observe` which require a handler function and a trait to control\n",
    "\n",
    "Here's an example where we link the value trait of two simple widgets:"
   ]
  },
  {
   "cell_type": "code",
   "execution_count": 1,
   "metadata": {},
   "outputs": [],
   "source": [
    "from ipywidgets import IntSlider, HTML, HBox, VBox"
   ]
  },
  {
   "cell_type": "code",
   "execution_count": 2,
   "metadata": {},
   "outputs": [],
   "source": [
    "slider = IntSlider(value=25)\n",
    "text = HTML(f\"The slider's current value is {slider.value}\")"
   ]
  },
  {
   "cell_type": "code",
   "execution_count": 3,
   "metadata": {},
   "outputs": [
    {
     "data": {
      "application/vnd.jupyter.widget-view+json": {
       "model_id": "8900c98a16304339b315828b8f353469",
       "version_major": 2,
       "version_minor": 0
      },
      "text/plain": [
       "VBox(children=(IntSlider(value=25), HTML(value=\"The slider's current value is 25\")))"
      ]
     },
     "metadata": {},
     "output_type": "display_data"
    }
   ],
   "source": [
    "def update_html(change):\n",
    "    text.value = f\"The slider's current value is {slider.value}\"\n",
    "    \n",
    "slider.observe(handler=update_html, names='value')    \n",
    "\n",
    "VBox([slider, text])"
   ]
  },
  {
   "cell_type": "markdown",
   "metadata": {},
   "source": [
    "---\n",
    "## Changing figure values"
   ]
  },
  {
   "cell_type": "code",
   "execution_count": 9,
   "metadata": {},
   "outputs": [],
   "source": [
    "import matplotlib.pyplot as plt\n",
    "import pandas as pd"
   ]
  },
  {
   "cell_type": "code",
   "execution_count": 11,
   "metadata": {},
   "outputs": [
    {
     "data": {
      "image/png": "[encoded data removed]",
      "text/plain": [
       "<Figure size 432x288 with 1 Axes>"
      ]
     },
     "metadata": {
      "needs_background": "light"
     },
     "output_type": "display_data"
    }
   ],
   "source": [
    "fig, ax = plt.subplots()"
   ]
  },
  {
   "cell_type": "code",
   "execution_count": null,
   "metadata": {},
   "outputs": [],
   "source": []
  }
 ],
 "metadata": {
  "kernelspec": {
   "display_name": "fintech",
   "language": "python",
   "name": "fintech"
  },
  "language_info": {
   "codemirror_mode": {
    "name": "ipython",
    "version": 3
   },
   "file_extension": ".py",
   "mimetype": "text/x-python",
   "name": "python",
   "nbconvert_exporter": "python",
   "pygments_lexer": "ipython3",
   "version": "3.13.3"
  }
 },
 "nbformat": 4,
 "nbformat_minor": 4
}
