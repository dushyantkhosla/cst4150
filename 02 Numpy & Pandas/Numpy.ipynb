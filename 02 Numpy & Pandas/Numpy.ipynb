{
 "cells": [
  {
   "cell_type": "markdown",
   "id": "48ab6399-a428-43a6-9ae9-feb58c852d7f",
   "metadata": {
    "collapsed": true,
    "jupyter": {
     "outputs_hidden": true
    }
   },
   "source": [
    "<br>\n",
    "\n",
    "<center>\n",
    "\n",
    "# $NumPy$\n",
    "\n",
    "</center>\n",
    "\n",
    "<br>\n",
    "\n",
    "---\n",
    "\n",
    "[Numpy](http://www.numpy.org/) is the fundamental library for all scientific computing in Python. It provides a *high-performance, homogenous, multidimensional* array and matrix objects called the `ndarray`, along with an assortment of high-level functions for fast operations on these arrays, such as:\n",
    "\n",
    "\n",
    "\n",
    "* mathematical, logical routines \n",
    "* shape manipulations \n",
    "* sorting, selecting data\n",
    "* basic linear algebra and statistical operations, \n",
    "* random number generation capabilities\n",
    "* sophisticated (broadcasting) functions\n",
    "\n",
    "> Almost every data analysis or machine learning package in the PyData ecosystem (most notably `pandas` and `scikit-learn`) uses NumPy ndarrays under the hood.\n",
    "\n",
    "Alright, let's jump into some code. Conventionally, we start with importing the module\n",
    "\n",
    "```python\n",
    "import numpy as np\n",
    "```\n",
    "\n",
    "---\n",
    "# NumPy Arrays\n",
    "\n",
    "- A NumPy array is a homogeneous collection of elements (usually *numerics*), indexed by a tuple of positive integers.\n",
    "- In NumPy the dimensions are called *axes*.\n",
    "- The number of axes is known as the *rank* of the array. For example, a 2D array has a rank of 2.\n",
    "\n",
    "Arrays can be of different *types*:\n",
    "\n",
    "- `int, float, string, object, bool`\n",
    "\n",
    "- type conversion can be achieved using `.astype()`\n",
    "\n",
    "<br>\n",
    "\n",
    "---\n",
    "# Creating an `array`\n",
    "\n",
    "Arrays can be **created** by\n",
    "\n",
    "  * calling `np.array()` or `reshape` on Python lists or nested lists\n",
    "\n",
    "  * using special functions like `np.zeros(), np.ones(), np.eye()`\n",
    "\n",
    "  * using sequence generators like `np.linspace(), np.arange()`\n",
    "\n",
    "  * using random number generators like `np.random.randint(), np.random.randn()`\n",
    "\n",
    "You may read about other methods of array creation [in the documentation](http://docs.scipy.org/doc/numpy/user/basics.creation.html#arrays-creation)\n",
    "\n",
    "```python\n",
    "# Create a 1D array from a Python list\n",
    " In [9]: ndarr_1 = np.array([100, 3, 19, 75, 43]) \n",
    "In [10]: ndarr_1\n",
    "Out[10]: array([100,   3,  19,  75,  43])\n",
    "\n",
    "# Create a 2D array from a Python list-of-lists    \n",
    "In [11]: ndarr_2 = np.array([[2, 4, 6], [3, 5, 7]])\n",
    "In [12]: ndarr_2\n",
    "Out[12]: \n",
    "array([[2, 4, 6],\n",
    "       [3, 5, 7]])\n",
    "\n",
    "# Create a 2D array by reshaping a 1D array\n",
    "In [14]: ndarr_3 = np.arange(20).reshape(4, 5)\n",
    "In [15]: ndarr_3\n",
    "Out[15]: \n",
    "array([[ 0,  1,  2,  3,  4],\n",
    "       [ 5,  6,  7,  8,  9],\n",
    "       [10, 11, 12, 13, 14],\n",
    "       [15, 16, 17, 18, 19]])\n",
    "\n",
    "# Create a 3x3 array filled with random integers\n",
    "In [16]: arr_4 = np.random.randint(0, 100, 9).reshape(3, 3)\n",
    "In [17]: arr_4\n",
    "Out[17]: \n",
    "array([[66, 87, 41],\n",
    "       [49, 41, 33],\n",
    "       [ 5, 57, 78]])\n",
    "\n",
    "# Create a 4x4 matrix filled with random numbers\n",
    "In [26]: arr_5 = np.random.rand(4, 4)\n",
    "In [27]: arr_5\n",
    "Out[27]: \n",
    "array([[ 0.35827069,  0.0687782 ,  0.16042925,  0.40275736],\n",
    "       [ 0.8666519 ,  0.66905765,  0.05632903,  0.41828043],\n",
    "       [ 0.12067091,  0.34682221,  0.68698091,  0.87333071],\n",
    "       [ 0.72627949,  0.56991059,  0.80397042,  0.50586414]])       \n",
    "```       \n",
    "\n",
    "<br>\n",
    "\n",
    "## Run the code cells below and try different ways of array creation"
   ]
  },
  {
   "cell_type": "raw",
   "id": "516fa535-62cd-4ca4-b8ba-4f2a5da7a8e1",
   "metadata": {},
   "source": [
    "import numpy as np"
   ]
  },
  {
   "cell_type": "raw",
   "id": "0c890a4d-30ef-4ba9-9214-f37cc71a93f3",
   "metadata": {
    "collapsed": false,
    "jupyter": {
     "outputs_hidden": false
    }
   },
   "source": [
    "arr_1d = np.array((1, 2, 3)) # array from a tuple\n",
    "arr_1d"
   ]
  },
  {
   "cell_type": "raw",
   "id": "ad6216ac-0260-4f63-b33a-3545b5d3974e",
   "metadata": {
    "collapsed": false,
    "jupyter": {
     "outputs_hidden": false
    }
   },
   "source": [
    "type(arr_1d)"
   ]
  },
  {
   "cell_type": "raw",
   "id": "a008cbaf-ae1a-4caf-8505-1d294c50c255",
   "metadata": {
    "collapsed": false,
    "jupyter": {
     "outputs_hidden": false
    }
   },
   "source": [
    "arr_1d.shape"
   ]
  },
  {
   "cell_type": "raw",
   "id": "528ab77f-6230-45cc-8715-48b13437bfa8",
   "metadata": {
    "collapsed": false,
    "jupyter": {
     "outputs_hidden": false
    }
   },
   "source": [
    "arr_2d = np.array([[1, 2, 3], [4, 5, 6], [7, 8, 9]])\n",
    "arr_2d"
   ]
  },
  {
   "cell_type": "raw",
   "id": "1f1aee0c-7752-4145-9198-16d69d5f7639",
   "metadata": {
    "collapsed": false,
    "jupyter": {
     "outputs_hidden": false
    }
   },
   "source": [
    "arr_2d.shape"
   ]
  },
  {
   "cell_type": "raw",
   "id": "04296acc-6612-48fa-a1df-05bcc00da733",
   "metadata": {
    "collapsed": false,
    "jupyter": {
     "outputs_hidden": false
    }
   },
   "source": [
    "arr_3d = np.array([arr_2d, arr_2d])\n",
    "arr_3d"
   ]
  },
  {
   "cell_type": "raw",
   "id": "d6fc726d-bb18-44f9-aefc-1b70b4d69cd3",
   "metadata": {
    "collapsed": false,
    "jupyter": {
     "outputs_hidden": false
    }
   },
   "source": [
    "arr_3d.shape"
   ]
  },
  {
   "cell_type": "raw",
   "id": "e4a2ec65-cc84-4e42-9ee7-e853a8f19e2d",
   "metadata": {},
   "source": [
    "# Using generation functions\n",
    "\n",
    "print(np.arange(16))\n",
    "np.arange(16).reshape(4, 4)"
   ]
  },
  {
   "cell_type": "raw",
   "id": "e44c9fcc-a690-4009-8daa-2d9d2dd6d78f",
   "metadata": {
    "collapsed": false,
    "jupyter": {
     "outputs_hidden": false
    }
   },
   "source": [
    "np.linspace(0, 1, 10).reshape(5, 2)"
   ]
  },
  {
   "cell_type": "raw",
   "id": "737ba78d-e3fc-43c2-aec6-a9671af329a1",
   "metadata": {},
   "source": [
    "# Using random numbers\n",
    "\n",
    "arr_1d = np.random.randint(1, 100, 16)\n",
    "arr_1d"
   ]
  },
  {
   "cell_type": "raw",
   "id": "a771f04a-6580-4729-b465-0e682dc44ecf",
   "metadata": {
    "collapsed": false,
    "jupyter": {
     "outputs_hidden": false
    }
   },
   "source": [
    "arr_2d = np.random.randint(0, 1000, 16).reshape(4, 4)\n",
    "arr_2d"
   ]
  },
  {
   "cell_type": "raw",
   "id": "06c60c03-49e4-4394-9b0d-d52e674cc164",
   "metadata": {
    "collapsed": false,
    "jupyter": {
     "outputs_hidden": false
    }
   },
   "source": [
    "np.random.randn(30).reshape(5, 6).round(2)"
   ]
  },
  {
   "cell_type": "markdown",
   "id": "89f3c0e0-686e-4d89-9cbf-80beab65d444",
   "metadata": {},
   "source": [
    "<br>\n",
    "\n",
    "# Array Subsetting\n",
    "\n",
    "Subsetting is the action of extracting one or many elements from an array\n",
    "\n",
    "From a 2D array, for example, we can extract\n",
    "- single or multiple rows\n",
    "- single or multiple columns\n",
    "- a single value from a certain position\n",
    "- diagonals\n",
    "- elements that satisfy a logical condition\n",
    "\n",
    "---\n",
    "\n",
    "Arrays can be **indexed** or **subsetted** by using the `[]` square brackets accessor with\n",
    "\n",
    "* **integer slices** like we've seen for Python lists, but here we provide one slice each axis (rows, columns) as ndarrays may be multidimensional\n",
    "  \n",
    "* using **boolean subsetting**  to select the elements of an array that satisfy some condition\n",
    "\n",
    "    * Done by passing an array of booleans of the *same length* as the array to be subsetted using logical operations\n",
    "      \n",
    "    * Returns elements from the array where condition is `True`\n",
    "\n",
    "---"
   ]
  },
  {
   "cell_type": "markdown",
   "id": "13a81d58-ce04-4c54-afdd-08393e57f0a0",
   "metadata": {},
   "source": [
    "**Example 1 - Integer slices**\n",
    "\n",
    "```python\n",
    "# Using one of the arrays we created above\n",
    "In [42]: ndarr_3\n",
    "Out[42]: \n",
    "array([[ 0,  1,  2,  3,  4],\n",
    "       [ 5,  6,  7,  8,  9],\n",
    "       [10, 11, 12, 13, 14],\n",
    "       [15, 16, 17, 18, 19]])\n",
    "\n",
    "# Subset one element\n",
    "In [43]: ndarr_3[0, 0]\n",
    "Out[43]: 0\n",
    "\n",
    "# Subset the first row    \n",
    "In [44]: ndarr_3[0, :]\n",
    "Out[44]: array([0, 1, 2, 3, 4])\n",
    "\n",
    "# Subset the first column    \n",
    "In [45]: ndarr_3[:, 0]\n",
    "Out[45]: array([ 0,  5, 10, 15])\n",
    "\n",
    "# Subset the 2nd and 3rd rows\n",
    "In [46]: ndarr_3[1:3, :]\n",
    "Out[46]: \n",
    "array([[ 5,  6,  7,  8,  9],\n",
    "       [10, 11, 12, 13, 14]])\n",
    "\n",
    "# Subset the 3rd and 4th columns\n",
    "In [47]: ndarr_3[:, 2:4]\n",
    "Out[47]: \n",
    "array([[ 2,  3],\n",
    "       [ 7,  8],\n",
    "       [12, 13],\n",
    "       [17, 18]])\n",
    "\n",
    "# Subset both rows and columns (2nd and 3rd rows and columns)\n",
    "In [48]: ndarr_3[1:3, 1:3]\n",
    "Out[48]: \n",
    "array([[ 6,  7],\n",
    "       [11, 12]])\n",
    "```"
   ]
  },
  {
   "cell_type": "markdown",
   "id": "7661b8f9-584a-4c05-9f3c-fb54572000c3",
   "metadata": {},
   "source": [
    "**Example 2 - Boolean Subsetting**\n",
    "\n",
    "```python\n",
    "# Create an array of numbers\n",
    "In [57]: arr_6 = np.arange(15)\n",
    "In [58]: arr_6\n",
    "Out[58]: array([ 0,  1,  2,  3,  4,  5,  6,  7,  8,  9, 10, 11, 12, 13, 14])\n",
    "\n",
    "# Logical operations on arrays produce Boolean arrays    \n",
    "In [59]: arr_6 % 2 == 0\n",
    "Out[59]: \n",
    "array([ True, False,  True, False,  True, False,  True, False,  True,\n",
    "       False,  True, False,  True, False,  True], dtype=bool)\n",
    "\n",
    "# Boolean array to subset even numbers \n",
    "In [60]: even_bool = (arr_6 % 2 == 0)\n",
    "\n",
    "# Boolean subsetting\n",
    "In [61]: arr_6[even_bool]\n",
    "Out[61]: array([ 0,  2,  4,  6,  8, 10, 12, 14])\n",
    "```\n",
    "\n",
    "<br>\n",
    "\n",
    "Run the code cells below:"
   ]
  },
  {
   "cell_type": "raw",
   "id": "049d1473-5dc1-4ff1-b5e4-2876050e86d8",
   "metadata": {
    "collapsed": false,
    "jupyter": {
     "outputs_hidden": false
    }
   },
   "source": [
    "# 1D array\n",
    "\n",
    "arr_1d = np.array((0, 1, 2, 3, 5, 8, 13))\n",
    "arr_1d"
   ]
  },
  {
   "cell_type": "raw",
   "id": "60a9b01a-8bd7-4541-b8de-9086ad3427bc",
   "metadata": {},
   "source": [
    "arr_1d[0]"
   ]
  },
  {
   "cell_type": "raw",
   "id": "cb25b7c4-c9d0-4fb0-8209-f46c6bb4cc0a",
   "metadata": {},
   "source": [
    "arr_1d[-1]"
   ]
  },
  {
   "cell_type": "raw",
   "id": "4cdc4a0e-84be-441e-9fb6-19c18584c004",
   "metadata": {},
   "source": [
    "arr_1d[:3]"
   ]
  },
  {
   "cell_type": "raw",
   "id": "2a726a8b-dcc5-49f9-ac47-745fedbfa47a",
   "metadata": {
    "collapsed": false,
    "jupyter": {
     "outputs_hidden": false
    }
   },
   "source": [
    "arr_1d[::2]"
   ]
  },
  {
   "cell_type": "raw",
   "id": "916228b9-d818-47f8-be9e-e6aec243c643",
   "metadata": {
    "collapsed": false,
    "jupyter": {
     "outputs_hidden": false
    }
   },
   "source": [
    "# 2D array\n",
    "\n",
    "arr_2d = np.random.rand(4, 4).round(2)\n",
    "arr_2d"
   ]
  },
  {
   "cell_type": "raw",
   "id": "c290f5d6-7419-4033-9f0b-9fff801aedd5",
   "metadata": {
    "collapsed": false,
    "jupyter": {
     "outputs_hidden": false
    }
   },
   "source": [
    "# Getting a single number\n",
    "arr_2d[1, 1]"
   ]
  },
  {
   "cell_type": "raw",
   "id": "f352f530-63e9-4648-89ea-f147a7f7be94",
   "metadata": {
    "collapsed": false,
    "jupyter": {
     "outputs_hidden": false
    }
   },
   "source": [
    "# first row\n",
    "arr_2d[0, :]"
   ]
  },
  {
   "cell_type": "raw",
   "id": "e0a944e4-a112-4340-b839-8c0c7d52dd27",
   "metadata": {
    "collapsed": false,
    "jupyter": {
     "outputs_hidden": false
    }
   },
   "source": [
    "# first column\n",
    "arr_2d[:, 0]"
   ]
  },
  {
   "cell_type": "raw",
   "id": "1d5209ed-e1e5-4361-89e4-4e1686757aab",
   "metadata": {
    "collapsed": false,
    "jupyter": {
     "outputs_hidden": false
    }
   },
   "source": [
    "# first two rows, all columns\n",
    "arr_2d[:2, :]"
   ]
  },
  {
   "cell_type": "raw",
   "id": "de14fb99-0b00-4249-9a59-6b70e5354e03",
   "metadata": {
    "collapsed": false,
    "jupyter": {
     "outputs_hidden": false
    }
   },
   "source": [
    "# all rows, columns from 3rd\n",
    "arr_2d[:, 2:]"
   ]
  },
  {
   "cell_type": "raw",
   "id": "dfe7311b-e276-48c6-8c2e-26f92b502d68",
   "metadata": {
    "collapsed": false,
    "jupyter": {
     "outputs_hidden": false
    }
   },
   "source": [
    "# custom\n",
    "arr_2d[2:4, 2:4]"
   ]
  },
  {
   "cell_type": "raw",
   "id": "e01ec736-6c51-4b3d-92ab-d3b7590770bb",
   "metadata": {
    "collapsed": false,
    "jupyter": {
     "outputs_hidden": false
    }
   },
   "source": [
    "# Logical comparision is broadcasted\n",
    "arr_1d > 4"
   ]
  },
  {
   "cell_type": "raw",
   "id": "2703582d-082e-4a17-ba03-409605b746f2",
   "metadata": {
    "collapsed": false,
    "jupyter": {
     "outputs_hidden": false
    }
   },
   "source": [
    "list(zip(arr_1d, arr_1d > 50))"
   ]
  },
  {
   "cell_type": "raw",
   "id": "d737de66-bb12-438c-9968-0eefc9a398e8",
   "metadata": {
    "collapsed": false,
    "jupyter": {
     "outputs_hidden": false
    }
   },
   "source": [
    "arr_1d[arr_1d > 3]"
   ]
  },
  {
   "cell_type": "raw",
   "id": "513ca304-f785-4ae5-9dc1-eb8eb9f4cde6",
   "metadata": {
    "collapsed": false,
    "jupyter": {
     "outputs_hidden": false
    }
   },
   "source": [
    "arr_2d"
   ]
  },
  {
   "cell_type": "raw",
   "id": "1ffd4b7a-fbaa-42b8-b0b9-81de334c959e",
   "metadata": {
    "collapsed": false,
    "jupyter": {
     "outputs_hidden": false
    }
   },
   "source": [
    "arr_2d < .25 "
   ]
  },
  {
   "cell_type": "raw",
   "id": "2ac3e17b-ee6d-4a0f-9311-5530fcfc0f01",
   "metadata": {
    "collapsed": false,
    "jupyter": {
     "outputs_hidden": false
    }
   },
   "source": [
    "arr_2d[arr_2d < .25 ]"
   ]
  },
  {
   "cell_type": "markdown",
   "id": "ab9f9764-e48c-4675-8114-628506e1b034",
   "metadata": {},
   "source": [
    "<br>\n",
    "\n",
    "---\n",
    "# Mathematical Operations on NumPy arrays\n",
    "\n",
    "These are carried out **element-wise** and can be specified\n",
    "\n",
    "* using mathematical operators like `+, -, *, /`\n",
    "* using NumPy functions like `np.add(), np.subtract(), np.multiply(), np.divide() `\n",
    "\n",
    "```python\n",
    "# Create two new arrays\n",
    "In [73]: x = np.array([[2, 5],[9, 6]], dtype=np.float64)\n",
    "In [74]: y = np.array([[8, 4],[3, 7]], dtype=np.float64)\n",
    "In [75]: x\n",
    "Out[75]: \n",
    "array([[ 2.,  5.],\n",
    "       [ 9.,  6.]])\n",
    "In [76]: y\n",
    "Out[76]: \n",
    "array([[ 8.,  4.],\n",
    "       [ 3.,  7.]])\n",
    "\n",
    "# Add\n",
    "In [77]: x + y \n",
    "Out[77]: \n",
    "array([[ 10.,   9.],\n",
    "       [ 12.,  13.]])\n",
    "# Subtract\n",
    "In [78]: x - y\n",
    "Out[78]: \n",
    "array([[-6.,  1.],\n",
    "       [ 6., -1.]])\n",
    "# Multiply\n",
    "In [79]: x * y\n",
    "Out[79]: \n",
    "array([[ 16.,  20.],\n",
    "       [ 27.,  42.]])\n",
    "# Divide \n",
    "In [81]: x / y\n",
    "Out[81]: \n",
    "array([[ 0.25      ,  1.25      ],\n",
    "       [ 3.        ,  0.85714286]])       \n",
    "```\n",
    "\n",
    "<br>\n",
    "\n",
    "Run the code below:"
   ]
  },
  {
   "cell_type": "raw",
   "id": "041803fd-f310-4e90-95ad-536db3db57f9",
   "metadata": {
    "collapsed": false,
    "jupyter": {
     "outputs_hidden": false
    }
   },
   "source": [
    "print(arr_1d)\n",
    "arr_1d + arr_1d"
   ]
  },
  {
   "cell_type": "raw",
   "id": "0a9720f3-6495-4b02-9e2e-9ce5ae4a3bca",
   "metadata": {
    "collapsed": false,
    "jupyter": {
     "outputs_hidden": false
    }
   },
   "source": [
    "print(arr_2d)\n",
    "arr_2d + arr_2d"
   ]
  },
  {
   "cell_type": "raw",
   "id": "4ee0120c-6731-4876-9d7c-b1849609205d",
   "metadata": {
    "collapsed": false,
    "jupyter": {
     "outputs_hidden": false
    }
   },
   "source": [
    "# functions are broadcast\n",
    "np.sqrt(arr_1d).round(2)"
   ]
  },
  {
   "cell_type": "raw",
   "id": "62752830-9f2d-4732-863b-905ba2318da1",
   "metadata": {
    "collapsed": false,
    "jupyter": {
     "outputs_hidden": false
    }
   },
   "source": [
    "np.log(arr_2d)"
   ]
  },
  {
   "cell_type": "markdown",
   "id": "3c230d06-10d2-4508-b6f6-edded4d36388",
   "metadata": {},
   "source": [
    "<br>\n",
    "\n",
    "---\n",
    "# Array Attribues and Methods\n",
    "\n",
    "- These include  the following (assume we have an array object called *ndarr*)\n",
    "\n",
    "<img src=\"./images/numpy_1.png\">\n",
    "\n",
    "- As we saw for methods and attributes of other Python objects, these too can be explored using the in-built help. We will be seeing some of these attributes and methods again with pandas' `Series` and `DataFrame` objects.\n",
    "\n",
    "A few examples\n",
    "\n",
    "- `.any(), .all()` work on boolean arrays and return True if any element is True or all are True respectively\n",
    "\n",
    "- `.argmax()` returns the **location** of the largest value \n",
    "\n",
    "- `.argsort()` returns an **array with locations** of elements in the array sorted in ascending order\n",
    "\n",
    "- `.clip(ll, ul)` changes values higher than ul to ul and lower than ll to ll\n",
    "\n",
    "- `.mean(), .std()` find the mean and standard deviation for a numeric array\n",
    "\n",
    "<br>\n",
    "\n",
    "Try the code below:"
   ]
  },
  {
   "cell_type": "raw",
   "id": "a2714a1e-3e02-4284-b992-017c667d1306",
   "metadata": {
    "collapsed": false,
    "jupyter": {
     "outputs_hidden": false
    }
   },
   "source": [
    "np.array([True, True, False, True]).all()"
   ]
  },
  {
   "cell_type": "raw",
   "id": "9f9c8cb4-3b66-4713-a7b9-94cac6065305",
   "metadata": {
    "collapsed": false,
    "jupyter": {
     "outputs_hidden": false
    }
   },
   "source": [
    "np.array([True, True, False, True]).any()"
   ]
  },
  {
   "cell_type": "raw",
   "id": "ce09b4fb-adad-40f6-9484-a64f47d1c50a",
   "metadata": {},
   "source": [
    "arr_1d = np.random.randint(low=0, high=100, size=10)\n",
    "arr_1d"
   ]
  },
  {
   "cell_type": "raw",
   "id": "bd920158-1cda-49d3-9716-d3404ed8c81e",
   "metadata": {
    "collapsed": false,
    "jupyter": {
     "outputs_hidden": false
    }
   },
   "source": [
    "arr_1d.argmax()"
   ]
  },
  {
   "cell_type": "raw",
   "id": "653f235c-e9d9-4ffe-b266-740161ea5d2c",
   "metadata": {
    "collapsed": false,
    "jupyter": {
     "outputs_hidden": false
    }
   },
   "source": [
    "arr_1d[arr_1d.argmax()]"
   ]
  },
  {
   "cell_type": "raw",
   "id": "1be0065f-ff19-410d-8443-3c888da4cd44",
   "metadata": {
    "collapsed": false,
    "jupyter": {
     "outputs_hidden": false
    }
   },
   "source": [
    "arr_1d.argsort()"
   ]
  },
  {
   "cell_type": "raw",
   "id": "5f20a0c9-566d-4631-adf1-305dd4283ea2",
   "metadata": {
    "collapsed": false,
    "jupyter": {
     "outputs_hidden": false
    }
   },
   "source": [
    "arr_1d[arr_1d.argsort()]"
   ]
  },
  {
   "cell_type": "raw",
   "id": "13f28175-1130-4483-9463-24a3b8b6e0fe",
   "metadata": {
    "collapsed": false,
    "jupyter": {
     "outputs_hidden": false
    }
   },
   "source": [
    "list(zip(arr_1d, arr_1d.clip(30, 80)))"
   ]
  },
  {
   "cell_type": "raw",
   "id": "5c7911a1-9302-446c-9e90-b24d6b75c07b",
   "metadata": {},
   "source": [
    "## Summary Functions"
   ]
  },
  {
   "cell_type": "raw",
   "id": "6c0fd1e6-7889-4e78-8851-0a17a032a59a",
   "metadata": {},
   "source": [
    "arr_x = np.random.randn(75).reshape(15, 5).round(2)"
   ]
  },
  {
   "cell_type": "raw",
   "id": "f4ab4313-04ca-4096-ba03-776a664a4be4",
   "metadata": {
    "collapsed": false,
    "jupyter": {
     "outputs_hidden": false
    }
   },
   "source": [
    "arr_x.shape"
   ]
  },
  {
   "cell_type": "raw",
   "id": "6b293425-a550-4553-b323-d9daa9819566",
   "metadata": {
    "collapsed": false,
    "jupyter": {
     "outputs_hidden": false
    }
   },
   "source": [
    "arr_x.max(axis=1)"
   ]
  },
  {
   "cell_type": "raw",
   "id": "98b4aac5-c029-439b-9051-0d78843307e8",
   "metadata": {
    "collapsed": false,
    "jupyter": {
     "outputs_hidden": false
    }
   },
   "source": [
    "arr_x.max(axis=0)"
   ]
  },
  {
   "cell_type": "raw",
   "id": "28fdefd2-a252-4da8-9ba5-0093b5b014e7",
   "metadata": {
    "collapsed": false,
    "jupyter": {
     "outputs_hidden": false
    }
   },
   "source": [
    "arr_x.mean(axis=0)"
   ]
  },
  {
   "cell_type": "raw",
   "id": "a0fb0155-794b-41b4-9690-199ab4dfe763",
   "metadata": {
    "collapsed": false,
    "jupyter": {
     "outputs_hidden": false
    }
   },
   "source": [
    "arr_x.std(axis=0)"
   ]
  }
 ],
 "metadata": {
  "kernelspec": {
   "display_name": "Python 3 (ipykernel)",
   "language": "python",
   "name": "python3"
  },
  "language_info": {
   "codemirror_mode": {
    "name": "ipython",
    "version": 3
   },
   "file_extension": ".py",
   "mimetype": "text/x-python",
   "name": "python",
   "nbconvert_exporter": "python",
   "pygments_lexer": "ipython3",
   "version": "3.13.3"
  }
 },
 "nbformat": 4,
 "nbformat_minor": 5
}
