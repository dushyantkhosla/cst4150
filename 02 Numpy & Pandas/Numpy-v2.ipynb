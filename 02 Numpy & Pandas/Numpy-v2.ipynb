{
 "cells": [
  {
   "cell_type": "markdown",
   "id": "48ab6399-a428-43a6-9ae9-feb58c852d7f",
   "metadata": {
    "collapsed": true,
    "jupyter": {
     "outputs_hidden": true
    }
   },
   "source": [
    "<br>\n",
    "\n",
    "<center>\n",
    "\n",
    "# NumPy\n",
    "\n",
    "</center>\n",
    "\n",
    "<br>\n",
    "\n",
    "---\n",
    "\n",
    "[Numpy](http://www.numpy.org/) is the fundamental library for all scientific computing in Python. It provides a *high-performance, homogenous, multidimensional* array and matrix objects called the `ndarray`, along with an assortment of high-level functions for fast operations on these arrays, such as:\n",
    "\n",
    "\n",
    "\n",
    "* mathematical, logical routines \n",
    "* shape manipulations \n",
    "* sorting, selecting data\n",
    "* basic linear algebra and statistical operations, \n",
    "* random number generation capabilities\n",
    "* sophisticated (broadcasting) functions\n",
    "\n",
    "Almost every data analysis or machine learning package in the PyData ecosystem (most notably `pandas` and `scikit-learn`) uses NumPy ndarrays under the hood.\n",
    "\n",
    "Alright, let's jump into some code. Conventionally, we start with importing the module\n",
    "\n",
    "```python\n",
    "import numpy as np\n",
    "```\n",
    "\n",
    "---\n",
    "# NumPy Arrays\n",
    "\n",
    "A NumPy array is a homogeneous collection of elements (usually *numerics*), indexed by a tuple of positive integers. In NumPy the dimensions are called *axes*. The number of axes is known as the *rank* of the array. For example, a 2D array has a rank of 2.\n",
    "\n",
    "Arrays can be of different *types*:\n",
    "\n",
    "- `int, float, string, object, bool`\n",
    "\n",
    "- type conversion can be achieved using `.astype()`\n",
    "\n",
    "<br>\n",
    "\n",
    "---\n",
    "# Creating `array` objects\n",
    "\n",
    "Arrays can be **created** by\n",
    "\n",
    "  * calling `np.array()` or `reshape` on Python lists or nested lists\n",
    "\n",
    "  * using special functions like `np.zeros(), np.ones(), np.eye()`\n",
    "\n",
    "  * using sequence generators like `np.linspace(), np.arange()`\n",
    "\n",
    "  * using random number generators like `np.random.randint(), np.random.randn()`\n",
    "\n",
    "You may read about other methods of array creation [in the documentation](http://docs.scipy.org/doc/numpy/user/basics.creation.html#arrays-creation)\n",
    "\n",
    "```python\n",
    "# Create a 1D array from a Python list\n",
    " In [9]: ndarr_1 = np.array([100, 3, 19, 75, 43]) \n",
    "In [10]: ndarr_1\n",
    "Out[10]: array([100,   3,  19,  75,  43])\n",
    "\n",
    "# Create a 2D array from a Python list-of-lists    \n",
    "In [11]: ndarr_2 = np.array([[2, 4, 6], [3, 5, 7]])\n",
    "In [12]: ndarr_2\n",
    "Out[12]: \n",
    "array([[2, 4, 6],\n",
    "       [3, 5, 7]])\n",
    "\n",
    "# Create a 2D array by reshaping a 1D array\n",
    "In [14]: ndarr_3 = np.arange(20).reshape(4, 5)\n",
    "In [15]: ndarr_3\n",
    "Out[15]: \n",
    "array([[ 0,  1,  2,  3,  4],\n",
    "       [ 5,  6,  7,  8,  9],\n",
    "       [10, 11, 12, 13, 14],\n",
    "       [15, 16, 17, 18, 19]])\n",
    "\n",
    "# Create a 3x3 array filled with random integers\n",
    "In [16]: arr_4 = np.random.randint(0, 100, 9).reshape(3, 3)\n",
    "In [17]: arr_4\n",
    "Out[17]: \n",
    "array([[66, 87, 41],\n",
    "       [49, 41, 33],\n",
    "       [ 5, 57, 78]])\n",
    "\n",
    "# Create a 4x4 matrix filled with random numbers\n",
    "In [26]: arr_5 = np.random.rand(4, 4)\n",
    "In [27]: arr_5\n",
    "Out[27]: \n",
    "array([[ 0.35827069,  0.0687782 ,  0.16042925,  0.40275736],\n",
    "       [ 0.8666519 ,  0.66905765,  0.05632903,  0.41828043],\n",
    "       [ 0.12067091,  0.34682221,  0.68698091,  0.87333071],\n",
    "       [ 0.72627949,  0.56991059,  0.80397042,  0.50586414]])       \n",
    "```       \n",
    "\n",
    "<br>\n",
    "\n",
    "Run the code cells below and try different ways of array creation:\n"
   ]
  },
  {
   "cell_type": "code",
   "execution_count": null,
   "id": "f55bd579-432a-4019-9796-da89c773a2e3",
   "metadata": {},
   "outputs": [],
   "source": [
    "import numpy as np"
   ]
  },
  {
   "cell_type": "markdown",
   "id": "0bb5d932-a36d-4860-a322-5f380bbaa13d",
   "metadata": {},
   "source": [
    "= we are creating an object\n",
    "\n",
    "assignment operator"
   ]
  },
  {
   "cell_type": "code",
   "execution_count": null,
   "id": "0e4b992e-6d7e-4b16-a99d-6c7ecc755df7",
   "metadata": {},
   "outputs": [],
   "source": [
    "arr_1d = np.array((1, 2, 3))\n",
    "arr_1d"
   ]
  },
  {
   "cell_type": "code",
   "execution_count": null,
   "id": "11012447-357a-4bc7-987f-08d55a945bbc",
   "metadata": {},
   "outputs": [],
   "source": [
    "type(arr_1d)"
   ]
  },
  {
   "cell_type": "code",
   "execution_count": null,
   "id": "ef4f4477-4f83-4239-9f65-2010216a7899",
   "metadata": {},
   "outputs": [],
   "source": [
    "len(arr_1d)"
   ]
  },
  {
   "cell_type": "code",
   "execution_count": null,
   "id": "3f5715e3-a99b-49d5-a9e1-352bbeae8258",
   "metadata": {},
   "outputs": [],
   "source": [
    "arr_1d.shape"
   ]
  },
  {
   "cell_type": "code",
   "execution_count": 6,
   "id": "ac905e20-9bd3-4eb4-9987-7888e97724fe",
   "metadata": {},
   "outputs": [
    {
     "data": {
      "text/plain": [
       "array([[1, 2, 3],\n",
       "       [4, 5, 6],\n",
       "       [7, 8, 9]])"
      ]
     },
     "execution_count": 6,
     "metadata": {},
     "output_type": "execute_result"
    }
   ],
   "source": [
    "arr_2d = np.array([[1, 2, 3], [4, 5, 6], [7, 8, 9]])\n",
    "arr_2d"
   ]
  },
  {
   "cell_type": "code",
   "execution_count": 7,
   "id": "f8eef317-fc1f-426a-8865-430b37a9c974",
   "metadata": {},
   "outputs": [
    {
     "data": {
      "text/plain": [
       "(3, 3)"
      ]
     },
     "execution_count": 7,
     "metadata": {},
     "output_type": "execute_result"
    }
   ],
   "source": [
    "arr_2d.shape"
   ]
  },
  {
   "cell_type": "code",
   "execution_count": 8,
   "id": "e0c55c94-059f-48bf-b749-350c9cb5a3bf",
   "metadata": {},
   "outputs": [
    {
     "data": {
      "text/plain": [
       "array([[[1, 2, 3],\n",
       "        [4, 5, 6],\n",
       "        [7, 8, 9]],\n",
       "\n",
       "       [[1, 2, 3],\n",
       "        [4, 5, 6],\n",
       "        [7, 8, 9]]])"
      ]
     },
     "execution_count": 8,
     "metadata": {},
     "output_type": "execute_result"
    }
   ],
   "source": [
    "arr_3d = np.array([arr_2d, arr_2d])\n",
    "arr_3d"
   ]
  },
  {
   "cell_type": "code",
   "execution_count": 9,
   "id": "0348d9e1-67a3-473e-8054-66744cddafab",
   "metadata": {},
   "outputs": [
    {
     "data": {
      "text/plain": [
       "(2, 3, 3)"
      ]
     },
     "execution_count": 9,
     "metadata": {},
     "output_type": "execute_result"
    }
   ],
   "source": [
    "arr_3d.shape"
   ]
  },
  {
   "cell_type": "code",
   "execution_count": 13,
   "id": "66ba31f4-fec7-48f7-87c4-6dc025339c6d",
   "metadata": {},
   "outputs": [
    {
     "name": "stdout",
     "output_type": "stream",
     "text": [
      "[ 0  1  2  3  4  5  6  7  8  9 10 11 12 13 14 15]\n"
     ]
    }
   ],
   "source": [
    "# Using generation functions\n",
    "\n",
    "print(np.arange(0, 16))"
   ]
  },
  {
   "cell_type": "code",
   "execution_count": 14,
   "id": "0e6872f2-04aa-4276-8f62-d17bd60d867f",
   "metadata": {},
   "outputs": [
    {
     "data": {
      "text/plain": [
       "array([[ 0,  1,  2,  3],\n",
       "       [ 4,  5,  6,  7],\n",
       "       [ 8,  9, 10, 11],\n",
       "       [12, 13, 14, 15]])"
      ]
     },
     "execution_count": 14,
     "metadata": {},
     "output_type": "execute_result"
    }
   ],
   "source": [
    "np.arange(16).reshape(4, 4)"
   ]
  },
  {
   "cell_type": "code",
   "execution_count": 20,
   "id": "7c1c862b-62bd-4506-9701-fd7e17afb364",
   "metadata": {},
   "outputs": [
    {
     "data": {
      "text/plain": [
       "array([[0.  , 0.11],\n",
       "       [0.22, 0.33],\n",
       "       [0.44, 0.56],\n",
       "       [0.67, 0.78],\n",
       "       [0.89, 1.  ]])"
      ]
     },
     "execution_count": 20,
     "metadata": {},
     "output_type": "execute_result"
    }
   ],
   "source": [
    "# method chaining \n",
    "\n",
    "(np\n",
    " .linspace(0, 1, 10)\n",
    " .reshape(5, 2)\n",
    " .round(2)\n",
    ")"
   ]
  },
  {
   "cell_type": "code",
   "execution_count": 22,
   "id": "5d6d5b76-3100-426d-a6f1-b7975f6b11bb",
   "metadata": {},
   "outputs": [
    {
     "data": {
      "text/plain": [
       "array([43, 19, 53, 59, 51, 59, 83, 35, 43, 78, 52, 28, 91, 12, 44, 85])"
      ]
     },
     "execution_count": 22,
     "metadata": {},
     "output_type": "execute_result"
    }
   ],
   "source": [
    "# Using random numbers\n",
    "\n",
    "arr_1d = np.random.randint(1, 100, 16)\n",
    "arr_1d"
   ]
  },
  {
   "cell_type": "code",
   "execution_count": 23,
   "id": "3d082202-f1a3-403c-be97-a5dbd5bc87ff",
   "metadata": {},
   "outputs": [
    {
     "data": {
      "text/plain": [
       "array([[832, 743, 406, 414],\n",
       "       [586, 469, 210, 695],\n",
       "       [943, 304, 223, 815],\n",
       "       [748, 488, 641, 751]])"
      ]
     },
     "execution_count": 23,
     "metadata": {},
     "output_type": "execute_result"
    }
   ],
   "source": [
    "arr_2d = np.random.randint(0, 1000, 16).reshape(4, 4)\n",
    "arr_2d"
   ]
  },
  {
   "cell_type": "code",
   "execution_count": 25,
   "id": "410cf735-e794-42f0-bb65-4f42c28765a7",
   "metadata": {},
   "outputs": [],
   "source": [
    "arr_sn = (np.random\n",
    " .randn(30)     \n",
    " .reshape(5, 6)\n",
    " .round(2)\n",
    ")"
   ]
  },
  {
   "cell_type": "code",
   "execution_count": 26,
   "id": "bc60a471-3531-4b55-83ed-eafee766d42a",
   "metadata": {},
   "outputs": [
    {
     "data": {
      "text/plain": [
       "(5, 6)"
      ]
     },
     "execution_count": 26,
     "metadata": {},
     "output_type": "execute_result"
    }
   ],
   "source": [
    "arr_sn.shape"
   ]
  },
  {
   "cell_type": "code",
   "execution_count": 28,
   "id": "0fd32be8-a0f9-4898-900d-9af2844cb458",
   "metadata": {},
   "outputs": [
    {
     "data": {
      "text/plain": [
       "array([[ 1.82,  1.2 ,  0.38,  1.54, -2.18, -0.76],\n",
       "       [-0.69, -1.02,  0.1 ,  0.06,  0.04,  0.29],\n",
       "       [-1.36,  1.45,  0.56, -0.28,  0.02, -1.87],\n",
       "       [ 0.62,  2.68, -0.29, -0.91,  1.44,  0.58],\n",
       "       [ 0.9 ,  0.8 , -1.88,  1.24,  0.49, -0.98]])"
      ]
     },
     "execution_count": 28,
     "metadata": {},
     "output_type": "execute_result"
    }
   ],
   "source": [
    "arr_sn"
   ]
  },
  {
   "cell_type": "code",
   "execution_count": 30,
   "id": "678c87a2-a64b-40e3-a5c4-90b38698382f",
   "metadata": {},
   "outputs": [
    {
     "data": {
      "text/plain": [
       "array([[ 1.82,  1.2 ],\n",
       "       [-0.69, -1.02],\n",
       "       [-1.36,  1.45],\n",
       "       [ 0.62,  2.68],\n",
       "       [ 0.9 ,  0.8 ]])"
      ]
     },
     "execution_count": 30,
     "metadata": {},
     "output_type": "execute_result"
    }
   ],
   "source": [
    "arr_sn[:,0:2]"
   ]
  },
  {
   "cell_type": "markdown",
   "id": "89f3c0e0-686e-4d89-9cbf-80beab65d444",
   "metadata": {},
   "source": [
    "<br>\n",
    "\n",
    "# Array Subsetting\n",
    "\n",
    "Subsetting is the action of extracting one or many elements from an array\n",
    "\n",
    "From a 2D array, for example, we can extract\n",
    "- single or multiple rows\n",
    "- single or multiple columns\n",
    "- a single value from a certain position\n",
    "- diagonals\n",
    "- elements that satisfy a logical condition\n",
    "\n",
    "---\n",
    "\n",
    "Arrays can be **indexed** or **subsetted** by using the `[]` square brackets accessor with\n",
    "\n",
    "* **integer slices** like we've seen for Python lists, but here we provide one slice each axis (rows, columns) as ndarrays may be multidimensional\n",
    "  \n",
    "* using **boolean subsetting**  to select the elements of an array that satisfy some condition\n",
    "\n",
    "    * Done by passing an array of booleans of the *same length* as the array to be subsetted using logical operations\n",
    "      \n",
    "    * Returns elements from the array where condition is `True`\n",
    "\n",
    "---\n",
    "\n",
    "**Example 1 - Integer slices**\n",
    "\n",
    "```python\n",
    "# Using one of the arrays we created above\n",
    "In [42]: ndarr_3\n",
    "Out[42]: \n",
    "array([[ 0,  1,  2,  3,  4],\n",
    "       [ 5,  6,  7,  8,  9],\n",
    "       [10, 11, 12, 13, 14],\n",
    "       [15, 16, 17, 18, 19]])\n",
    "\n",
    "# Subset one element\n",
    "In [43]: ndarr_3[0, 0]\n",
    "Out[43]: 0\n",
    "\n",
    "# Subset the first row    \n",
    "In [44]: ndarr_3[0, :]\n",
    "Out[44]: array([0, 1, 2, 3, 4])\n",
    "\n",
    "# Subset the first column    \n",
    "In [45]: ndarr_3[:, 0]\n",
    "Out[45]: array([ 0,  5, 10, 15])\n",
    "\n",
    "# Subset the 2nd and 3rd rows\n",
    "In [46]: ndarr_3[1:3, :]\n",
    "Out[46]: \n",
    "array([[ 5,  6,  7,  8,  9],\n",
    "       [10, 11, 12, 13, 14]])\n",
    "\n",
    "# Subset the 3rd and 4th columns\n",
    "In [47]: ndarr_3[:, 2:4]\n",
    "Out[47]: \n",
    "array([[ 2,  3],\n",
    "       [ 7,  8],\n",
    "       [12, 13],\n",
    "       [17, 18]])\n",
    "\n",
    "# Subset both rows and columns (2nd and 3rd rows and columns)\n",
    "In [48]: ndarr_3[1:3, 1:3]\n",
    "Out[48]: \n",
    "array([[ 6,  7],\n",
    "       [11, 12]])\n",
    "```\n",
    "\n",
    "**Example 2 - Boolean Subsetting**\n",
    "\n",
    "```python\n",
    "# Create an array of numbers\n",
    "In [57]: arr_6 = np.arange(15)\n",
    "In [58]: arr_6\n",
    "Out[58]: array([ 0,  1,  2,  3,  4,  5,  6,  7,  8,  9, 10, 11, 12, 13, 14])\n",
    "\n",
    "# Logical operations on arrays produce Boolean arrays    \n",
    "In [59]: arr_6 % 2 == 0\n",
    "Out[59]: \n",
    "array([ True, False,  True, False,  True, False,  True, False,  True,\n",
    "       False,  True, False,  True, False,  True], dtype=bool)\n",
    "\n",
    "# Boolean array to subset even numbers \n",
    "In [60]: even_bool = (arr_6 % 2 == 0)\n",
    "\n",
    "# Boolean subsetting\n",
    "In [61]: arr_6[even_bool]\n",
    "Out[61]: array([ 0,  2,  4,  6,  8, 10, 12, 14])\n",
    "```\n",
    "\n",
    "<br>\n",
    "\n",
    "Run the code cells below:"
   ]
  },
  {
   "cell_type": "code",
   "execution_count": 34,
   "id": "b74fa61f-0646-4cae-a7c8-d16e3b989f9a",
   "metadata": {},
   "outputs": [
    {
     "data": {
      "text/plain": [
       "array([[ 0.7,  1.1],\n",
       "       [ 0.5, -1.5],\n",
       "       [ 1.1, -0.8],\n",
       "       [ 0.8, -1.1],\n",
       "       [ 0.2, -0.1]])"
      ]
     },
     "execution_count": 34,
     "metadata": {},
     "output_type": "execute_result"
    }
   ],
   "source": [
    "arr_x = np.random.randn(10).reshape(5, 2).round(1)\n",
    "arr_x"
   ]
  },
  {
   "cell_type": "code",
   "execution_count": 37,
   "id": "5f003a12-c6a7-4d33-a678-496c27e72fb9",
   "metadata": {},
   "outputs": [
    {
     "data": {
      "text/plain": [
       "array([[ True],\n",
       "       [False],\n",
       "       [False],\n",
       "       [False],\n",
       "       [False]])"
      ]
     },
     "execution_count": 37,
     "metadata": {},
     "output_type": "execute_result"
    }
   ],
   "source": [
    "arr_x[:,[1]] > 0"
   ]
  },
  {
   "cell_type": "code",
   "execution_count": 38,
   "id": "4cad6da5-4b5e-4fac-ba23-4c9e3d97fc55",
   "metadata": {},
   "outputs": [
    {
     "data": {
      "text/plain": [
       "array([ 0,  1,  2,  3,  5,  8, 13])"
      ]
     },
     "execution_count": 38,
     "metadata": {},
     "output_type": "execute_result"
    }
   ],
   "source": [
    "# 1D array\n",
    "\n",
    "arr_1d = np.array((0, 1, 2, 3, 5, 8, 13))\n",
    "arr_1d"
   ]
  },
  {
   "cell_type": "code",
   "execution_count": 39,
   "id": "b57cde15-03bc-4774-86bf-139d96c92311",
   "metadata": {},
   "outputs": [
    {
     "data": {
      "text/plain": [
       "np.int64(0)"
      ]
     },
     "execution_count": 39,
     "metadata": {},
     "output_type": "execute_result"
    }
   ],
   "source": [
    "arr_1d[0]"
   ]
  },
  {
   "cell_type": "code",
   "execution_count": 40,
   "id": "893b912e-3dc4-4895-b822-93a06b9f46a6",
   "metadata": {},
   "outputs": [
    {
     "data": {
      "text/plain": [
       "np.int64(13)"
      ]
     },
     "execution_count": 40,
     "metadata": {},
     "output_type": "execute_result"
    }
   ],
   "source": [
    "arr_1d[-1]"
   ]
  },
  {
   "cell_type": "code",
   "execution_count": 41,
   "id": "f4235d7b-6e0e-4481-a270-eadc708f9c77",
   "metadata": {},
   "outputs": [
    {
     "data": {
      "text/plain": [
       "array([0, 1, 2])"
      ]
     },
     "execution_count": 41,
     "metadata": {},
     "output_type": "execute_result"
    }
   ],
   "source": [
    "arr_1d[:3]"
   ]
  },
  {
   "cell_type": "code",
   "execution_count": 42,
   "id": "d55b4cbf-5922-4cd3-abd0-676bd5706088",
   "metadata": {},
   "outputs": [
    {
     "data": {
      "text/plain": [
       "array([ 0,  2,  5, 13])"
      ]
     },
     "execution_count": 42,
     "metadata": {},
     "output_type": "execute_result"
    }
   ],
   "source": [
    "arr_1d[::2]"
   ]
  },
  {
   "cell_type": "code",
   "execution_count": 43,
   "id": "29b23fe0-b05c-4f77-bedc-1df10dbedc96",
   "metadata": {},
   "outputs": [
    {
     "data": {
      "text/plain": [
       "array([[0.39, 0.03, 0.51, 0.84],\n",
       "       [0.47, 0.35, 0.64, 0.02],\n",
       "       [0.87, 0.72, 0.67, 0.15],\n",
       "       [0.05, 0.06, 0.57, 0.61]])"
      ]
     },
     "execution_count": 43,
     "metadata": {},
     "output_type": "execute_result"
    }
   ],
   "source": [
    "# 2D array\n",
    "\n",
    "arr_2d = np.random.rand(4, 4).round(2)\n",
    "arr_2d"
   ]
  },
  {
   "cell_type": "code",
   "execution_count": null,
   "id": "72cbe1bd-f198-4ff0-95aa-5fd0c51b1b16",
   "metadata": {},
   "outputs": [],
   "source": [
    "# Getting a single number\n",
    "arr_2d[1, 1]"
   ]
  },
  {
   "cell_type": "code",
   "execution_count": null,
   "id": "c6ebff1b-878f-4c16-9f99-c796d0c97ee5",
   "metadata": {},
   "outputs": [],
   "source": [
    "# first row\n",
    "arr_2d[0, :]"
   ]
  },
  {
   "cell_type": "code",
   "execution_count": null,
   "id": "76157666-7a0e-42ee-8236-7a8a44e1ba69",
   "metadata": {},
   "outputs": [],
   "source": [
    "# first column\n",
    "arr_2d[:, 0]"
   ]
  },
  {
   "cell_type": "code",
   "execution_count": null,
   "id": "23a4ba69-e569-4848-b341-bc5ed83143c2",
   "metadata": {},
   "outputs": [],
   "source": [
    "# first two rows, all columns\n",
    "arr_2d[:2, :]"
   ]
  },
  {
   "cell_type": "code",
   "execution_count": null,
   "id": "eec8d1ef-aa7e-4a78-b0bf-efc2fd6bb23a",
   "metadata": {},
   "outputs": [],
   "source": [
    "# all rows, columns from 3rd\n",
    "arr_2d[:, 2:]"
   ]
  },
  {
   "cell_type": "code",
   "execution_count": null,
   "id": "da5858d1-5301-49e7-bf83-92a7d7c46b25",
   "metadata": {},
   "outputs": [],
   "source": [
    "# custom\n",
    "arr_2d[2:4, 2:4]"
   ]
  },
  {
   "cell_type": "code",
   "execution_count": null,
   "id": "13c85b29-3167-4d6a-98e5-31ac1a802f24",
   "metadata": {},
   "outputs": [],
   "source": [
    "# Logical comparision is broadcasted\n",
    "arr_1d > 4"
   ]
  },
  {
   "cell_type": "code",
   "execution_count": null,
   "id": "ffe42ddc-9804-4ae5-b9b5-d7bbd566c1a5",
   "metadata": {},
   "outputs": [],
   "source": [
    "list(zip(arr_1d, arr_1d > 50))"
   ]
  },
  {
   "cell_type": "code",
   "execution_count": null,
   "id": "c71dde6c-3e89-4a95-bb8f-a814b7e0211f",
   "metadata": {},
   "outputs": [],
   "source": [
    "arr_1d[arr_1d > 3]"
   ]
  },
  {
   "cell_type": "code",
   "execution_count": null,
   "id": "4f5a1251-7c48-4233-85b5-4eb3c776ff91",
   "metadata": {},
   "outputs": [],
   "source": [
    "arr_2d"
   ]
  },
  {
   "cell_type": "code",
   "execution_count": null,
   "id": "1729d8a1-c3d3-4726-aefa-53ef8f19c600",
   "metadata": {},
   "outputs": [],
   "source": [
    "arr_2d < .25 "
   ]
  },
  {
   "cell_type": "code",
   "execution_count": null,
   "id": "2bca7dc3-6389-4df1-bd2f-b466995c3173",
   "metadata": {},
   "outputs": [],
   "source": [
    "arr_2d[arr_2d < .25 ]"
   ]
  },
  {
   "cell_type": "markdown",
   "id": "fbf557fc-c9ba-4b43-a0f3-df5027ce975a",
   "metadata": {},
   "source": [
    "---\n",
    "## List & Dict Comprehensions"
   ]
  },
  {
   "cell_type": "code",
   "execution_count": null,
   "id": "c60dd020-0b08-4e6e-b691-3340cda8fb7a",
   "metadata": {},
   "outputs": [],
   "source": [
    "dict_x = {}\n",
    "\n",
    "for key, value in zip([1, 2, 3, 4, 5, 9], list('abcd')):\n",
    "    dict_x[key] = value"
   ]
  },
  {
   "cell_type": "code",
   "execution_count": null,
   "id": "6ea0bccd-c613-460d-9603-ddd94ae683b1",
   "metadata": {},
   "outputs": [],
   "source": [
    "list_z = []\n",
    "\n",
    "for x in range(10):\n",
    "    calc = x % 2 == 0\n",
    "    list_z.append(calc)\n",
    "\n",
    "list_z"
   ]
  },
  {
   "cell_type": "code",
   "execution_count": null,
   "id": "d9ea3b0b-2a01-4c9a-9221-5d5eb15490e0",
   "metadata": {},
   "outputs": [],
   "source": [
    "[x for x in range(10)]"
   ]
  },
  {
   "cell_type": "code",
   "execution_count": null,
   "id": "8d0b10e9-7629-409e-abfd-ad730a1732ac",
   "metadata": {},
   "outputs": [],
   "source": [
    "list((x for x in range(4)))"
   ]
  },
  {
   "cell_type": "code",
   "execution_count": null,
   "id": "462cb01b-b454-44e0-aa3f-90399c4a39a3",
   "metadata": {},
   "outputs": [],
   "source": [
    "[x % 2 == 0 for x in range(10)]"
   ]
  },
  {
   "cell_type": "code",
   "execution_count": null,
   "id": "f0cd1d68-d16f-4353-b300-a309836c786f",
   "metadata": {},
   "outputs": [],
   "source": [
    "dict_y = {key:value for key, value in zip([1, 2, 3, 4, 5, 9], list('abcd'))}"
   ]
  },
  {
   "cell_type": "code",
   "execution_count": null,
   "id": "b267bdd0-cc6b-4bd9-964d-2a17a6181be2",
   "metadata": {},
   "outputs": [],
   "source": [
    "dict_x"
   ]
  },
  {
   "cell_type": "code",
   "execution_count": null,
   "id": "d9a37eb8-5ab4-4386-9f8e-40a8a86a8a26",
   "metadata": {},
   "outputs": [],
   "source": [
    "dict_y"
   ]
  },
  {
   "cell_type": "code",
   "execution_count": null,
   "id": "e051a63c-19a9-403c-9135-d39b57b3d2e2",
   "metadata": {},
   "outputs": [],
   "source": [
    "dict_x.keys()"
   ]
  },
  {
   "cell_type": "code",
   "execution_count": null,
   "id": "dcdc0906-1535-47ea-960c-d8691693b1bf",
   "metadata": {},
   "outputs": [],
   "source": [
    "dict_x.values()"
   ]
  },
  {
   "cell_type": "code",
   "execution_count": null,
   "id": "d0f9d29a-0cbf-4769-84e4-4bcff16c0cc6",
   "metadata": {},
   "outputs": [],
   "source": [
    "dict_x.items()"
   ]
  },
  {
   "cell_type": "code",
   "execution_count": null,
   "id": "4d3dd771-7037-47df-8594-6673dac283ec",
   "metadata": {},
   "outputs": [],
   "source": [
    "arr_1d"
   ]
  },
  {
   "cell_type": "code",
   "execution_count": null,
   "id": "a4c949d6-fff5-411a-931a-1bb645b9c34c",
   "metadata": {},
   "outputs": [],
   "source": [
    "{k:k+3 for k in arr_1d}"
   ]
  },
  {
   "cell_type": "markdown",
   "id": "ab9f9764-e48c-4675-8114-628506e1b034",
   "metadata": {},
   "source": [
    "<br>\n",
    "\n",
    "---\n",
    "# Mathematical Operations on NumPy arrays\n",
    "\n",
    "These are carried out **element-wise** and can be specified\n",
    "\n",
    "* using mathematical operators like `+, -, *, /`\n",
    "* using NumPy functions like `np.add(), np.subtract(), np.multiply(), np.divide() `\n",
    "\n",
    "```python\n",
    "# Create two new arrays\n",
    "In [73]: x = np.array([[2, 5],[9, 6]], dtype=np.float64)\n",
    "In [74]: y = np.array([[8, 4],[3, 7]], dtype=np.float64)\n",
    "In [75]: x\n",
    "Out[75]: \n",
    "array([[ 2.,  5.],\n",
    "       [ 9.,  6.]])\n",
    "In [76]: y\n",
    "Out[76]: \n",
    "array([[ 8.,  4.],\n",
    "       [ 3.,  7.]])\n",
    "\n",
    "# Add\n",
    "In [77]: x + y \n",
    "Out[77]: \n",
    "array([[ 10.,   9.],\n",
    "       [ 12.,  13.]])\n",
    "# Subtract\n",
    "In [78]: x - y\n",
    "Out[78]: \n",
    "array([[-6.,  1.],\n",
    "       [ 6., -1.]])\n",
    "# Multiply\n",
    "In [79]: x * y\n",
    "Out[79]: \n",
    "array([[ 16.,  20.],\n",
    "       [ 27.,  42.]])\n",
    "# Divide \n",
    "In [81]: x / y\n",
    "Out[81]: \n",
    "array([[ 0.25      ,  1.25      ],\n",
    "       [ 3.        ,  0.85714286]])       \n",
    "```\n",
    "\n",
    "<br>\n",
    "\n",
    "Run the code below:"
   ]
  },
  {
   "cell_type": "code",
   "execution_count": null,
   "id": "1f03f176-2394-4cd3-973e-a1bb8fcf5267",
   "metadata": {},
   "outputs": [],
   "source": [
    "arr_x = np.random.randint(10, 80, 8)"
   ]
  },
  {
   "cell_type": "code",
   "execution_count": null,
   "id": "56feb36d-e103-4e60-a07f-a952c0329f0d",
   "metadata": {},
   "outputs": [],
   "source": [
    "\n"
   ]
  },
  {
   "cell_type": "code",
   "execution_count": null,
   "id": "c76437dc-8aef-4d12-9bb7-bd6848e49ca9",
   "metadata": {},
   "outputs": [],
   "source": [
    "arr_x + 2"
   ]
  },
  {
   "cell_type": "code",
   "execution_count": null,
   "id": "61d4aefe-2323-4508-8fb4-a88eeb404d45",
   "metadata": {},
   "outputs": [],
   "source": [
    "print(arr_1d)\n",
    "arr_1d + arr_1d"
   ]
  },
  {
   "cell_type": "code",
   "execution_count": null,
   "id": "c836ad66-1997-48f6-8eff-e05770a40522",
   "metadata": {},
   "outputs": [],
   "source": [
    "print(arr_2d)\n",
    "arr_2d + arr_2d"
   ]
  },
  {
   "cell_type": "code",
   "execution_count": null,
   "id": "e187eca1-fd1b-4f98-869c-303906be56d3",
   "metadata": {},
   "outputs": [],
   "source": [
    "arr_1d"
   ]
  },
  {
   "cell_type": "code",
   "execution_count": null,
   "id": "7d68e694-f0ba-4356-9b29-4073408f7a7e",
   "metadata": {},
   "outputs": [],
   "source": [
    "# functions are broadcast\n",
    "np.sqrt(arr_1d).round(2)"
   ]
  },
  {
   "cell_type": "code",
   "execution_count": null,
   "id": "00e4e74a-0db1-48d6-a5c9-15c36f662bb6",
   "metadata": {},
   "outputs": [],
   "source": [
    "np.log(arr_2d)"
   ]
  },
  {
   "cell_type": "markdown",
   "id": "3c230d06-10d2-4508-b6f6-edded4d36388",
   "metadata": {},
   "source": [
    "<br>\n",
    "\n",
    "---\n",
    "# Array Attribues and Methods\n",
    "\n",
    "- These include  the following (assume we have an array object called *ndarr*)\n",
    "\n",
    "<img src=\"./images/numpy_1.png\">\n",
    "\n",
    "- As we saw for methods and attributes of other Python objects, these too can be explored using the in-built help. We will be seeing some of these attributes and methods again with pandas' `Series` and `DataFrame` objects.\n",
    "\n",
    "A few examples\n",
    "\n",
    "- `.any(), .all()` work on boolean arrays and return True if any element is True or all are True respectively\n",
    "\n",
    "- `.argmax()` returns the location of the largest value \n",
    "\n",
    "- `.argsort()` returns an array with locations of elements in the array sorted in ascending order\n",
    "\n",
    "- `.clip(ll, ul)` changes values higher than ul to ul and lower than ll to ll\n",
    "\n",
    "- `.mean(), .std()` find the mean and standard deviation for a numeric array\n",
    "\n",
    "<br>\n",
    "\n",
    "Try the code below:"
   ]
  },
  {
   "cell_type": "code",
   "execution_count": null,
   "id": "b77c482d-cc7f-4deb-8bd1-9056d6af5ec2",
   "metadata": {},
   "outputs": [],
   "source": [
    "np.array([True, True, False, True]).all()"
   ]
  },
  {
   "cell_type": "code",
   "execution_count": null,
   "id": "ae93a081-f284-4ebb-a7e4-3fccd3a04b0d",
   "metadata": {},
   "outputs": [],
   "source": [
    "np.array([True, True, False, True]).any()"
   ]
  },
  {
   "cell_type": "code",
   "execution_count": null,
   "id": "9b8deca9-bd1b-4d76-ad9e-f2261fb85e73",
   "metadata": {},
   "outputs": [],
   "source": [
    "arr_1d = np.random.randint(low=0, high=100, size=10)\n",
    "arr_1d"
   ]
  },
  {
   "cell_type": "code",
   "execution_count": null,
   "id": "34d2fdf3-e5c6-480c-a75f-30dc228db87d",
   "metadata": {},
   "outputs": [],
   "source": [
    "np.max(arr_1d)"
   ]
  },
  {
   "cell_type": "code",
   "execution_count": null,
   "id": "5bdb5bcf-ce61-4535-b466-8cc6034e2e3f",
   "metadata": {},
   "outputs": [],
   "source": []
  },
  {
   "cell_type": "code",
   "execution_count": null,
   "id": "2a43a55f-2d63-4b73-a39c-7a007deab13a",
   "metadata": {},
   "outputs": [],
   "source": []
  },
  {
   "cell_type": "code",
   "execution_count": null,
   "id": "af72cfa4-7229-48ea-abbe-3245420f0e34",
   "metadata": {},
   "outputs": [],
   "source": [
    "arr_1d.argmax()"
   ]
  },
  {
   "cell_type": "code",
   "execution_count": null,
   "id": "8b6a56a7-a6ec-493f-a7b8-322623986b60",
   "metadata": {},
   "outputs": [],
   "source": []
  },
  {
   "cell_type": "code",
   "execution_count": null,
   "id": "fd482128-3ad4-49fe-8622-146e583afed8",
   "metadata": {},
   "outputs": [],
   "source": [
    "arr_1d[arr_1d.argmax()]"
   ]
  },
  {
   "cell_type": "code",
   "execution_count": null,
   "id": "384d118d-668d-48be-badc-f3da13a00032",
   "metadata": {},
   "outputs": [],
   "source": [
    "arr_1d.argsort()"
   ]
  },
  {
   "cell_type": "code",
   "execution_count": null,
   "id": "4813d616-4197-4eca-ad4f-011680b8049e",
   "metadata": {},
   "outputs": [],
   "source": [
    "arr_1d[arr_1d.argsort()]"
   ]
  },
  {
   "cell_type": "code",
   "execution_count": null,
   "id": "b4845a71-46cb-406d-b0b2-4a2f5c8169f0",
   "metadata": {},
   "outputs": [],
   "source": []
  },
  {
   "cell_type": "code",
   "execution_count": null,
   "id": "9ede5961-c7c0-4ddf-aa88-0b4d5a006304",
   "metadata": {},
   "outputs": [],
   "source": [
    "arr_1d"
   ]
  },
  {
   "cell_type": "code",
   "execution_count": null,
   "id": "25ea233a-d39f-4aef-89e3-55c566f86706",
   "metadata": {},
   "outputs": [],
   "source": [
    "arr_1d.clip(30, 80)\n",
    "\n",
    "# outlier detection and treatment"
   ]
  },
  {
   "cell_type": "code",
   "execution_count": null,
   "id": "14d36fa0-2fd5-41b1-96de-ecb6ff2ce3bd",
   "metadata": {},
   "outputs": [],
   "source": [
    "list(zip(arr_1d, arr_1d.clip(30, 80)))"
   ]
  },
  {
   "cell_type": "code",
   "execution_count": null,
   "id": "bf55a3e0-29c6-4e3b-ab6f-b8dccd54ae19",
   "metadata": {},
   "outputs": [],
   "source": [
    "## Summary Functions"
   ]
  },
  {
   "cell_type": "code",
   "execution_count": null,
   "id": "6a49c5f3-470e-44dc-b47b-7419cc205f35",
   "metadata": {},
   "outputs": [],
   "source": [
    "arr_x = np.random.randn(75).reshape(15, 5).round(2)"
   ]
  },
  {
   "cell_type": "code",
   "execution_count": null,
   "id": "4a5148c5-6b00-4b07-a0fa-e9c3473ea67f",
   "metadata": {},
   "outputs": [],
   "source": [
    "arr_x"
   ]
  },
  {
   "cell_type": "code",
   "execution_count": null,
   "id": "d05b2c4c-fa05-446e-84c4-5d11bff6e3f0",
   "metadata": {},
   "outputs": [],
   "source": [
    "arr_x.shape"
   ]
  },
  {
   "cell_type": "code",
   "execution_count": null,
   "id": "1c83c68a-2480-4fc4-854e-9cce997e97cf",
   "metadata": {},
   "outputs": [],
   "source": []
  },
  {
   "cell_type": "code",
   "execution_count": null,
   "id": "0da070f2-a4d4-474d-83e5-ccec5215eec9",
   "metadata": {},
   "outputs": [],
   "source": []
  },
  {
   "cell_type": "code",
   "execution_count": null,
   "id": "b6c80a5b-0ded-4570-8e11-d233d1c7180f",
   "metadata": {},
   "outputs": [],
   "source": []
  },
  {
   "cell_type": "code",
   "execution_count": null,
   "id": "923898c6-364d-4d0f-8a82-21726daceeca",
   "metadata": {},
   "outputs": [],
   "source": [
    "arr_x.max(axis=1)"
   ]
  },
  {
   "cell_type": "code",
   "execution_count": null,
   "id": "cc6ec1e0-0552-4d53-8a35-ec793f1b2ce9",
   "metadata": {},
   "outputs": [],
   "source": [
    "arr_x.max(axis=0)"
   ]
  },
  {
   "cell_type": "code",
   "execution_count": null,
   "id": "077b0fbc-82d0-4d4e-942f-d9f758739116",
   "metadata": {},
   "outputs": [],
   "source": [
    "arr_x.mean(axis=1)"
   ]
  },
  {
   "cell_type": "code",
   "execution_count": null,
   "id": "2e38c822-1710-4439-ac5a-4e4e07da03c9",
   "metadata": {},
   "outputs": [],
   "source": [
    "arr_x.mean(axis=0)"
   ]
  },
  {
   "cell_type": "code",
   "execution_count": null,
   "id": "1e46e548-58bb-4752-b01e-0bcaa98c883e",
   "metadata": {},
   "outputs": [],
   "source": [
    "arr_x.std(axis=0)"
   ]
  },
  {
   "cell_type": "code",
   "execution_count": null,
   "id": "53a34163-9855-4834-9e7b-38d0aedfaec1",
   "metadata": {},
   "outputs": [],
   "source": [
    "arr_x.std?"
   ]
  },
  {
   "cell_type": "code",
   "execution_count": null,
   "id": "f955cb1b-7d90-4ba2-add3-729e48e9817c",
   "metadata": {},
   "outputs": [],
   "source": [
    "arr_x[1:, :2].max(axis=0)"
   ]
  }
 ],
 "metadata": {
  "kernelspec": {
   "display_name": "Python 3 (ipykernel)",
   "language": "python",
   "name": "python3"
  },
  "language_info": {
   "codemirror_mode": {
    "name": "ipython",
    "version": 3
   },
   "file_extension": ".py",
   "mimetype": "text/x-python",
   "name": "python",
   "nbconvert_exporter": "python",
   "pygments_lexer": "ipython3",
   "version": "3.13.3"
  }
 },
 "nbformat": 4,
 "nbformat_minor": 5
}
