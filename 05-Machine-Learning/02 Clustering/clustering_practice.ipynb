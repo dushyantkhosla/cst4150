{
 "cells": [
  {
   "cell_type": "code",
   "execution_count": 1,
   "id": "e54b1c9f-5204-4d6a-bb7e-927c4fe5cc7a",
   "metadata": {
    "tags": []
   },
   "outputs": [],
   "source": [
    "import warnings\n",
    "warnings.filterwarnings(\"ignore\")"
   ]
  },
  {
   "cell_type": "code",
   "execution_count": 2,
   "id": "ab805c1a-ff34-4649-8f4f-eefbca3add70",
   "metadata": {
    "tags": []
   },
   "outputs": [],
   "source": [
    "import os\n",
    "from pathlib import Path\n",
    "\n",
    "import numpy as np\n",
    "import pandas as pd\n",
    "\n",
    "pd.set_option('display.max_columns', None)"
   ]
  },
  {
   "cell_type": "code",
   "execution_count": 3,
   "id": "4a82a34d-bd8f-4b2a-9c10-81942d74f5d4",
   "metadata": {},
   "outputs": [],
   "source": [
    "import matplotlib.pyplot as plt\n",
    "import seaborn as sns\n",
    "\n",
    "sns.set_style(\"whitegrid\")\n",
    "sns.set_context(\"notebook\")\n",
    "\n",
    "plt.rcParams[\"figure.figsize\"] = 12, 5\n",
    "plt.rcParams[\"font.family\"] = \"monospace\""
   ]
  },
  {
   "cell_type": "code",
   "execution_count": 4,
   "id": "f4540ee8-04d2-434d-8d02-3f72d8633bd7",
   "metadata": {},
   "outputs": [],
   "source": [
    "path_root_dir = Path(os.getcwd()).parent\n",
    "os.chdir(path_root_dir)"
   ]
  },
  {
   "cell_type": "code",
   "execution_count": 5,
   "id": "db3027a5-8906-4703-b36b-01c1909d7afe",
   "metadata": {},
   "outputs": [],
   "source": [
    "path_data = f\"{path_root_dir}/data/\""
   ]
  },
  {
   "cell_type": "code",
   "execution_count": 18,
   "id": "baf2e8bc-b9d0-44d1-a314-308e6f9aef10",
   "metadata": {},
   "outputs": [],
   "source": [
    "df = pd.read_csv(f\"{path_data}/UNmin.csv\", index_col=[0, 1])"
   ]
  },
  {
   "cell_type": "code",
   "execution_count": 19,
   "id": "9e7f2f0c-5019-4ea4-885c-8815913bf5c2",
   "metadata": {},
   "outputs": [
    {
     "data": {
      "text/html": [
       "<div>\n",
       "<style scoped>\n",
       "    .dataframe tbody tr th:only-of-type {\n",
       "        vertical-align: middle;\n",
       "    }\n",
       "\n",
       "    .dataframe tbody tr th {\n",
       "        vertical-align: top;\n",
       "    }\n",
       "\n",
       "    .dataframe thead th {\n",
       "        text-align: right;\n",
       "    }\n",
       "</style>\n",
       "<table border=\"1\" class=\"dataframe\">\n",
       "  <thead>\n",
       "    <tr style=\"text-align: right;\">\n",
       "      <th></th>\n",
       "      <th></th>\n",
       "      <th>lifeMale</th>\n",
       "      <th>lifeFemale</th>\n",
       "      <th>infantMortality</th>\n",
       "      <th>GDPperCapita</th>\n",
       "    </tr>\n",
       "    <tr>\n",
       "      <th>country</th>\n",
       "      <th>region</th>\n",
       "      <th></th>\n",
       "      <th></th>\n",
       "      <th></th>\n",
       "      <th></th>\n",
       "    </tr>\n",
       "  </thead>\n",
       "  <tbody>\n",
       "    <tr>\n",
       "      <th>Afghanistan</th>\n",
       "      <th>Asia</th>\n",
       "      <td>45.0</td>\n",
       "      <td>46.0</td>\n",
       "      <td>154</td>\n",
       "      <td>2848</td>\n",
       "    </tr>\n",
       "    <tr>\n",
       "      <th>Albania</th>\n",
       "      <th>Europe</th>\n",
       "      <td>68.0</td>\n",
       "      <td>74.0</td>\n",
       "      <td>32</td>\n",
       "      <td>863</td>\n",
       "    </tr>\n",
       "    <tr>\n",
       "      <th>Algeria</th>\n",
       "      <th>Africa</th>\n",
       "      <td>67.5</td>\n",
       "      <td>70.3</td>\n",
       "      <td>44</td>\n",
       "      <td>1531</td>\n",
       "    </tr>\n",
       "    <tr>\n",
       "      <th>Angola</th>\n",
       "      <th>Africa</th>\n",
       "      <td>44.9</td>\n",
       "      <td>48.1</td>\n",
       "      <td>124</td>\n",
       "      <td>355</td>\n",
       "    </tr>\n",
       "    <tr>\n",
       "      <th>Argentina</th>\n",
       "      <th>America</th>\n",
       "      <td>69.6</td>\n",
       "      <td>76.8</td>\n",
       "      <td>22</td>\n",
       "      <td>8055</td>\n",
       "    </tr>\n",
       "    <tr>\n",
       "      <th>...</th>\n",
       "      <th>...</th>\n",
       "      <td>...</td>\n",
       "      <td>...</td>\n",
       "      <td>...</td>\n",
       "      <td>...</td>\n",
       "    </tr>\n",
       "    <tr>\n",
       "      <th>Viet.Nam</th>\n",
       "      <th>Asia</th>\n",
       "      <td>64.9</td>\n",
       "      <td>69.6</td>\n",
       "      <td>37</td>\n",
       "      <td>270</td>\n",
       "    </tr>\n",
       "    <tr>\n",
       "      <th>Yemen</th>\n",
       "      <th>Asia</th>\n",
       "      <td>57.4</td>\n",
       "      <td>58.4</td>\n",
       "      <td>80</td>\n",
       "      <td>732</td>\n",
       "    </tr>\n",
       "    <tr>\n",
       "      <th>Yugoslavia</th>\n",
       "      <th>Europe</th>\n",
       "      <td>69.8</td>\n",
       "      <td>75.3</td>\n",
       "      <td>19</td>\n",
       "      <td>1487</td>\n",
       "    </tr>\n",
       "    <tr>\n",
       "      <th>Zambia</th>\n",
       "      <th>Africa</th>\n",
       "      <td>42.2</td>\n",
       "      <td>43.7</td>\n",
       "      <td>103</td>\n",
       "      <td>382</td>\n",
       "    </tr>\n",
       "    <tr>\n",
       "      <th>Zimbabwe</th>\n",
       "      <th>Africa</th>\n",
       "      <td>47.6</td>\n",
       "      <td>49.4</td>\n",
       "      <td>68</td>\n",
       "      <td>786</td>\n",
       "    </tr>\n",
       "  </tbody>\n",
       "</table>\n",
       "<p>188 rows × 4 columns</p>\n",
       "</div>"
      ],
      "text/plain": [
       "                     lifeMale  lifeFemale  infantMortality  GDPperCapita\n",
       "country     region                                                      \n",
       "Afghanistan Asia         45.0        46.0              154          2848\n",
       "Albania     Europe       68.0        74.0               32           863\n",
       "Algeria     Africa       67.5        70.3               44          1531\n",
       "Angola      Africa       44.9        48.1              124           355\n",
       "Argentina   America      69.6        76.8               22          8055\n",
       "...                       ...         ...              ...           ...\n",
       "Viet.Nam    Asia         64.9        69.6               37           270\n",
       "Yemen       Asia         57.4        58.4               80           732\n",
       "Yugoslavia  Europe       69.8        75.3               19          1487\n",
       "Zambia      Africa       42.2        43.7              103           382\n",
       "Zimbabwe    Africa       47.6        49.4               68           786\n",
       "\n",
       "[188 rows x 4 columns]"
      ]
     },
     "execution_count": 19,
     "metadata": {},
     "output_type": "execute_result"
    }
   ],
   "source": [
    "df"
   ]
  },
  {
   "cell_type": "markdown",
   "id": "ef4e3679-8133-416d-ae2b-42b02bf3bb63",
   "metadata": {},
   "source": [
    "# Cluster the data using different algorithms"
   ]
  },
  {
   "cell_type": "code",
   "execution_count": null,
   "id": "14da4ce9-fcce-4b0e-ab7d-2c313f82dd6e",
   "metadata": {},
   "outputs": [],
   "source": []
  },
  {
   "cell_type": "code",
   "execution_count": null,
   "id": "7b30a48a-6743-45f9-a343-dc21362c94fd",
   "metadata": {},
   "outputs": [],
   "source": []
  },
  {
   "cell_type": "code",
   "execution_count": null,
   "id": "b11823be-0dfd-4c95-ae6b-c6c356f13949",
   "metadata": {},
   "outputs": [],
   "source": []
  },
  {
   "cell_type": "code",
   "execution_count": null,
   "id": "07455405-e220-4325-9f0e-08755498fae7",
   "metadata": {},
   "outputs": [],
   "source": []
  }
 ],
 "metadata": {
  "kernelspec": {
   "display_name": "Python 3 (ipykernel)",
   "language": "python",
   "name": "python3"
  },
  "language_info": {
   "codemirror_mode": {
    "name": "ipython",
    "version": 3
   },
   "file_extension": ".py",
   "mimetype": "text/x-python",
   "name": "python",
   "nbconvert_exporter": "python",
   "pygments_lexer": "ipython3",
   "version": "3.10.4"
  }
 },
 "nbformat": 4,
 "nbformat_minor": 5
}
