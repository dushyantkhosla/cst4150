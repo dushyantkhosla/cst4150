{
 "cells": [
  {
   "attachments": {},
   "cell_type": "markdown",
   "metadata": {},
   "source": [
    "# Python 101\n",
    "---\n",
    "\n",
    "## Python\n",
    "\n",
    "* For a data scientist, a programming language is just a tool to organize data, test hypothesis and build models\n",
    "* We will use Python as is a user-friendly high-level, general-purpose, dynamic and interpreted scripting language \n",
    "* It has widespread applications in\n",
    "    * developing software,\n",
    "    * building web applications,\n",
    "    * scientific computing\n",
    "    * data science\n",
    "\n",
    "This chapter is therefore intended to serve as a guide for you to learn the most pertinent and helpful features of Python that will enable you to process and analyze structured and unstructured data effectively. Remember, it is not necessary to become a proficient Python developer to do be productive as a data scientist. However, as is the case with learning any new language - you will need to acquire a decent vocabulary and be able to read and understand code.\n",
    "\n",
    "---\n",
    "## The Data Science Process\n",
    "\n",
    "What do data scientists do? OSEMN things (pronounced 'awesome')\n",
    "* `O` -> Obtain, gathering data from websites, APIs, databases, files etc. \n",
    "* `S` -> Scrub, cleaning and organising data into an analysis friendly shape and granularity \n",
    "* `E` -> Explore, visualise data and discover relationships between dependent and independent features  \n",
    "* `M` -> Model, train and test models that fit your data\n",
    "* `N` -> iNdustrialise, embed the ML or AI model into a system that feeds data into the model and receives output from it\n",
    "\n",
    "We will now take a look at Python's *standard library* and discover important building blocks that help us in accomplishing these OSEMN things\n",
    "\n",
    "---\n",
    "## Set up the Environment\n",
    "\n",
    "1. The quickest and hassle-free way to get up and running with the Python Data Science stack is by using the bundled distribution called Anaconda<br>[Download and Installation instructions: Anaconda](https://docs.anaconda.com/anaconda/install/)\n",
    "2. If you don’t want the hundreds of packages included with Anaconda, install `Miniconda`, a lighter version of Anaconda that includes only the essentials<br>[Download and Installation instructions: Miniconda](https://docs.anaconda.com/miniconda/miniconda-install/) \n",
    "3. Though not essential right now, it is useful to know about virtual environments. [Read more about environments here](https://realpython.com/python-virtual-environments-a-primer/#how-can-you-work-with-a-python-virtual-environment)\n",
    "4. Alternative: Use Python (comes pre-installed with most operating systems) and `pip`. <br>You can install the libraries required by opening the Terminal or Command Prompt and typing: \n",
    "`pip install pandas jupyterlab seaborn scikit-learn`\n",
    "\n",
    "---\n",
    "## Install Jupyter\n",
    "\n",
    "Python is an **interpreted** language, which means that the code is executed *line-by-line*. This allows for **interactive** programming, which is critical for exploratory data science. Depending on the task at hand, Python allows you the flexibility to use it in one or more of several ways.\n",
    "\n",
    "1. **The Python Interpreter** is a REPL (Read Eval Print Loop) that presents the user with a `>>>` prompt, making it very easy to run and test small snippets of code.\n",
    "2. **The IPython Shell** is richer than the basic interpreter as it provides development enhancements like command history, auto-complete suggestions and code/object introspection.\n",
    "3. **Python Scripts** allow you to bundle complex logic in files saved with the `.py` extension, which can be run all at once from the CLI using `$ python my_script.py`\n",
    "4. **Jupyter** is web-based interface to use IPython that allows authors to create engaging documents that combine *live code, narrative text*, LaTeX equations, HTML objects (images, sound and videos) and even interactive widgets. It has the following advantages\n",
    "\n",
    "    - Support for 40+ languages (including Julia, Python, R, Scala and Spark) through kernels\n",
    "    - In-line visualizations and interactive widgets\n",
    "    - Support for distributed computing\n",
    "    - Code annotations with Markdown\n",
    "\n",
    "An instance of the Jupyter Notebook can be started by typing `$ jupyter lab`\n",
    "\n",
    "This will start \n",
    "- A backend kernel process that will handle the execution of your code\n",
    "- A frontend web application (with your default browser) that allows you to edit code\n",
    "- Click on the URL that looks like `http://localhost:8888/?token=abcd1234`\n",
    "- From the *Launcher* tab, select the *Python 3* notebook\n",
    "- Please visit [Project Jupyter](http://jupyter.org) to familiarize yourself with the latest and greatest features of Jupyter.\n",
    "\n",
    "---\n",
    "## Using Notebooks\n",
    "\n",
    "- Notebooks are a collection of **cells** which can be used to write code, markdown or raw text.\n",
    "- Press `enter` to go inside a cell and type some code or text\n",
    "- Pressing `esc` puts the notebook into *command mode* and allows you to move across cells\n",
    "- When in command mode, the following shortcuts are useful\n",
    "    - `a` or `b` add a new cell above or below the current one\n",
    "    - `dd` deletes a cell\n",
    "    - `m` changes the type to markdown\n",
    "    - `y` changes the type to code\n",
    "    - `r` changes the type to raw text\n",
    "- Use `CTRL + b` to show/hide the side panel\n",
    "- Press `SHIFT + ENTER` to run a cell\n",
    "- Autocomplete object names with `tab`\n",
    "- A full list of keyboard shortcuts is available under the `Help` section\n",
    "\n",
    "---\n",
    "## Your first Python program\n",
    "\n",
    "- Go to a cell and write the code below\n",
    "- When done, press `shift + enter`\n",
    "\n",
    "```python\n",
    "print(\"Hello Python!\")\n",
    "```\n",
    "\n",
    "---\n",
    "## Another example\n",
    "\n",
    "```python\n",
    "# Declare a list of numbers\n",
    "some_data = [2, 15, -6, 28, 39, 0, 52]\n",
    "\n",
    "# Define a function \n",
    "def adder(x):\n",
    "    \"\"\"\n",
    "    This function takes as input a list of numbers, and prints whether their sum is odd or even. It returns the sum.\n",
    "    \"\"\"\n",
    "    sum = 0\n",
    "    # Loop over the list of numbers for i in x:\n",
    "    sum += i\n",
    "    if sum % 2 == 0:\n",
    "    print \"The sum is even.\"\n",
    "    else:\n",
    "    print \"The sum is odd.\"\n",
    "    return sum\n",
    "\n",
    "# Call the function\n",
    "some_data_sum = adder(some_data)\n",
    "\n",
    "# Print the output\n",
    "print(some_data_sum)\n",
    "```\n",
    "\n",
    "This should produce the following output\n",
    "\n",
    "```\n",
    "The sum is even.\n",
    "130\n",
    "```\n",
    "\n",
    "The script doesn't do much, but it's only meant to higlight some important aspects of Python syntax. \n",
    "Now let's go over the code line-by-line and understand what's happening.\n",
    "\n",
    "- Comments begin with a `#` sign\n",
    "- `some_data` is a variable name.\n",
    "- The comma-separated numbers inside square brackets `[]` make up a Python collection `list`, which are *iterable*\n",
    "- The `=` creates a binding between the variable name and the list of numbers. This is also called an *assignment*\n",
    "- *Functions* are defined with the `def` keyword. The name of this function is `adder`. Functions can optionally *return* objects\n",
    "- *Triple quotes* are used for multi-line comments. It is customary to include a *docstring* with Python functions that describes what it does\n",
    "- Blocks of code (*for-loop, if-else* block) are denoted using *indentation* and not curly braces (unlike R, Java, C++)\n",
    "    - This is critical as it enforces a style of syntax that makes most Python code looking cosmetically similar and hence improves readability.\n",
    "- A colon `:` denotes the start of an indented code block after which all of the code must be indented by the same amount until the end of the block\n",
    "- The `for` loop iterates over the list of numbers\n",
    "- The `if ... else` statement is used to check logic. (The `%` operator finds the remainder of a division.)\n",
    "- Python statements aren't terminated using semi-colons `;`\n",
    "\n",
    "---\n",
    "## The Zen of Python & Pythonic Code\n",
    "\n",
    "In a new cell, type `import this` and run it.\n",
    "You'll find a list of tenets laid down by Tim Peters that describe the philosophy of the creators of Python.\n",
    "\n",
    "One of these, is often the subject of lengthy discussions: `There should be one — and preferably only one — obvious way to do it.`\n",
    "\n",
    "Code written in accordance with this “obvious” way is often described as being **Pythonic**.\n",
    "\n",
    "On community-driven forums like *StackOverflow*, you will often find questions to the tune of - *Is there a Pythonic way of doing X?* asked by programmers who feel that the code they've written is ugly and/or too complex. Though this may seem myterious right now, as you read and write more Python code, it will become evident to you and you will begin to leverage features of the language in the fabled obvious way.\n",
    "\n",
    "As in any other language, there are often multiple ways of doing the same thing in Python, and whenever faced with such a choice, we will favor the Pythonic way over others.\n",
    "\n",
    "---\n",
    "## Getting help on-the-go\n",
    "\n",
    "Never fret or despair when you're learning Python, for help is always at hand! \n",
    "\n",
    "The Official Python documentation is built into the Jupyter ecosystem. Whenever you find yourself stuck or unclear on what a function does or whether you're typing the right syntax, just call for help by appending a `?` Question mark at the end of the object, and run the cell.\n",
    "\n",
    "For example, let's assume you don't know what the `id()` function does. You may simply write `id?` and the function's docstring will be displayed for you to read through and take note of things such as\n",
    "- What arguments does the function take?\n",
    "- What is the data type of the returned object?\n",
    "- If you need even more information on a function or object, try using a double-question mark `??`.\n",
    "\n",
    "\n",
    "Some other useful functions in the standard library include \n",
    "* `dir(object)` displays a list of `methods` associated with the object. Methods are functions embedded within objects.\n",
    "* `type(object)` shows you which type an object belongs to\n",
    "\n",
    "\n",
    "---\n",
    "\n",
    "## Advice for budding programmers\n",
    "\n",
    "To get started with learning any new **OOP** language, the very first steps you have to take include learning about:\n",
    "\n",
    "- variables, values and objects\n",
    "- data types\n",
    "- data structures\n",
    "- arithmetic, control and logical operators\n",
    "\n",
    "Remember that learning a new programming language is much like learning a new foreign language. You cannot claim to know the new language until you have:\n",
    "\n",
    "- built a decent vocabulary (conversational, at least)\n",
    "- can translate/express ideas effectively\n",
    "\n",
    "The following sections will take you through the **core** of the language - build your  vocabulary (commit certain things to memory) as you go along and try to express concepts  that you know (for example, generating numbers from the Fibonacci sequence) using what you learn."
   ]
  },
  {
   "cell_type": "markdown",
   "metadata": {},
   "source": [
    "---\n",
    "## A Note on Object Oriented Programming\n",
    "\n",
    "> Everything in Python is an Object\n",
    "\n",
    "- Objects are derived from Classes, which are definitions of data and associated methods\n",
    "    - *Car* is an object of type *Vehicle*. So is *scooter*\n",
    "    - *Human* is an object of type *Mammal*. So is *dolphin*. \n",
    "- Objects have **Attributes**, accessed by placing a dot after the object's name and with no parentheses after the attribute's name\n",
    "    - `car.num_tyres, scooter.num_tyres`\n",
    "    - `human.has_tail, dolphin.has_tail`\n",
    "- Objects also have **Methods** accessed by placing a dot after the object's name and with a parentheses after the method's name\n",
    "Methods work on the data stored inside the object. Methods can optionally take input data as `arguments` and optionally return a result\n",
    "    - `car.add_sunroof(1), scooter.drop_spare_tyre(1)`\n",
    "    - `human.add_vaccine(5), dolphin.max_depth(50)`\n",
    "\n",
    "Much of programming in Python revolves around creating Objects from Classes. \n",
    "We will then explore the methods and attributes of objects of every kind of class.\n",
    "\n",
    "For example, we can create a data table using the class DataFrame from the pandas library.\n",
    "More on libraries to come later.\n",
    "\n",
    "Much like other OOP languages, Python's object model is remarkably consistent. \n",
    "Every number, string, data structure, function, class, module etc. exists inside the interpreter in its own \"box” which is referred to as a Python object. \n",
    "\n",
    "Each object in Python has the following things associated with it.\n",
    "- a data type (for example, 'string' or 'function')\n",
    "- internal data\n",
    "- some metadata (for example, `shape, ) called attributes\n",
    "- some functions (for example, count,join,append) called methods that have access to the internal data. In other words, a methodis a function that “belongs to” an object\n",
    "- These can be accessed using the dot <obj-name>.<attribute-or-method>syntax.\n",
    "- Methods are followed by parentheses `()` as they mostly take additional parameters."
   ]
  },
  {
   "cell_type": "markdown",
   "metadata": {},
   "source": [
    "# The Python Standard Library\n",
    "\n",
    "> Python has a small set of built-in types for handling numerical data, strings, boolean (True or False) values, date/time, missing values. \n",
    "\n",
    "These are the quintessential building blocks for storing and manipulating data in Python.\n",
    "\n",
    "**Python primitives**\n",
    "\n",
    "```python\n",
    "None - The Python Null Value\n",
    "str, unicode- for strings\n",
    "int - signed integer whose maximum value is platform dependent.\n",
    "long - large ints are automatically converted to long\n",
    "float - 64-bit (double precision) floating point numbers\n",
    "bool - a True or False value\n",
    "```\n",
    "Check the data type of an object using `type()` or verify it with `isinstance()` \n",
    "The function isinstance() takes as input two things - an object and a type. It returns a True if the object belongs to the type specified.\n",
    "\n",
    "```python\n",
    "In : isinstance(2, int)\n",
    "Out: True\n",
    "\n",
    "In : type(3.41)\n",
    "Out: float\n",
    "\n",
    "In : type(None)\n",
    "Out: NoneType\n",
    "\n",
    "In : type(True)\n",
    "Out: bool\n",
    "```\n",
    "\n",
    "---\n",
    "##  Numeric Type `int`\n",
    "\n",
    "- The most basic numerical type is the int. Any number without a decimal point is an integer.\n",
    "- Pressing `tab` following a dot after an `int` object would show you all the methods associated it\n",
    "    - Use the `?` to know what a method does"
   ]
  },
  {
   "cell_type": "code",
   "execution_count": 2,
   "metadata": {},
   "outputs": [
    {
     "data": {
      "text/plain": [
       "int"
      ]
     },
     "execution_count": 2,
     "metadata": {},
     "output_type": "execute_result"
    }
   ],
   "source": [
    "x = 5\n",
    "type(x)"
   ]
  },
  {
   "cell_type": "code",
   "execution_count": null,
   "metadata": {},
   "outputs": [],
   "source": [
    "# press tab after the dot\n",
    "x."
   ]
  },
  {
   "cell_type": "markdown",
   "metadata": {},
   "source": [
    "Learn more about each of these by running commands like"
   ]
  },
  {
   "cell_type": "code",
   "execution_count": 3,
   "metadata": {},
   "outputs": [
    {
     "data": {
      "text/plain": [
       "\u001b[0;31mDocstring:\u001b[0m Returns self, the complex conjugate of any int.\n",
       "\u001b[0;31mType:\u001b[0m      builtin_function_or_method"
      ]
     },
     "metadata": {},
     "output_type": "display_data"
    }
   ],
   "source": [
    "x.conjugate?"
   ]
  },
  {
   "cell_type": "markdown",
   "metadata": {},
   "source": [
    "---\n",
    "##  Numeric Type `float`\n",
    "\n",
    "- Any number with a decimal point is stored internally as an instance of type float.\n",
    "- These can be defined in standard or scientific notation"
   ]
  },
  {
   "cell_type": "code",
   "execution_count": 4,
   "metadata": {},
   "outputs": [],
   "source": [
    "float_1 = 3.142\n",
    "float_2 = 3e8"
   ]
  },
  {
   "cell_type": "code",
   "execution_count": 5,
   "metadata": {},
   "outputs": [
    {
     "data": {
      "text/plain": [
       "(float, float)"
      ]
     },
     "execution_count": 5,
     "metadata": {},
     "output_type": "execute_result"
    }
   ],
   "source": [
    "type(float_1), type(float_2)"
   ]
  },
  {
   "cell_type": "code",
   "execution_count": null,
   "metadata": {},
   "outputs": [],
   "source": [
    "# press tab after the dot\n",
    "float_2."
   ]
  },
  {
   "cell_type": "code",
   "execution_count": 15,
   "metadata": {},
   "outputs": [
    {
     "data": {
      "text/plain": [
       "\u001b[0;31mSignature:\u001b[0m \u001b[0mfloat_1\u001b[0m\u001b[0;34m.\u001b[0m\u001b[0mis_integer\u001b[0m\u001b[0;34m(\u001b[0m\u001b[0;34m)\u001b[0m\u001b[0;34m\u001b[0m\u001b[0;34m\u001b[0m\u001b[0m\n",
       "\u001b[0;31mDocstring:\u001b[0m Return True if the float is an integer.\n",
       "\u001b[0;31mType:\u001b[0m      builtin_function_or_method"
      ]
     },
     "metadata": {},
     "output_type": "display_data"
    }
   ],
   "source": [
    "# learn more about float methods\n",
    "float_1.is_integer?"
   ]
  },
  {
   "cell_type": "markdown",
   "metadata": {},
   "source": [
    "## String Type `str`\n",
    "\n",
    "- Many programmers favor Python owing to its flexible and powerful built-in string processing capabilities.\n",
    "\n",
    "- Objects of type `str` are created with the single `'`, double `\"`, triple `\"\"\"` quotes or using the `str()` function\n",
    "\n",
    "```python\n",
    "str_1 = 'This is a string' \n",
    "str_2 = \"This too is a string\"\n",
    "str_3 = \"\"\"This is a string as well\"\"\"\n",
    "str_4 = str(1.716)\n",
    "```\n",
    "  \n",
    "- Strings are *iterables*, meaning you can loop over the characters\n",
    "\n",
    "```python\n",
    "for c in 'hello':\n",
    "    print(c)\n",
    "```\n",
    "\n",
    "- Some useful string Methods\n",
    "\n",
    "```python\n",
    "str_1 = \"a quick brown fox\"\n",
    "\n",
    "# convert to uppercase\n",
    "In : str_1.upper() \n",
    "Out: 'A QUICK BROWN FOX'\n",
    "\n",
    "# replace characters\n",
    "In : str_1.replace('fox', 'dog') \n",
    "Out: 'a quick brown dog'\n",
    "\n",
    "# split string on a delimiter and returns a list.\n",
    "In : str_1.split(' ')\n",
    "Out: ['a', 'quick', 'brown', 'fox']\n",
    "\n",
    "# returns index of first instance of a character/word \n",
    "In : str_1.find('quick') \n",
    "Out: 2\n",
    "\n",
    "# returns count of a character\n",
    "In : str_1.count('o') \n",
    "Out: 2\n",
    "\n",
    "# returns boolean if patterns match\n",
    "In : str_1.endswith('ox') \n",
    "Out: True\n",
    "```\n",
    "\n",
    "- Explore more methods using the dot and tab method"
   ]
  },
  {
   "cell_type": "code",
   "execution_count": null,
   "metadata": {},
   "outputs": [],
   "source": [
    "str_1 = \"a quick brown fox\""
   ]
  },
  {
   "cell_type": "code",
   "execution_count": null,
   "metadata": {},
   "outputs": [],
   "source": [
    "# hit tab after the dot\n",
    "str_1."
   ]
  },
  {
   "cell_type": "code",
   "execution_count": null,
   "metadata": {},
   "outputs": [],
   "source": [
    "# use the ? to explore\n",
    "str_1.capitalize?"
   ]
  },
  {
   "cell_type": "markdown",
   "metadata": {},
   "source": [
    "- **String Arithmetic**: The `+` operator concatenates strings, and the `*` operator creates copies\n",
    "\n",
    "```python\n",
    "In : str_1 + ' jumps over the' + ' lazy dog' \n",
    "Out: 'a quick brown fox jumps over the lazy dog'\n",
    "\n",
    "In : 'mango ' * 5\n",
    "Out: 'mango mango mango mango mango '\n",
    "```\n",
    "\n",
    "- Try it out yourself in the cell below:"
   ]
  },
  {
   "cell_type": "code",
   "execution_count": null,
   "metadata": {},
   "outputs": [],
   "source": []
  },
  {
   "cell_type": "markdown",
   "metadata": {},
   "source": [
    "- String can be **subscripted** allowing you to extract parts of it using square brackets `[]` and character locations/ranges\n",
    "    - **Remember that indexing in Python starts at 0 and ends at N-1**\n",
    "- It follows the syntax `my_str[start:stop:step]` \n",
    "\n",
    "```python\n",
    "In : str_1[:4]\n",
    "Out: 'This'\n",
    "```"
   ]
  },
  {
   "cell_type": "code",
   "execution_count": null,
   "metadata": {},
   "outputs": [],
   "source": [
    "s = 'a hot air balloon'"
   ]
  },
  {
   "cell_type": "code",
   "execution_count": null,
   "metadata": {},
   "outputs": [],
   "source": [
    "# Extract a single character by its position\n",
    "s[2]"
   ]
  },
  {
   "cell_type": "code",
   "execution_count": null,
   "metadata": {},
   "outputs": [],
   "source": [
    "# Extract many characters using SPLICES\n",
    "s[5:]"
   ]
  },
  {
   "cell_type": "code",
   "execution_count": null,
   "metadata": {},
   "outputs": [],
   "source": [
    "s[:10]"
   ]
  },
  {
   "cell_type": "code",
   "execution_count": null,
   "metadata": {},
   "outputs": [],
   "source": [
    "s[2:5]"
   ]
  },
  {
   "cell_type": "code",
   "execution_count": null,
   "metadata": {},
   "outputs": [],
   "source": [
    "# Skipping over characters\n",
    "s[::2]"
   ]
  },
  {
   "cell_type": "code",
   "execution_count": null,
   "metadata": {},
   "outputs": [],
   "source": [
    "s[:15:3]"
   ]
  },
  {
   "cell_type": "code",
   "execution_count": null,
   "metadata": {},
   "outputs": [],
   "source": [
    "# reverse the string\n",
    "s[::-1]"
   ]
  },
  {
   "cell_type": "code",
   "execution_count": null,
   "metadata": {},
   "outputs": [],
   "source": [
    "s.endswith('loon')"
   ]
  },
  {
   "cell_type": "code",
   "execution_count": null,
   "metadata": {},
   "outputs": [],
   "source": [
    "s.startswith('a hot')"
   ]
  },
  {
   "cell_type": "code",
   "execution_count": null,
   "metadata": {},
   "outputs": [],
   "source": [
    "# Splitting a string gives a List\n",
    "s.split(\" \")"
   ]
  },
  {
   "cell_type": "code",
   "execution_count": null,
   "metadata": {},
   "outputs": [],
   "source": [
    "list_1 = s.split(' ')\n",
    "type(list_1)"
   ]
  },
  {
   "cell_type": "markdown",
   "metadata": {},
   "source": [
    "- Find substrings within strings with the `in` keyword"
   ]
  },
  {
   "cell_type": "code",
   "execution_count": null,
   "metadata": {},
   "outputs": [],
   "source": [
    "'air' in s"
   ]
  },
  {
   "cell_type": "code",
   "execution_count": null,
   "metadata": {},
   "outputs": [],
   "source": [
    "'fare' in s"
   ]
  },
  {
   "cell_type": "markdown",
   "metadata": {},
   "source": [
    "- Also: the `find()` and `index()` methods"
   ]
  },
  {
   "cell_type": "code",
   "execution_count": null,
   "metadata": {},
   "outputs": [],
   "source": [
    "s.find('air')"
   ]
  },
  {
   "cell_type": "code",
   "execution_count": null,
   "metadata": {},
   "outputs": [],
   "source": [
    "s.find('hair')"
   ]
  },
  {
   "cell_type": "code",
   "execution_count": null,
   "metadata": {},
   "outputs": [],
   "source": [
    "s.index('hot')"
   ]
  },
  {
   "cell_type": "code",
   "execution_count": null,
   "metadata": {},
   "outputs": [],
   "source": [
    "s.index('pot')"
   ]
  },
  {
   "cell_type": "markdown",
   "metadata": {},
   "source": [
    "### TASK: Learn about and experiment with the following str methods. Think of an application for them."
   ]
  },
  {
   "cell_type": "raw",
   "metadata": {
    "collapsed": true,
    "jupyter": {
     "outputs_hidden": true
    }
   },
   "source": [
    "strip"
   ]
  },
  {
   "cell_type": "raw",
   "metadata": {
    "collapsed": true,
    "jupyter": {
     "outputs_hidden": true
    }
   },
   "source": [
    "replace"
   ]
  },
  {
   "cell_type": "raw",
   "metadata": {
    "collapsed": true,
    "jupyter": {
     "outputs_hidden": true
    }
   },
   "source": [
    "isdigit"
   ]
  },
  {
   "cell_type": "raw",
   "metadata": {
    "collapsed": true,
    "jupyter": {
     "outputs_hidden": true
    }
   },
   "source": [
    "join"
   ]
  },
  {
   "cell_type": "markdown",
   "metadata": {},
   "source": [
    "---\n",
    "##  Type Conversion functions\n",
    "\n",
    "- Convert to float using `float()`\n",
    "- Convert to int using `int()`\n",
    "- Convert to str using `str()`"
   ]
  },
  {
   "cell_type": "code",
   "execution_count": 16,
   "metadata": {},
   "outputs": [
    {
     "data": {
      "text/plain": [
       "3"
      ]
     },
     "execution_count": 16,
     "metadata": {},
     "output_type": "execute_result"
    }
   ],
   "source": [
    "int(3.142)"
   ]
  },
  {
   "cell_type": "code",
   "execution_count": 17,
   "metadata": {},
   "outputs": [
    {
     "data": {
      "text/plain": [
       "42.0"
      ]
     },
     "execution_count": 17,
     "metadata": {},
     "output_type": "execute_result"
    }
   ],
   "source": [
    "float(42)"
   ]
  },
  {
   "cell_type": "code",
   "execution_count": 21,
   "metadata": {},
   "outputs": [
    {
     "data": {
      "text/plain": [
       "42"
      ]
     },
     "execution_count": 21,
     "metadata": {},
     "output_type": "execute_result"
    }
   ],
   "source": [
    "int('42')"
   ]
  },
  {
   "cell_type": "code",
   "execution_count": 20,
   "metadata": {},
   "outputs": [
    {
     "data": {
      "text/plain": [
       "3.142"
      ]
     },
     "execution_count": 20,
     "metadata": {},
     "output_type": "execute_result"
    }
   ],
   "source": [
    "float('3.142')"
   ]
  },
  {
   "cell_type": "code",
   "execution_count": 23,
   "metadata": {},
   "outputs": [
    {
     "data": {
      "text/plain": [
       "'3'"
      ]
     },
     "execution_count": 23,
     "metadata": {},
     "output_type": "execute_result"
    }
   ],
   "source": [
    "str(3)"
   ]
  },
  {
   "cell_type": "code",
   "execution_count": 24,
   "metadata": {},
   "outputs": [
    {
     "data": {
      "text/plain": [
       "'3.142'"
      ]
     },
     "execution_count": 24,
     "metadata": {},
     "output_type": "execute_result"
    }
   ],
   "source": [
    "str(3.142)"
   ]
  },
  {
   "cell_type": "markdown",
   "metadata": {},
   "source": [
    "### Task: Fix the error in this"
   ]
  },
  {
   "cell_type": "raw",
   "metadata": {},
   "source": [
    "'I have eaten ' + 99 + ' burritos'"
   ]
  },
  {
   "cell_type": "markdown",
   "metadata": {},
   "source": [
    "---\n",
    "## Type `bool`\n",
    "\n",
    "- Useful in conditional programming"
   ]
  },
  {
   "cell_type": "code",
   "execution_count": 65,
   "metadata": {},
   "outputs": [
    {
     "data": {
      "text/plain": [
       "True"
      ]
     },
     "execution_count": 65,
     "metadata": {},
     "output_type": "execute_result"
    }
   ],
   "source": [
    "1 == 1"
   ]
  },
  {
   "cell_type": "code",
   "execution_count": 66,
   "metadata": {},
   "outputs": [
    {
     "data": {
      "text/plain": [
       "False"
      ]
     },
     "execution_count": 66,
     "metadata": {},
     "output_type": "execute_result"
    }
   ],
   "source": [
    "1 != 1"
   ]
  },
  {
   "cell_type": "code",
   "execution_count": 67,
   "metadata": {},
   "outputs": [
    {
     "data": {
      "text/plain": [
       "True"
      ]
     },
     "execution_count": 67,
     "metadata": {},
     "output_type": "execute_result"
    }
   ],
   "source": [
    "4 < 5"
   ]
  },
  {
   "cell_type": "code",
   "execution_count": 68,
   "metadata": {},
   "outputs": [
    {
     "data": {
      "text/plain": [
       "False"
      ]
     },
     "execution_count": 68,
     "metadata": {},
     "output_type": "execute_result"
    }
   ],
   "source": [
    "5 < 2"
   ]
  },
  {
   "cell_type": "code",
   "execution_count": 69,
   "metadata": {},
   "outputs": [
    {
     "data": {
      "text/plain": [
       "False"
      ]
     },
     "execution_count": 69,
     "metadata": {},
     "output_type": "execute_result"
    }
   ],
   "source": [
    "(4 < 5) and (5 < 2)"
   ]
  },
  {
   "cell_type": "code",
   "execution_count": 70,
   "metadata": {},
   "outputs": [],
   "source": [
    "x = True"
   ]
  },
  {
   "cell_type": "code",
   "execution_count": 71,
   "metadata": {},
   "outputs": [
    {
     "data": {
      "text/plain": [
       "bool"
      ]
     },
     "execution_count": 71,
     "metadata": {},
     "output_type": "execute_result"
    }
   ],
   "source": [
    "type(x)"
   ]
  },
  {
   "cell_type": "code",
   "execution_count": 72,
   "metadata": {},
   "outputs": [
    {
     "data": {
      "text/plain": [
       "True"
      ]
     },
     "execution_count": 72,
     "metadata": {},
     "output_type": "execute_result"
    }
   ],
   "source": [
    "isinstance(x, bool)"
   ]
  },
  {
   "cell_type": "code",
   "execution_count": 73,
   "metadata": {},
   "outputs": [
    {
     "ename": "SyntaxError",
     "evalue": "invalid syntax (1209101337.py, line 1)",
     "output_type": "error",
     "traceback": [
      "\u001b[0;36m  Cell \u001b[0;32mIn[73], line 1\u001b[0;36m\u001b[0m\n\u001b[0;31m    x.\u001b[0m\n\u001b[0m      ^\u001b[0m\n\u001b[0;31mSyntaxError\u001b[0m\u001b[0;31m:\u001b[0m invalid syntax\n"
     ]
    }
   ],
   "source": [
    "# explore methods\n",
    "x."
   ]
  },
  {
   "cell_type": "code",
   "execution_count": 74,
   "metadata": {},
   "outputs": [
    {
     "data": {
      "text/plain": [
       "False"
      ]
     },
     "execution_count": 74,
     "metadata": {},
     "output_type": "execute_result"
    }
   ],
   "source": [
    "bool([])"
   ]
  },
  {
   "cell_type": "markdown",
   "metadata": {},
   "source": [
    "## The `None` type\n",
    "\n",
    "- useful for denoting missing data"
   ]
  },
  {
   "cell_type": "code",
   "execution_count": 80,
   "metadata": {},
   "outputs": [],
   "source": [
    "x = None"
   ]
  },
  {
   "cell_type": "code",
   "execution_count": 83,
   "metadata": {},
   "outputs": [
    {
     "data": {
      "text/plain": [
       "NoneType"
      ]
     },
     "execution_count": 83,
     "metadata": {},
     "output_type": "execute_result"
    }
   ],
   "source": [
    "type(x)"
   ]
  },
  {
   "cell_type": "code",
   "execution_count": 76,
   "metadata": {},
   "outputs": [],
   "source": [
    "x.\n",
    "# no methods or attributes"
   ]
  },
  {
   "cell_type": "code",
   "execution_count": 77,
   "metadata": {},
   "outputs": [
    {
     "data": {
      "text/plain": [
       "True"
      ]
     },
     "execution_count": 77,
     "metadata": {},
     "output_type": "execute_result"
    }
   ],
   "source": [
    "x == None"
   ]
  },
  {
   "cell_type": "code",
   "execution_count": 84,
   "metadata": {},
   "outputs": [
    {
     "data": {
      "text/plain": [
       "True"
      ]
     },
     "execution_count": 84,
     "metadata": {},
     "output_type": "execute_result"
    }
   ],
   "source": [
    "isinstance(x, type(None))"
   ]
  },
  {
   "cell_type": "markdown",
   "metadata": {},
   "source": [
    "---\n",
    "## Importing Modules (or Libraries)\n",
    "\n",
    "Modules are collections of Classes, Functions and other objects created by someone that you can *import* into your workspace and use.\n",
    "So far, we've worked only with the Standard Library and the objects within it.\n",
    "\n",
    "Python's functionality is extended via Modules that contain specialzed sets of objects for a variety of domains like astronomy, machine learning, biological research, web development and so on.\n",
    "\n",
    "There are 3 ways of doing this\n",
    "\n",
    "1. Import the entire module (**not** recommended)\n",
    "\n",
    "~~import pandas~~ <br>\n",
    "~~pandas.DataFrame~~\n",
    "\n",
    "Also avoid writing `from pandas import *`\n",
    "\n",
    "2. Provide an alias (recommended)\n",
    "\n",
    "```python\n",
    "import pandas as pd\n",
    "pd.DataFrame\n",
    "```\n",
    "\n",
    "3. Import whatever you need (recommended)\n",
    "\n",
    "```python\n",
    "from pandas import DataFrame\n",
    "DataFrame\n",
    "```"
   ]
  },
  {
   "cell_type": "markdown",
   "metadata": {},
   "source": [
    "# Flow Control\n",
    "\n",
    "---\n",
    "\n",
    "$Traditional$\n",
    "\n",
    "---\n",
    "\n",
    "```python\n",
    "if condition:\n",
    "    action\n",
    "else:\n",
    "    alternative\n",
    "```\n",
    "\n",
    "---\n",
    "\n",
    "$Ternary$\n",
    "\n",
    "```python\n",
    "action if condition else alternative        \n",
    "```"
   ]
  },
  {
   "cell_type": "code",
   "execution_count": 86,
   "metadata": {},
   "outputs": [
    {
     "name": "stdout",
     "output_type": "stream",
     "text": [
      "this person is male\n"
     ]
    }
   ],
   "source": [
    "name = 'Mr A'\n",
    "\n",
    "\n",
    "if 'Mrs' in name:\n",
    "    print(\"this person is female\")\n",
    "else:\n",
    "    print(\"this person is male\")"
   ]
  },
  {
   "cell_type": "code",
   "execution_count": 87,
   "metadata": {},
   "outputs": [
    {
     "data": {
      "text/plain": [
       "'male'"
      ]
     },
     "execution_count": 87,
     "metadata": {},
     "output_type": "execute_result"
    }
   ],
   "source": [
    "('female' if 'Mrs' in name else 'male')"
   ]
  },
  {
   "cell_type": "markdown",
   "metadata": {},
   "source": [
    "Example 2"
   ]
  },
  {
   "cell_type": "code",
   "execution_count": 88,
   "metadata": {},
   "outputs": [],
   "source": [
    "name = 'Alex'"
   ]
  },
  {
   "cell_type": "code",
   "execution_count": 89,
   "metadata": {},
   "outputs": [
    {
     "name": "stdout",
     "output_type": "stream",
     "text": [
      "Hi Alex\n"
     ]
    }
   ],
   "source": [
    "if (name == 'Alex'):\n",
    "    print('Hi Alex')"
   ]
  },
  {
   "cell_type": "code",
   "execution_count": 90,
   "metadata": {},
   "outputs": [
    {
     "name": "stdout",
     "output_type": "stream",
     "text": [
      "You are not Alice\n"
     ]
    }
   ],
   "source": [
    "if name != 'Alice':\n",
    "    print('You are not Alice')"
   ]
  },
  {
   "cell_type": "code",
   "execution_count": 91,
   "metadata": {},
   "outputs": [
    {
     "name": "stdout",
     "output_type": "stream",
     "text": [
      "Success\n"
     ]
    }
   ],
   "source": [
    "if (5>1):\n",
    "    print('Success')"
   ]
  },
  {
   "cell_type": "code",
   "execution_count": 92,
   "metadata": {},
   "outputs": [],
   "source": [
    "name = 'John'"
   ]
  },
  {
   "cell_type": "code",
   "execution_count": 93,
   "metadata": {},
   "outputs": [
    {
     "name": "stdout",
     "output_type": "stream",
     "text": [
      "How are you?\n"
     ]
    }
   ],
   "source": [
    "if name == 'John':\n",
    "    print('How are you?')\n",
    "else:\n",
    "    print('Nice to meet you.')"
   ]
  },
  {
   "cell_type": "code",
   "execution_count": 94,
   "metadata": {},
   "outputs": [],
   "source": [
    "name = 'Johny'\n",
    "age = 15\n",
    "lastname = 'Noel'"
   ]
  },
  {
   "cell_type": "code",
   "execution_count": 95,
   "metadata": {},
   "outputs": [
    {
     "name": "stdout",
     "output_type": "stream",
     "text": [
      "You're just a teenager\n"
     ]
    }
   ],
   "source": [
    "if (name == 'John'):\n",
    "    print('How are you?')\n",
    "elif age < 18:\n",
    "    print(\"You're just a teenager\")\n",
    "elif (lastname == 'Doe'):\n",
    "    print(\"Never heard that name before\")\n",
    "else:\n",
    "    print('you do not qualify')"
   ]
  },
  {
   "cell_type": "markdown",
   "metadata": {},
   "source": [
    "---\n",
    "### Expressing Complex Logic"
   ]
  },
  {
   "cell_type": "code",
   "execution_count": 96,
   "metadata": {},
   "outputs": [
    {
     "data": {
      "text/plain": [
       "False"
      ]
     },
     "execution_count": 96,
     "metadata": {},
     "output_type": "execute_result"
    }
   ],
   "source": [
    "(5 > 2) & (10 < 3)"
   ]
  },
  {
   "cell_type": "code",
   "execution_count": 97,
   "metadata": {},
   "outputs": [
    {
     "data": {
      "text/plain": [
       "True"
      ]
     },
     "execution_count": 97,
     "metadata": {},
     "output_type": "execute_result"
    }
   ],
   "source": [
    "(5 > 2) | (10 < 3)"
   ]
  },
  {
   "cell_type": "code",
   "execution_count": 98,
   "metadata": {},
   "outputs": [
    {
     "data": {
      "text/plain": [
       "False"
      ]
     },
     "execution_count": 98,
     "metadata": {},
     "output_type": "execute_result"
    }
   ],
   "source": [
    "(5 > 2) and (10 < 3)"
   ]
  },
  {
   "cell_type": "code",
   "execution_count": 99,
   "metadata": {},
   "outputs": [
    {
     "data": {
      "text/plain": [
       "True"
      ]
     },
     "execution_count": 99,
     "metadata": {},
     "output_type": "execute_result"
    }
   ],
   "source": [
    "(5 > 2) or (10 < 3)"
   ]
  },
  {
   "cell_type": "markdown",
   "metadata": {},
   "source": [
    "## TERNARY IF-THEN-ELSE"
   ]
  },
  {
   "cell_type": "code",
   "execution_count": 100,
   "metadata": {},
   "outputs": [
    {
     "data": {
      "text/plain": [
       "1"
      ]
     },
     "execution_count": 100,
     "metadata": {},
     "output_type": "execute_result"
    }
   ],
   "source": [
    "x = 5; y = 3\n",
    "\n",
    "1 if x > y else 0"
   ]
  },
  {
   "cell_type": "code",
   "execution_count": 101,
   "metadata": {},
   "outputs": [],
   "source": [
    "name = 'John'"
   ]
  },
  {
   "cell_type": "code",
   "execution_count": 103,
   "metadata": {},
   "outputs": [
    {
     "data": {
      "text/plain": [
       "'How are you'"
      ]
     },
     "execution_count": 103,
     "metadata": {},
     "output_type": "execute_result"
    }
   ],
   "source": [
    "'How are you' if name == 'John' else 'Hello Stranger!'"
   ]
  },
  {
   "cell_type": "code",
   "execution_count": 105,
   "metadata": {},
   "outputs": [
    {
     "name": "stdout",
     "output_type": "stream",
     "text": [
      "How are you\n"
     ]
    }
   ],
   "source": [
    "if name == 'John':\n",
    "    print('How are you')\n",
    "else:\n",
    "    print('Pleased to meet you.')"
   ]
  },
  {
   "cell_type": "markdown",
   "metadata": {},
   "source": [
    "### TASK\n",
    "\n",
    "The marks for a student in six subjects are as: 78, 93, 81, 84, 57 and 90\n",
    "\n",
    "\n",
    "Use the if-else construct to print his grades in each subject:\n",
    "\n",
    "- A: 90+\n",
    "- B: 80-90\n",
    "- C: 60-80\n",
    "- D: 40-60\n",
    "- E: under 40"
   ]
  },
  {
   "cell_type": "code",
   "execution_count": null,
   "metadata": {},
   "outputs": [],
   "source": []
  },
  {
   "cell_type": "markdown",
   "metadata": {},
   "source": [
    "---\n",
    "\n",
    "# The `for` Loop"
   ]
  },
  {
   "cell_type": "markdown",
   "metadata": {},
   "source": [
    "- Generating numbers for iterating over"
   ]
  },
  {
   "cell_type": "code",
   "execution_count": 108,
   "metadata": {},
   "outputs": [
    {
     "data": {
      "text/plain": [
       "[0, 2, 4, 6, 8]"
      ]
     },
     "execution_count": 108,
     "metadata": {},
     "output_type": "execute_result"
    }
   ],
   "source": [
    "list(range(0, 10, 2))"
   ]
  },
  {
   "cell_type": "code",
   "execution_count": 109,
   "metadata": {},
   "outputs": [
    {
     "ename": "TypeError",
     "evalue": "'float' object cannot be interpreted as an integer",
     "output_type": "error",
     "traceback": [
      "\u001b[0;31m---------------------------------------------------------------------------\u001b[0m",
      "\u001b[0;31mTypeError\u001b[0m                                 Traceback (most recent call last)",
      "Cell \u001b[0;32mIn[109], line 1\u001b[0m\n\u001b[0;32m----> 1\u001b[0m \u001b[38;5;28mlist\u001b[39m(\u001b[38;5;28mrange\u001b[39m(\u001b[38;5;241m0\u001b[39m, \u001b[38;5;241m1\u001b[39m, \u001b[38;5;241m.2\u001b[39m))\n",
      "\u001b[0;31mTypeError\u001b[0m: 'float' object cannot be interpreted as an integer"
     ]
    }
   ],
   "source": [
    "list(range(0, 1, .2))"
   ]
  },
  {
   "cell_type": "code",
   "execution_count": 110,
   "metadata": {},
   "outputs": [
    {
     "data": {
      "text/plain": [
       "array([0. , 0.2, 0.4, 0.6, 0.8])"
      ]
     },
     "execution_count": 110,
     "metadata": {},
     "output_type": "execute_result"
    }
   ],
   "source": [
    "import numpy as np\n",
    "np.arange(0, 1, .2)"
   ]
  },
  {
   "cell_type": "code",
   "execution_count": 111,
   "metadata": {},
   "outputs": [
    {
     "data": {
      "text/plain": [
       "array([0.        , 0.02040816, 0.04081633, 0.06122449, 0.08163265,\n",
       "       0.10204082, 0.12244898, 0.14285714, 0.16326531, 0.18367347,\n",
       "       0.20408163, 0.2244898 , 0.24489796, 0.26530612, 0.28571429,\n",
       "       0.30612245, 0.32653061, 0.34693878, 0.36734694, 0.3877551 ,\n",
       "       0.40816327, 0.42857143, 0.44897959, 0.46938776, 0.48979592,\n",
       "       0.51020408, 0.53061224, 0.55102041, 0.57142857, 0.59183673,\n",
       "       0.6122449 , 0.63265306, 0.65306122, 0.67346939, 0.69387755,\n",
       "       0.71428571, 0.73469388, 0.75510204, 0.7755102 , 0.79591837,\n",
       "       0.81632653, 0.83673469, 0.85714286, 0.87755102, 0.89795918,\n",
       "       0.91836735, 0.93877551, 0.95918367, 0.97959184, 1.        ])"
      ]
     },
     "execution_count": 111,
     "metadata": {},
     "output_type": "execute_result"
    }
   ],
   "source": [
    "np.linspace(0, 1, 50)"
   ]
  },
  {
   "cell_type": "markdown",
   "metadata": {},
   "source": [
    "- Lists are iterables"
   ]
  },
  {
   "cell_type": "code",
   "execution_count": 115,
   "metadata": {},
   "outputs": [
    {
     "name": "stdout",
     "output_type": "stream",
     "text": [
      "50\n",
      "60\n",
      "70\n",
      "80\n",
      "90\n",
      "100\n"
     ]
    }
   ],
   "source": [
    "r = range(50, 101, 10)\n",
    "\n",
    "for i in r:\n",
    "    print(i)"
   ]
  },
  {
   "cell_type": "code",
   "execution_count": 117,
   "metadata": {},
   "outputs": [
    {
     "name": "stdout",
     "output_type": "stream",
     "text": [
      "60\n",
      "70\n",
      "80\n",
      "90\n",
      "100\n",
      "110\n"
     ]
    }
   ],
   "source": [
    "for i in r:\n",
    "    i = i+10\n",
    "    print(i)"
   ]
  },
  {
   "cell_type": "code",
   "execution_count": 120,
   "metadata": {},
   "outputs": [
    {
     "name": "stdout",
     "output_type": "stream",
     "text": [
      "The sky is blue. \n",
      "\n",
      "The\n",
      "Sky\n",
      "Is\n",
      "Blue.\n"
     ]
    }
   ],
   "source": [
    "my_str = 'The sky is blue.'\n",
    "print(my_str, '\\n')\n",
    "\n",
    "for i in my_str.split(' '):\n",
    "    print(i.capitalize())"
   ]
  },
  {
   "cell_type": "markdown",
   "metadata": {},
   "source": [
    "---\n",
    "\n",
    "### Task 3: Print all PRIME numbers between 0 and 100\n",
    "\n",
    "- Prime Numbers are those that are divisble only by 1 and themselves"
   ]
  },
  {
   "cell_type": "raw",
   "metadata": {
    "collapsed": true,
    "jupyter": {
     "outputs_hidden": true
    }
   },
   "source": [
    "# %load primes.py\n",
    "\n",
    "for i in range(2, 100):\n",
    "    check = 0\n",
    "    for j in range(2, i-1):\n",
    "        if i%j == 0:\n",
    "            check = 1\n",
    "            break\n",
    "    if check == 0:\n",
    "        print i, "
   ]
  },
  {
   "cell_type": "markdown",
   "metadata": {},
   "source": [
    "### Task 4: Primes till a given number"
   ]
  },
  {
   "cell_type": "raw",
   "metadata": {
    "collapsed": true,
    "jupyter": {
     "outputs_hidden": true
    }
   },
   "source": [
    "# %load primes2.py\n",
    "\n",
    "num = input('get the value:')\n",
    "\n",
    "for i in range(2,num+1):\n",
    "    count = 0\n",
    "    for j in range(2,i):\n",
    "        if i%j != 0:\n",
    "            count += 1\n",
    "            if count == i-2:\n",
    "                print i,"
   ]
  },
  {
   "cell_type": "markdown",
   "metadata": {},
   "source": [
    "---\n",
    "\n",
    "### Task 4: Solve the grading problem above using a for loop.\n",
    "\n",
    "Hint: Put the scores inside a list.\n",
    "\n",
    "Here's how you declare a list\n",
    "\n",
    "    my_list = [12, 17, 21, 24]"
   ]
  },
  {
   "cell_type": "code",
   "execution_count": null,
   "metadata": {},
   "outputs": [],
   "source": []
  },
  {
   "cell_type": "markdown",
   "metadata": {},
   "source": [
    "### Task 5: Print this pattern using `for` loops\n",
    "\n",
    "    *\n",
    "    **\n",
    "    ***\n",
    "    ****\n",
    "    *****\n",
    "    *****\n",
    "    ****\n",
    "    ***\n",
    "    **\n",
    "    *"
   ]
  }
 ],
 "metadata": {
  "kernelspec": {
   "display_name": "Python 3 (ipykernel)",
   "language": "python",
   "name": "python3"
  },
  "language_info": {
   "codemirror_mode": {
    "name": "ipython",
    "version": 3
   },
   "file_extension": ".py",
   "mimetype": "text/x-python",
   "name": "python",
   "nbconvert_exporter": "python",
   "pygments_lexer": "ipython3",
   "version": "3.12.5"
  }
 },
 "nbformat": 4,
 "nbformat_minor": 4
}
